{
  "nbformat": 4,
  "nbformat_minor": 0,
  "metadata": {
    "colab": {
      "name": "TMDB Box Office Revenue Prediction.ipynb",
      "version": "0.3.2",
      "provenance": [],
      "collapsed_sections": [],
      "include_colab_link": true
    },
    "kernelspec": {
      "name": "python3",
      "display_name": "Python 3"
    },
    "accelerator": "GPU"
  },
  "cells": [
    {
      "cell_type": "markdown",
      "metadata": {
        "id": "view-in-github",
        "colab_type": "text"
      },
      "source": [
        "<a href=\"https://colab.research.google.com/github/pkpk1717/TMDB-Box-office-revenue/blob/master/TMDB_Box_Office_Revenue_Prediction.ipynb\" target=\"_parent\"><img src=\"https://colab.research.google.com/assets/colab-badge.svg\" alt=\"Open In Colab\"/></a>"
      ]
    },
    {
      "metadata": {
        "id": "noNwgSs5Tcix",
        "colab_type": "code",
        "colab": {}
      },
      "cell_type": "code",
      "source": [
        "import numpy as np\n",
        "import pandas as pd\n",
        "import matplotlib.pyplot as plt\n",
        "import seaborn as sns\n",
        "%matplotlib inline"
      ],
      "execution_count": 0,
      "outputs": []
    },
    {
      "metadata": {
        "id": "_FE-IdrtT1r3",
        "colab_type": "code",
        "outputId": "226ef01a-38af-4c07-e585-56eb1d27b7b8",
        "colab": {
          "base_uri": "https://localhost:8080/",
          "height": 51
        }
      },
      "cell_type": "code",
      "source": [
        "import os\n",
        "import zipfile\n",
        "!pip install -U -q PyDrive\n",
        "from pydrive.auth import GoogleAuth\n",
        "from pydrive.drive import GoogleDrive\n",
        "from google.colab import auth\n",
        "from oauth2client.client import GoogleCredentials\n",
        "import shutil"
      ],
      "execution_count": 2,
      "outputs": [
        {
          "output_type": "stream",
          "text": [
            "\u001b[?25l\r\u001b[K    1% |▎                               | 10kB 21.7MB/s eta 0:00:01\r\u001b[K    2% |▋                               | 20kB 2.2MB/s eta 0:00:01\r\u001b[K    3% |█                               | 30kB 3.2MB/s eta 0:00:01\r\u001b[K    4% |█▎                              | 40kB 2.1MB/s eta 0:00:01\r\u001b[K    5% |█▋                              | 51kB 2.6MB/s eta 0:00:01\r\u001b[K    6% |██                              | 61kB 3.1MB/s eta 0:00:01\r\u001b[K    7% |██▎                             | 71kB 3.5MB/s eta 0:00:01\r\u001b[K    8% |██▋                             | 81kB 4.0MB/s eta 0:00:01\r\u001b[K    9% |███                             | 92kB 4.4MB/s eta 0:00:01\r\u001b[K    10% |███▎                            | 102kB 3.4MB/s eta 0:00:01\r\u001b[K    11% |███▋                            | 112kB 3.5MB/s eta 0:00:01\r\u001b[K    12% |████                            | 122kB 4.8MB/s eta 0:00:01\r\u001b[K    13% |████▎                           | 133kB 4.8MB/s eta 0:00:01\r\u001b[K    14% |████▋                           | 143kB 8.8MB/s eta 0:00:01\r\u001b[K    15% |█████                           | 153kB 8.9MB/s eta 0:00:01\r\u001b[K    16% |█████▎                          | 163kB 8.9MB/s eta 0:00:01\r\u001b[K    17% |█████▋                          | 174kB 9.0MB/s eta 0:00:01\r\u001b[K    18% |██████                          | 184kB 9.0MB/s eta 0:00:01\r\u001b[K    19% |██████▎                         | 194kB 9.0MB/s eta 0:00:01\r\u001b[K    20% |██████▋                         | 204kB 34.0MB/s eta 0:00:01\r\u001b[K    21% |███████                         | 215kB 10.5MB/s eta 0:00:01\r\u001b[K    22% |███████▎                        | 225kB 10.5MB/s eta 0:00:01\r\u001b[K    23% |███████▋                        | 235kB 10.6MB/s eta 0:00:01\r\u001b[K    24% |████████                        | 245kB 10.7MB/s eta 0:00:01\r\u001b[K    25% |████████▎                       | 256kB 10.7MB/s eta 0:00:01\r\u001b[K    26% |████████▋                       | 266kB 10.5MB/s eta 0:00:01\r\u001b[K    27% |█████████                       | 276kB 10.6MB/s eta 0:00:01\r\u001b[K    29% |█████████▎                      | 286kB 10.7MB/s eta 0:00:01\r\u001b[K    30% |█████████▋                      | 296kB 10.8MB/s eta 0:00:01\r\u001b[K    31% |██████████                      | 307kB 11.1MB/s eta 0:00:01\r\u001b[K    32% |██████████▎                     | 317kB 45.7MB/s eta 0:00:01\r\u001b[K    33% |██████████▋                     | 327kB 46.2MB/s eta 0:00:01\r\u001b[K    34% |███████████                     | 337kB 46.7MB/s eta 0:00:01\r\u001b[K    35% |███████████▎                    | 348kB 44.1MB/s eta 0:00:01\r\u001b[K    36% |███████████▋                    | 358kB 44.3MB/s eta 0:00:01\r\u001b[K    37% |████████████                    | 368kB 49.4MB/s eta 0:00:01\r\u001b[K    38% |████████████▎                   | 378kB 49.0MB/s eta 0:00:01\r\u001b[K    39% |████████████▋                   | 389kB 49.2MB/s eta 0:00:01\r\u001b[K    40% |█████████████                   | 399kB 12.2MB/s eta 0:00:01\r\u001b[K    41% |█████████████▎                  | 409kB 12.1MB/s eta 0:00:01\r\u001b[K    42% |█████████████▋                  | 419kB 12.1MB/s eta 0:00:01\r\u001b[K    43% |██████████████                  | 430kB 12.0MB/s eta 0:00:01\r\u001b[K    44% |██████████████▎                 | 440kB 12.0MB/s eta 0:00:01\r\u001b[K    45% |██████████████▋                 | 450kB 12.1MB/s eta 0:00:01\r\u001b[K    46% |███████████████                 | 460kB 12.0MB/s eta 0:00:01\r\u001b[K    47% |███████████████▎                | 471kB 12.1MB/s eta 0:00:01\r\u001b[K    48% |███████████████▋                | 481kB 12.0MB/s eta 0:00:01\r\u001b[K    49% |████████████████                | 491kB 12.0MB/s eta 0:00:01\r\u001b[K    50% |████████████████▎               | 501kB 45.1MB/s eta 0:00:01\r\u001b[K    51% |████████████████▋               | 512kB 44.8MB/s eta 0:00:01\r\u001b[K    52% |█████████████████               | 522kB 44.9MB/s eta 0:00:01\r\u001b[K    53% |█████████████████▎              | 532kB 48.2MB/s eta 0:00:01\r\u001b[K    54% |█████████████████▋              | 542kB 47.9MB/s eta 0:00:01\r\u001b[K    55% |██████████████████              | 552kB 50.1MB/s eta 0:00:01\r\u001b[K    57% |██████████████████▎             | 563kB 50.2MB/s eta 0:00:01\r\u001b[K    58% |██████████████████▋             | 573kB 49.3MB/s eta 0:00:01\r\u001b[K    59% |███████████████████             | 583kB 49.3MB/s eta 0:00:01\r\u001b[K    60% |███████████████████▎            | 593kB 50.1MB/s eta 0:00:01\r\u001b[K    61% |███████████████████▋            | 604kB 50.6MB/s eta 0:00:01\r\u001b[K    62% |████████████████████            | 614kB 52.2MB/s eta 0:00:01\r\u001b[K    63% |████████████████████▎           | 624kB 48.9MB/s eta 0:00:01\r\u001b[K    64% |████████████████████▋           | 634kB 46.7MB/s eta 0:00:01\r\u001b[K    65% |█████████████████████           | 645kB 48.0MB/s eta 0:00:01\r\u001b[K    66% |█████████████████████▎          | 655kB 47.9MB/s eta 0:00:01\r\u001b[K    67% |█████████████████████▋          | 665kB 40.6MB/s eta 0:00:01\r\u001b[K    68% |██████████████████████          | 675kB 15.9MB/s eta 0:00:01\r\u001b[K    69% |██████████████████████▎         | 686kB 15.8MB/s eta 0:00:01\r\u001b[K    70% |██████████████████████▋         | 696kB 15.6MB/s eta 0:00:01\r\u001b[K    71% |███████████████████████         | 706kB 15.4MB/s eta 0:00:01\r\u001b[K    72% |███████████████████████▎        | 716kB 15.6MB/s eta 0:00:01\r\u001b[K    73% |███████████████████████▋        | 727kB 15.8MB/s eta 0:00:01\r\u001b[K    74% |████████████████████████        | 737kB 15.8MB/s eta 0:00:01\r\u001b[K    75% |████████████████████████▎       | 747kB 15.8MB/s eta 0:00:01\r\u001b[K    76% |████████████████████████▋       | 757kB 15.8MB/s eta 0:00:01\r\u001b[K    77% |████████████████████████▉       | 768kB 16.8MB/s eta 0:00:01\r\u001b[K    78% |█████████████████████████▏      | 778kB 47.2MB/s eta 0:00:01\r\u001b[K    79% |█████████████████████████▌      | 788kB 47.7MB/s eta 0:00:01\r\u001b[K    80% |█████████████████████████▉      | 798kB 48.7MB/s eta 0:00:01\r\u001b[K    81% |██████████████████████████▏     | 808kB 50.2MB/s eta 0:00:01\r\u001b[K    82% |██████████████████████████▌     | 819kB 49.8MB/s eta 0:00:01\r\u001b[K    83% |██████████████████████████▉     | 829kB 51.2MB/s eta 0:00:01\r\u001b[K    85% |███████████████████████████▏    | 839kB 52.2MB/s eta 0:00:01\r\u001b[K    86% |███████████████████████████▌    | 849kB 53.2MB/s eta 0:00:01\r\u001b[K    87% |███████████████████████████▉    | 860kB 48.4MB/s eta 0:00:01\r\u001b[K    88% |████████████████████████████▏   | 870kB 48.1MB/s eta 0:00:01\r\u001b[K    89% |████████████████████████████▌   | 880kB 48.5MB/s eta 0:00:01\r\u001b[K    90% |████████████████████████████▉   | 890kB 49.3MB/s eta 0:00:01\r\u001b[K    91% |█████████████████████████████▏  | 901kB 49.0MB/s eta 0:00:01\r\u001b[K    92% |█████████████████████████████▌  | 911kB 49.3MB/s eta 0:00:01\r\u001b[K    93% |█████████████████████████████▉  | 921kB 48.7MB/s eta 0:00:01\r\u001b[K    94% |██████████████████████████████▏ | 931kB 48.0MB/s eta 0:00:01\r\u001b[K    95% |██████████████████████████████▌ | 942kB 47.8MB/s eta 0:00:01\r\u001b[K    96% |██████████████████████████████▉ | 952kB 45.5MB/s eta 0:00:01\r\u001b[K    97% |███████████████████████████████▏| 962kB 49.9MB/s eta 0:00:01\r\u001b[K    98% |███████████████████████████████▌| 972kB 49.8MB/s eta 0:00:01\r\u001b[K    99% |███████████████████████████████▉| 983kB 47.8MB/s eta 0:00:01\r\u001b[K    100% |████████████████████████████████| 993kB 19.8MB/s \n",
            "\u001b[?25h  Building wheel for PyDrive (setup.py) ... \u001b[?25ldone\n",
            "\u001b[?25h"
          ],
          "name": "stdout"
        }
      ]
    },
    {
      "metadata": {
        "id": "pONaXxSYUBkx",
        "colab_type": "code",
        "colab": {}
      },
      "cell_type": "code",
      "source": [
        "## GOOGLE DRIVE AUTHENTICATION\n",
        "\n",
        "auth.authenticate_user()\n",
        "gauth = GoogleAuth()\n",
        "gauth.credentials = GoogleCredentials.get_application_default()\n",
        "drive = GoogleDrive(gauth)"
      ],
      "execution_count": 0,
      "outputs": []
    },
    {
      "metadata": {
        "id": "9WpLytzYUDB6",
        "colab_type": "code",
        "colab": {}
      },
      "cell_type": "code",
      "source": [
        "## SEACHING FOR THE ZIP FILE AND THEN UNZIPPING IT IN COLAB AND DELETING UN-NECESSARY FILES\n",
        "\n",
        "fid = drive.ListFile({'q':\"title='train.csv'\"}).GetList()[0]['id']\n",
        "f = drive.CreateFile({'id': fid})\n",
        "f.GetContentFile('train.csv')\n",
        "\n",
        "fid = drive.ListFile({'q':\"title='test.csv'\"}).GetList()[0]['id']\n",
        "f = drive.CreateFile({'id': fid})\n",
        "f.GetContentFile('test.csv')"
      ],
      "execution_count": 0,
      "outputs": []
    },
    {
      "metadata": {
        "id": "IAoObDzvUC_D",
        "colab_type": "code",
        "outputId": "f9144864-3db7-4758-920e-a66db709d477",
        "colab": {
          "base_uri": "https://localhost:8080/",
          "height": 661
        }
      },
      "cell_type": "code",
      "source": [
        "df = pd.read_csv('train.csv')\n",
        "df.head()"
      ],
      "execution_count": 5,
      "outputs": [
        {
          "output_type": "execute_result",
          "data": {
            "text/html": [
              "<div>\n",
              "<style scoped>\n",
              "    .dataframe tbody tr th:only-of-type {\n",
              "        vertical-align: middle;\n",
              "    }\n",
              "\n",
              "    .dataframe tbody tr th {\n",
              "        vertical-align: top;\n",
              "    }\n",
              "\n",
              "    .dataframe thead th {\n",
              "        text-align: right;\n",
              "    }\n",
              "</style>\n",
              "<table border=\"1\" class=\"dataframe\">\n",
              "  <thead>\n",
              "    <tr style=\"text-align: right;\">\n",
              "      <th></th>\n",
              "      <th>id</th>\n",
              "      <th>belongs_to_collection</th>\n",
              "      <th>budget</th>\n",
              "      <th>genres</th>\n",
              "      <th>homepage</th>\n",
              "      <th>imdb_id</th>\n",
              "      <th>original_language</th>\n",
              "      <th>original_title</th>\n",
              "      <th>overview</th>\n",
              "      <th>popularity</th>\n",
              "      <th>...</th>\n",
              "      <th>release_date</th>\n",
              "      <th>runtime</th>\n",
              "      <th>spoken_languages</th>\n",
              "      <th>status</th>\n",
              "      <th>tagline</th>\n",
              "      <th>title</th>\n",
              "      <th>Keywords</th>\n",
              "      <th>cast</th>\n",
              "      <th>crew</th>\n",
              "      <th>revenue</th>\n",
              "    </tr>\n",
              "  </thead>\n",
              "  <tbody>\n",
              "    <tr>\n",
              "      <th>0</th>\n",
              "      <td>1</td>\n",
              "      <td>[{'id': 313576, 'name': 'Hot Tub Time Machine ...</td>\n",
              "      <td>14000000</td>\n",
              "      <td>[{'id': 35, 'name': 'Comedy'}]</td>\n",
              "      <td>NaN</td>\n",
              "      <td>tt2637294</td>\n",
              "      <td>en</td>\n",
              "      <td>Hot Tub Time Machine 2</td>\n",
              "      <td>When Lou, who has become the \"father of the In...</td>\n",
              "      <td>6.575393</td>\n",
              "      <td>...</td>\n",
              "      <td>2/20/15</td>\n",
              "      <td>93.0</td>\n",
              "      <td>[{'iso_639_1': 'en', 'name': 'English'}]</td>\n",
              "      <td>Released</td>\n",
              "      <td>The Laws of Space and Time are About to be Vio...</td>\n",
              "      <td>Hot Tub Time Machine 2</td>\n",
              "      <td>[{'id': 4379, 'name': 'time travel'}, {'id': 9...</td>\n",
              "      <td>[{'cast_id': 4, 'character': 'Lou', 'credit_id...</td>\n",
              "      <td>[{'credit_id': '59ac067c92514107af02c8c8', 'de...</td>\n",
              "      <td>12314651</td>\n",
              "    </tr>\n",
              "    <tr>\n",
              "      <th>1</th>\n",
              "      <td>2</td>\n",
              "      <td>[{'id': 107674, 'name': 'The Princess Diaries ...</td>\n",
              "      <td>40000000</td>\n",
              "      <td>[{'id': 35, 'name': 'Comedy'}, {'id': 18, 'nam...</td>\n",
              "      <td>NaN</td>\n",
              "      <td>tt0368933</td>\n",
              "      <td>en</td>\n",
              "      <td>The Princess Diaries 2: Royal Engagement</td>\n",
              "      <td>Mia Thermopolis is now a college graduate and ...</td>\n",
              "      <td>8.248895</td>\n",
              "      <td>...</td>\n",
              "      <td>8/6/04</td>\n",
              "      <td>113.0</td>\n",
              "      <td>[{'iso_639_1': 'en', 'name': 'English'}]</td>\n",
              "      <td>Released</td>\n",
              "      <td>It can take a lifetime to find true love; she'...</td>\n",
              "      <td>The Princess Diaries 2: Royal Engagement</td>\n",
              "      <td>[{'id': 2505, 'name': 'coronation'}, {'id': 42...</td>\n",
              "      <td>[{'cast_id': 1, 'character': 'Mia Thermopolis'...</td>\n",
              "      <td>[{'credit_id': '52fe43fe9251416c7502563d', 'de...</td>\n",
              "      <td>95149435</td>\n",
              "    </tr>\n",
              "    <tr>\n",
              "      <th>2</th>\n",
              "      <td>3</td>\n",
              "      <td>NaN</td>\n",
              "      <td>3300000</td>\n",
              "      <td>[{'id': 18, 'name': 'Drama'}]</td>\n",
              "      <td>http://sonyclassics.com/whiplash/</td>\n",
              "      <td>tt2582802</td>\n",
              "      <td>en</td>\n",
              "      <td>Whiplash</td>\n",
              "      <td>Under the direction of a ruthless instructor, ...</td>\n",
              "      <td>64.299990</td>\n",
              "      <td>...</td>\n",
              "      <td>10/10/14</td>\n",
              "      <td>105.0</td>\n",
              "      <td>[{'iso_639_1': 'en', 'name': 'English'}]</td>\n",
              "      <td>Released</td>\n",
              "      <td>The road to greatness can take you to the edge.</td>\n",
              "      <td>Whiplash</td>\n",
              "      <td>[{'id': 1416, 'name': 'jazz'}, {'id': 1523, 'n...</td>\n",
              "      <td>[{'cast_id': 5, 'character': 'Andrew Neimann',...</td>\n",
              "      <td>[{'credit_id': '54d5356ec3a3683ba0000039', 'de...</td>\n",
              "      <td>13092000</td>\n",
              "    </tr>\n",
              "    <tr>\n",
              "      <th>3</th>\n",
              "      <td>4</td>\n",
              "      <td>NaN</td>\n",
              "      <td>1200000</td>\n",
              "      <td>[{'id': 53, 'name': 'Thriller'}, {'id': 18, 'n...</td>\n",
              "      <td>http://kahaanithefilm.com/</td>\n",
              "      <td>tt1821480</td>\n",
              "      <td>hi</td>\n",
              "      <td>Kahaani</td>\n",
              "      <td>Vidya Bagchi (Vidya Balan) arrives in Kolkata ...</td>\n",
              "      <td>3.174936</td>\n",
              "      <td>...</td>\n",
              "      <td>3/9/12</td>\n",
              "      <td>122.0</td>\n",
              "      <td>[{'iso_639_1': 'en', 'name': 'English'}, {'iso...</td>\n",
              "      <td>Released</td>\n",
              "      <td>NaN</td>\n",
              "      <td>Kahaani</td>\n",
              "      <td>[{'id': 10092, 'name': 'mystery'}, {'id': 1054...</td>\n",
              "      <td>[{'cast_id': 1, 'character': 'Vidya Bagchi', '...</td>\n",
              "      <td>[{'credit_id': '52fe48779251416c9108d6eb', 'de...</td>\n",
              "      <td>16000000</td>\n",
              "    </tr>\n",
              "    <tr>\n",
              "      <th>4</th>\n",
              "      <td>5</td>\n",
              "      <td>NaN</td>\n",
              "      <td>0</td>\n",
              "      <td>[{'id': 28, 'name': 'Action'}, {'id': 53, 'nam...</td>\n",
              "      <td>NaN</td>\n",
              "      <td>tt1380152</td>\n",
              "      <td>ko</td>\n",
              "      <td>마린보이</td>\n",
              "      <td>Marine Boy is the story of a former national s...</td>\n",
              "      <td>1.148070</td>\n",
              "      <td>...</td>\n",
              "      <td>2/5/09</td>\n",
              "      <td>118.0</td>\n",
              "      <td>[{'iso_639_1': 'ko', 'name': '한국어/조선말'}]</td>\n",
              "      <td>Released</td>\n",
              "      <td>NaN</td>\n",
              "      <td>Marine Boy</td>\n",
              "      <td>NaN</td>\n",
              "      <td>[{'cast_id': 3, 'character': 'Chun-soo', 'cred...</td>\n",
              "      <td>[{'credit_id': '52fe464b9251416c75073b43', 'de...</td>\n",
              "      <td>3923970</td>\n",
              "    </tr>\n",
              "  </tbody>\n",
              "</table>\n",
              "<p>5 rows × 23 columns</p>\n",
              "</div>"
            ],
            "text/plain": [
              "   id                              belongs_to_collection    budget  \\\n",
              "0   1  [{'id': 313576, 'name': 'Hot Tub Time Machine ...  14000000   \n",
              "1   2  [{'id': 107674, 'name': 'The Princess Diaries ...  40000000   \n",
              "2   3                                                NaN   3300000   \n",
              "3   4                                                NaN   1200000   \n",
              "4   5                                                NaN         0   \n",
              "\n",
              "                                              genres  \\\n",
              "0                     [{'id': 35, 'name': 'Comedy'}]   \n",
              "1  [{'id': 35, 'name': 'Comedy'}, {'id': 18, 'nam...   \n",
              "2                      [{'id': 18, 'name': 'Drama'}]   \n",
              "3  [{'id': 53, 'name': 'Thriller'}, {'id': 18, 'n...   \n",
              "4  [{'id': 28, 'name': 'Action'}, {'id': 53, 'nam...   \n",
              "\n",
              "                            homepage    imdb_id original_language  \\\n",
              "0                                NaN  tt2637294                en   \n",
              "1                                NaN  tt0368933                en   \n",
              "2  http://sonyclassics.com/whiplash/  tt2582802                en   \n",
              "3         http://kahaanithefilm.com/  tt1821480                hi   \n",
              "4                                NaN  tt1380152                ko   \n",
              "\n",
              "                             original_title  \\\n",
              "0                    Hot Tub Time Machine 2   \n",
              "1  The Princess Diaries 2: Royal Engagement   \n",
              "2                                  Whiplash   \n",
              "3                                   Kahaani   \n",
              "4                                      마린보이   \n",
              "\n",
              "                                            overview  popularity    ...     \\\n",
              "0  When Lou, who has become the \"father of the In...    6.575393    ...      \n",
              "1  Mia Thermopolis is now a college graduate and ...    8.248895    ...      \n",
              "2  Under the direction of a ruthless instructor, ...   64.299990    ...      \n",
              "3  Vidya Bagchi (Vidya Balan) arrives in Kolkata ...    3.174936    ...      \n",
              "4  Marine Boy is the story of a former national s...    1.148070    ...      \n",
              "\n",
              "  release_date runtime                                   spoken_languages  \\\n",
              "0      2/20/15    93.0           [{'iso_639_1': 'en', 'name': 'English'}]   \n",
              "1       8/6/04   113.0           [{'iso_639_1': 'en', 'name': 'English'}]   \n",
              "2     10/10/14   105.0           [{'iso_639_1': 'en', 'name': 'English'}]   \n",
              "3       3/9/12   122.0  [{'iso_639_1': 'en', 'name': 'English'}, {'iso...   \n",
              "4       2/5/09   118.0           [{'iso_639_1': 'ko', 'name': '한국어/조선말'}]   \n",
              "\n",
              "     status                                            tagline  \\\n",
              "0  Released  The Laws of Space and Time are About to be Vio...   \n",
              "1  Released  It can take a lifetime to find true love; she'...   \n",
              "2  Released    The road to greatness can take you to the edge.   \n",
              "3  Released                                                NaN   \n",
              "4  Released                                                NaN   \n",
              "\n",
              "                                      title  \\\n",
              "0                    Hot Tub Time Machine 2   \n",
              "1  The Princess Diaries 2: Royal Engagement   \n",
              "2                                  Whiplash   \n",
              "3                                   Kahaani   \n",
              "4                                Marine Boy   \n",
              "\n",
              "                                            Keywords  \\\n",
              "0  [{'id': 4379, 'name': 'time travel'}, {'id': 9...   \n",
              "1  [{'id': 2505, 'name': 'coronation'}, {'id': 42...   \n",
              "2  [{'id': 1416, 'name': 'jazz'}, {'id': 1523, 'n...   \n",
              "3  [{'id': 10092, 'name': 'mystery'}, {'id': 1054...   \n",
              "4                                                NaN   \n",
              "\n",
              "                                                cast  \\\n",
              "0  [{'cast_id': 4, 'character': 'Lou', 'credit_id...   \n",
              "1  [{'cast_id': 1, 'character': 'Mia Thermopolis'...   \n",
              "2  [{'cast_id': 5, 'character': 'Andrew Neimann',...   \n",
              "3  [{'cast_id': 1, 'character': 'Vidya Bagchi', '...   \n",
              "4  [{'cast_id': 3, 'character': 'Chun-soo', 'cred...   \n",
              "\n",
              "                                                crew   revenue  \n",
              "0  [{'credit_id': '59ac067c92514107af02c8c8', 'de...  12314651  \n",
              "1  [{'credit_id': '52fe43fe9251416c7502563d', 'de...  95149435  \n",
              "2  [{'credit_id': '54d5356ec3a3683ba0000039', 'de...  13092000  \n",
              "3  [{'credit_id': '52fe48779251416c9108d6eb', 'de...  16000000  \n",
              "4  [{'credit_id': '52fe464b9251416c75073b43', 'de...   3923970  \n",
              "\n",
              "[5 rows x 23 columns]"
            ]
          },
          "metadata": {
            "tags": []
          },
          "execution_count": 5
        }
      ]
    },
    {
      "metadata": {
        "id": "J4x9e3B0Du9D",
        "colab_type": "code",
        "colab": {
          "base_uri": "https://localhost:8080/",
          "height": 644
        },
        "outputId": "f7bdb299-f6e5-4b5a-e1c1-3dd2923ac6f2"
      },
      "cell_type": "code",
      "source": [
        "test = pd.read_csv('test.csv')\n",
        "test.head()"
      ],
      "execution_count": 6,
      "outputs": [
        {
          "output_type": "execute_result",
          "data": {
            "text/html": [
              "<div>\n",
              "<style scoped>\n",
              "    .dataframe tbody tr th:only-of-type {\n",
              "        vertical-align: middle;\n",
              "    }\n",
              "\n",
              "    .dataframe tbody tr th {\n",
              "        vertical-align: top;\n",
              "    }\n",
              "\n",
              "    .dataframe thead th {\n",
              "        text-align: right;\n",
              "    }\n",
              "</style>\n",
              "<table border=\"1\" class=\"dataframe\">\n",
              "  <thead>\n",
              "    <tr style=\"text-align: right;\">\n",
              "      <th></th>\n",
              "      <th>id</th>\n",
              "      <th>belongs_to_collection</th>\n",
              "      <th>budget</th>\n",
              "      <th>genres</th>\n",
              "      <th>homepage</th>\n",
              "      <th>imdb_id</th>\n",
              "      <th>original_language</th>\n",
              "      <th>original_title</th>\n",
              "      <th>overview</th>\n",
              "      <th>popularity</th>\n",
              "      <th>...</th>\n",
              "      <th>production_countries</th>\n",
              "      <th>release_date</th>\n",
              "      <th>runtime</th>\n",
              "      <th>spoken_languages</th>\n",
              "      <th>status</th>\n",
              "      <th>tagline</th>\n",
              "      <th>title</th>\n",
              "      <th>Keywords</th>\n",
              "      <th>cast</th>\n",
              "      <th>crew</th>\n",
              "    </tr>\n",
              "  </thead>\n",
              "  <tbody>\n",
              "    <tr>\n",
              "      <th>0</th>\n",
              "      <td>3001</td>\n",
              "      <td>[{'id': 34055, 'name': 'Pokémon Collection', '...</td>\n",
              "      <td>0</td>\n",
              "      <td>[{'id': 12, 'name': 'Adventure'}, {'id': 16, '...</td>\n",
              "      <td>http://www.pokemon.com/us/movies/movie-pokemon...</td>\n",
              "      <td>tt1226251</td>\n",
              "      <td>ja</td>\n",
              "      <td>ディアルガVSパルキアVSダークライ</td>\n",
              "      <td>Ash and friends (this time accompanied by newc...</td>\n",
              "      <td>3.851534</td>\n",
              "      <td>...</td>\n",
              "      <td>[{'iso_3166_1': 'JP', 'name': 'Japan'}, {'iso_...</td>\n",
              "      <td>7/14/07</td>\n",
              "      <td>90.0</td>\n",
              "      <td>[{'iso_639_1': 'en', 'name': 'English'}, {'iso...</td>\n",
              "      <td>Released</td>\n",
              "      <td>Somewhere Between Time &amp; Space... A Legend Is ...</td>\n",
              "      <td>Pokémon: The Rise of Darkrai</td>\n",
              "      <td>[{'id': 11451, 'name': 'pok√©mon'}, {'id': 115...</td>\n",
              "      <td>[{'cast_id': 3, 'character': 'Tonio', 'credit_...</td>\n",
              "      <td>[{'credit_id': '52fe44e7c3a368484e03d683', 'de...</td>\n",
              "    </tr>\n",
              "    <tr>\n",
              "      <th>1</th>\n",
              "      <td>3002</td>\n",
              "      <td>NaN</td>\n",
              "      <td>88000</td>\n",
              "      <td>[{'id': 27, 'name': 'Horror'}, {'id': 878, 'na...</td>\n",
              "      <td>NaN</td>\n",
              "      <td>tt0051380</td>\n",
              "      <td>en</td>\n",
              "      <td>Attack of the 50 Foot Woman</td>\n",
              "      <td>When an abused wife grows to giant size becaus...</td>\n",
              "      <td>3.559789</td>\n",
              "      <td>...</td>\n",
              "      <td>[{'iso_3166_1': 'US', 'name': 'United States o...</td>\n",
              "      <td>5/19/58</td>\n",
              "      <td>65.0</td>\n",
              "      <td>[{'iso_639_1': 'en', 'name': 'English'}]</td>\n",
              "      <td>Released</td>\n",
              "      <td>A titanic beauty spreads a macabre wave of hor...</td>\n",
              "      <td>Attack of the 50 Foot Woman</td>\n",
              "      <td>[{'id': 9748, 'name': 'revenge'}, {'id': 9951,...</td>\n",
              "      <td>[{'cast_id': 2, 'character': 'Nancy Fowler Arc...</td>\n",
              "      <td>[{'credit_id': '55807805c3a3685b1300060b', 'de...</td>\n",
              "    </tr>\n",
              "    <tr>\n",
              "      <th>2</th>\n",
              "      <td>3003</td>\n",
              "      <td>NaN</td>\n",
              "      <td>0</td>\n",
              "      <td>[{'id': 35, 'name': 'Comedy'}, {'id': 10749, '...</td>\n",
              "      <td>NaN</td>\n",
              "      <td>tt0118556</td>\n",
              "      <td>en</td>\n",
              "      <td>Addicted to Love</td>\n",
              "      <td>Good-natured astronomer Sam is devastated when...</td>\n",
              "      <td>8.085194</td>\n",
              "      <td>...</td>\n",
              "      <td>[{'iso_3166_1': 'US', 'name': 'United States o...</td>\n",
              "      <td>5/23/97</td>\n",
              "      <td>100.0</td>\n",
              "      <td>[{'iso_639_1': 'en', 'name': 'English'}]</td>\n",
              "      <td>Released</td>\n",
              "      <td>A Comedy About Lost Loves And Last Laughs</td>\n",
              "      <td>Addicted to Love</td>\n",
              "      <td>[{'id': 931, 'name': 'jealousy'}, {'id': 9673,...</td>\n",
              "      <td>[{'cast_id': 11, 'character': 'Maggie', 'credi...</td>\n",
              "      <td>[{'credit_id': '52fe4330c3a36847f8041367', 'de...</td>\n",
              "    </tr>\n",
              "    <tr>\n",
              "      <th>3</th>\n",
              "      <td>3004</td>\n",
              "      <td>NaN</td>\n",
              "      <td>6800000</td>\n",
              "      <td>[{'id': 18, 'name': 'Drama'}, {'id': 10752, 'n...</td>\n",
              "      <td>http://www.sonyclassics.com/incendies/</td>\n",
              "      <td>tt1255953</td>\n",
              "      <td>fr</td>\n",
              "      <td>Incendies</td>\n",
              "      <td>A mother's last wishes send twins Jeanne and S...</td>\n",
              "      <td>8.596012</td>\n",
              "      <td>...</td>\n",
              "      <td>[{'iso_3166_1': 'CA', 'name': 'Canada'}, {'iso...</td>\n",
              "      <td>9/4/10</td>\n",
              "      <td>130.0</td>\n",
              "      <td>[{'iso_639_1': 'fr', 'name': 'Français'}, {'is...</td>\n",
              "      <td>Released</td>\n",
              "      <td>The search began at the opening of their mothe...</td>\n",
              "      <td>Incendies</td>\n",
              "      <td>[{'id': 378, 'name': 'prison'}, {'id': 539, 'n...</td>\n",
              "      <td>[{'cast_id': 6, 'character': 'Nawal', 'credit_...</td>\n",
              "      <td>[{'credit_id': '56478092c3a36826140043af', 'de...</td>\n",
              "    </tr>\n",
              "    <tr>\n",
              "      <th>4</th>\n",
              "      <td>3005</td>\n",
              "      <td>NaN</td>\n",
              "      <td>2000000</td>\n",
              "      <td>[{'id': 36, 'name': 'History'}, {'id': 99, 'na...</td>\n",
              "      <td>NaN</td>\n",
              "      <td>tt0418753</td>\n",
              "      <td>en</td>\n",
              "      <td>Inside Deep Throat</td>\n",
              "      <td>In 1972, a seemingly typical shoestring budget...</td>\n",
              "      <td>3.217680</td>\n",
              "      <td>...</td>\n",
              "      <td>[{'iso_3166_1': 'US', 'name': 'United States o...</td>\n",
              "      <td>2/11/05</td>\n",
              "      <td>92.0</td>\n",
              "      <td>[{'iso_639_1': 'en', 'name': 'English'}]</td>\n",
              "      <td>Released</td>\n",
              "      <td>It was filmed in 6 days for 25 thousand dollar...</td>\n",
              "      <td>Inside Deep Throat</td>\n",
              "      <td>[{'id': 279, 'name': 'usa'}, {'id': 1228, 'nam...</td>\n",
              "      <td>[{'cast_id': 1, 'character': 'Narrator (voice)...</td>\n",
              "      <td>[{'credit_id': '52fe44ce9251416c75041967', 'de...</td>\n",
              "    </tr>\n",
              "  </tbody>\n",
              "</table>\n",
              "<p>5 rows × 22 columns</p>\n",
              "</div>"
            ],
            "text/plain": [
              "     id                              belongs_to_collection   budget  \\\n",
              "0  3001  [{'id': 34055, 'name': 'Pokémon Collection', '...        0   \n",
              "1  3002                                                NaN    88000   \n",
              "2  3003                                                NaN        0   \n",
              "3  3004                                                NaN  6800000   \n",
              "4  3005                                                NaN  2000000   \n",
              "\n",
              "                                              genres  \\\n",
              "0  [{'id': 12, 'name': 'Adventure'}, {'id': 16, '...   \n",
              "1  [{'id': 27, 'name': 'Horror'}, {'id': 878, 'na...   \n",
              "2  [{'id': 35, 'name': 'Comedy'}, {'id': 10749, '...   \n",
              "3  [{'id': 18, 'name': 'Drama'}, {'id': 10752, 'n...   \n",
              "4  [{'id': 36, 'name': 'History'}, {'id': 99, 'na...   \n",
              "\n",
              "                                            homepage    imdb_id  \\\n",
              "0  http://www.pokemon.com/us/movies/movie-pokemon...  tt1226251   \n",
              "1                                                NaN  tt0051380   \n",
              "2                                                NaN  tt0118556   \n",
              "3             http://www.sonyclassics.com/incendies/  tt1255953   \n",
              "4                                                NaN  tt0418753   \n",
              "\n",
              "  original_language               original_title  \\\n",
              "0                ja           ディアルガVSパルキアVSダークライ   \n",
              "1                en  Attack of the 50 Foot Woman   \n",
              "2                en             Addicted to Love   \n",
              "3                fr                    Incendies   \n",
              "4                en           Inside Deep Throat   \n",
              "\n",
              "                                            overview  popularity  \\\n",
              "0  Ash and friends (this time accompanied by newc...    3.851534   \n",
              "1  When an abused wife grows to giant size becaus...    3.559789   \n",
              "2  Good-natured astronomer Sam is devastated when...    8.085194   \n",
              "3  A mother's last wishes send twins Jeanne and S...    8.596012   \n",
              "4  In 1972, a seemingly typical shoestring budget...    3.217680   \n",
              "\n",
              "                         ...                          \\\n",
              "0                        ...                           \n",
              "1                        ...                           \n",
              "2                        ...                           \n",
              "3                        ...                           \n",
              "4                        ...                           \n",
              "\n",
              "                                production_countries release_date runtime  \\\n",
              "0  [{'iso_3166_1': 'JP', 'name': 'Japan'}, {'iso_...      7/14/07    90.0   \n",
              "1  [{'iso_3166_1': 'US', 'name': 'United States o...      5/19/58    65.0   \n",
              "2  [{'iso_3166_1': 'US', 'name': 'United States o...      5/23/97   100.0   \n",
              "3  [{'iso_3166_1': 'CA', 'name': 'Canada'}, {'iso...       9/4/10   130.0   \n",
              "4  [{'iso_3166_1': 'US', 'name': 'United States o...      2/11/05    92.0   \n",
              "\n",
              "                                    spoken_languages    status  \\\n",
              "0  [{'iso_639_1': 'en', 'name': 'English'}, {'iso...  Released   \n",
              "1           [{'iso_639_1': 'en', 'name': 'English'}]  Released   \n",
              "2           [{'iso_639_1': 'en', 'name': 'English'}]  Released   \n",
              "3  [{'iso_639_1': 'fr', 'name': 'Français'}, {'is...  Released   \n",
              "4           [{'iso_639_1': 'en', 'name': 'English'}]  Released   \n",
              "\n",
              "                                             tagline  \\\n",
              "0  Somewhere Between Time & Space... A Legend Is ...   \n",
              "1  A titanic beauty spreads a macabre wave of hor...   \n",
              "2          A Comedy About Lost Loves And Last Laughs   \n",
              "3  The search began at the opening of their mothe...   \n",
              "4  It was filmed in 6 days for 25 thousand dollar...   \n",
              "\n",
              "                          title  \\\n",
              "0  Pokémon: The Rise of Darkrai   \n",
              "1   Attack of the 50 Foot Woman   \n",
              "2              Addicted to Love   \n",
              "3                     Incendies   \n",
              "4            Inside Deep Throat   \n",
              "\n",
              "                                            Keywords  \\\n",
              "0  [{'id': 11451, 'name': 'pok√©mon'}, {'id': 115...   \n",
              "1  [{'id': 9748, 'name': 'revenge'}, {'id': 9951,...   \n",
              "2  [{'id': 931, 'name': 'jealousy'}, {'id': 9673,...   \n",
              "3  [{'id': 378, 'name': 'prison'}, {'id': 539, 'n...   \n",
              "4  [{'id': 279, 'name': 'usa'}, {'id': 1228, 'nam...   \n",
              "\n",
              "                                                cast  \\\n",
              "0  [{'cast_id': 3, 'character': 'Tonio', 'credit_...   \n",
              "1  [{'cast_id': 2, 'character': 'Nancy Fowler Arc...   \n",
              "2  [{'cast_id': 11, 'character': 'Maggie', 'credi...   \n",
              "3  [{'cast_id': 6, 'character': 'Nawal', 'credit_...   \n",
              "4  [{'cast_id': 1, 'character': 'Narrator (voice)...   \n",
              "\n",
              "                                                crew  \n",
              "0  [{'credit_id': '52fe44e7c3a368484e03d683', 'de...  \n",
              "1  [{'credit_id': '55807805c3a3685b1300060b', 'de...  \n",
              "2  [{'credit_id': '52fe4330c3a36847f8041367', 'de...  \n",
              "3  [{'credit_id': '56478092c3a36826140043af', 'de...  \n",
              "4  [{'credit_id': '52fe44ce9251416c75041967', 'de...  \n",
              "\n",
              "[5 rows x 22 columns]"
            ]
          },
          "metadata": {
            "tags": []
          },
          "execution_count": 6
        }
      ]
    },
    {
      "metadata": {
        "id": "3TPkjVniUC9V",
        "colab_type": "code",
        "outputId": "602cd453-d02b-4291-8076-6c6957c86c0f",
        "colab": {
          "base_uri": "https://localhost:8080/",
          "height": 314
        }
      },
      "cell_type": "code",
      "source": [
        "print(df.shape)\n",
        "df.describe()"
      ],
      "execution_count": 7,
      "outputs": [
        {
          "output_type": "stream",
          "text": [
            "(3000, 23)\n"
          ],
          "name": "stdout"
        },
        {
          "output_type": "execute_result",
          "data": {
            "text/html": [
              "<div>\n",
              "<style scoped>\n",
              "    .dataframe tbody tr th:only-of-type {\n",
              "        vertical-align: middle;\n",
              "    }\n",
              "\n",
              "    .dataframe tbody tr th {\n",
              "        vertical-align: top;\n",
              "    }\n",
              "\n",
              "    .dataframe thead th {\n",
              "        text-align: right;\n",
              "    }\n",
              "</style>\n",
              "<table border=\"1\" class=\"dataframe\">\n",
              "  <thead>\n",
              "    <tr style=\"text-align: right;\">\n",
              "      <th></th>\n",
              "      <th>id</th>\n",
              "      <th>budget</th>\n",
              "      <th>popularity</th>\n",
              "      <th>runtime</th>\n",
              "      <th>revenue</th>\n",
              "    </tr>\n",
              "  </thead>\n",
              "  <tbody>\n",
              "    <tr>\n",
              "      <th>count</th>\n",
              "      <td>3000.000000</td>\n",
              "      <td>3.000000e+03</td>\n",
              "      <td>3000.000000</td>\n",
              "      <td>2998.000000</td>\n",
              "      <td>3.000000e+03</td>\n",
              "    </tr>\n",
              "    <tr>\n",
              "      <th>mean</th>\n",
              "      <td>1500.500000</td>\n",
              "      <td>2.253133e+07</td>\n",
              "      <td>8.463274</td>\n",
              "      <td>107.856571</td>\n",
              "      <td>6.672585e+07</td>\n",
              "    </tr>\n",
              "    <tr>\n",
              "      <th>std</th>\n",
              "      <td>866.169729</td>\n",
              "      <td>3.702609e+07</td>\n",
              "      <td>12.104000</td>\n",
              "      <td>22.086434</td>\n",
              "      <td>1.375323e+08</td>\n",
              "    </tr>\n",
              "    <tr>\n",
              "      <th>min</th>\n",
              "      <td>1.000000</td>\n",
              "      <td>0.000000e+00</td>\n",
              "      <td>0.000001</td>\n",
              "      <td>0.000000</td>\n",
              "      <td>1.000000e+00</td>\n",
              "    </tr>\n",
              "    <tr>\n",
              "      <th>25%</th>\n",
              "      <td>750.750000</td>\n",
              "      <td>0.000000e+00</td>\n",
              "      <td>4.018053</td>\n",
              "      <td>94.000000</td>\n",
              "      <td>2.379808e+06</td>\n",
              "    </tr>\n",
              "    <tr>\n",
              "      <th>50%</th>\n",
              "      <td>1500.500000</td>\n",
              "      <td>8.000000e+06</td>\n",
              "      <td>7.374861</td>\n",
              "      <td>104.000000</td>\n",
              "      <td>1.680707e+07</td>\n",
              "    </tr>\n",
              "    <tr>\n",
              "      <th>75%</th>\n",
              "      <td>2250.250000</td>\n",
              "      <td>2.900000e+07</td>\n",
              "      <td>10.890983</td>\n",
              "      <td>118.000000</td>\n",
              "      <td>6.891920e+07</td>\n",
              "    </tr>\n",
              "    <tr>\n",
              "      <th>max</th>\n",
              "      <td>3000.000000</td>\n",
              "      <td>3.800000e+08</td>\n",
              "      <td>294.337037</td>\n",
              "      <td>338.000000</td>\n",
              "      <td>1.519558e+09</td>\n",
              "    </tr>\n",
              "  </tbody>\n",
              "</table>\n",
              "</div>"
            ],
            "text/plain": [
              "                id        budget   popularity      runtime       revenue\n",
              "count  3000.000000  3.000000e+03  3000.000000  2998.000000  3.000000e+03\n",
              "mean   1500.500000  2.253133e+07     8.463274   107.856571  6.672585e+07\n",
              "std     866.169729  3.702609e+07    12.104000    22.086434  1.375323e+08\n",
              "min       1.000000  0.000000e+00     0.000001     0.000000  1.000000e+00\n",
              "25%     750.750000  0.000000e+00     4.018053    94.000000  2.379808e+06\n",
              "50%    1500.500000  8.000000e+06     7.374861   104.000000  1.680707e+07\n",
              "75%    2250.250000  2.900000e+07    10.890983   118.000000  6.891920e+07\n",
              "max    3000.000000  3.800000e+08   294.337037   338.000000  1.519558e+09"
            ]
          },
          "metadata": {
            "tags": []
          },
          "execution_count": 7
        }
      ]
    },
    {
      "metadata": {
        "id": "o3RDVuo-D3B-",
        "colab_type": "code",
        "colab": {
          "base_uri": "https://localhost:8080/",
          "height": 314
        },
        "outputId": "ab77322f-3afe-4115-82db-1deff97f6e7c"
      },
      "cell_type": "code",
      "source": [
        "print(test.shape)\n",
        "test.describe()"
      ],
      "execution_count": 8,
      "outputs": [
        {
          "output_type": "stream",
          "text": [
            "(4398, 22)\n"
          ],
          "name": "stdout"
        },
        {
          "output_type": "execute_result",
          "data": {
            "text/html": [
              "<div>\n",
              "<style scoped>\n",
              "    .dataframe tbody tr th:only-of-type {\n",
              "        vertical-align: middle;\n",
              "    }\n",
              "\n",
              "    .dataframe tbody tr th {\n",
              "        vertical-align: top;\n",
              "    }\n",
              "\n",
              "    .dataframe thead th {\n",
              "        text-align: right;\n",
              "    }\n",
              "</style>\n",
              "<table border=\"1\" class=\"dataframe\">\n",
              "  <thead>\n",
              "    <tr style=\"text-align: right;\">\n",
              "      <th></th>\n",
              "      <th>id</th>\n",
              "      <th>budget</th>\n",
              "      <th>popularity</th>\n",
              "      <th>runtime</th>\n",
              "    </tr>\n",
              "  </thead>\n",
              "  <tbody>\n",
              "    <tr>\n",
              "      <th>count</th>\n",
              "      <td>4398.000000</td>\n",
              "      <td>4.398000e+03</td>\n",
              "      <td>4398.000000</td>\n",
              "      <td>4394.000000</td>\n",
              "    </tr>\n",
              "    <tr>\n",
              "      <th>mean</th>\n",
              "      <td>5199.500000</td>\n",
              "      <td>2.264929e+07</td>\n",
              "      <td>8.550230</td>\n",
              "      <td>107.622212</td>\n",
              "    </tr>\n",
              "    <tr>\n",
              "      <th>std</th>\n",
              "      <td>1269.737571</td>\n",
              "      <td>3.689991e+07</td>\n",
              "      <td>12.209014</td>\n",
              "      <td>21.058290</td>\n",
              "    </tr>\n",
              "    <tr>\n",
              "      <th>min</th>\n",
              "      <td>3001.000000</td>\n",
              "      <td>0.000000e+00</td>\n",
              "      <td>0.000001</td>\n",
              "      <td>0.000000</td>\n",
              "    </tr>\n",
              "    <tr>\n",
              "      <th>25%</th>\n",
              "      <td>4100.250000</td>\n",
              "      <td>0.000000e+00</td>\n",
              "      <td>3.895186</td>\n",
              "      <td>94.000000</td>\n",
              "    </tr>\n",
              "    <tr>\n",
              "      <th>50%</th>\n",
              "      <td>5199.500000</td>\n",
              "      <td>7.450000e+06</td>\n",
              "      <td>7.482241</td>\n",
              "      <td>104.000000</td>\n",
              "    </tr>\n",
              "    <tr>\n",
              "      <th>75%</th>\n",
              "      <td>6298.750000</td>\n",
              "      <td>2.800000e+07</td>\n",
              "      <td>10.938524</td>\n",
              "      <td>118.000000</td>\n",
              "    </tr>\n",
              "    <tr>\n",
              "      <th>max</th>\n",
              "      <td>7398.000000</td>\n",
              "      <td>2.600000e+08</td>\n",
              "      <td>547.488298</td>\n",
              "      <td>320.000000</td>\n",
              "    </tr>\n",
              "  </tbody>\n",
              "</table>\n",
              "</div>"
            ],
            "text/plain": [
              "                id        budget   popularity      runtime\n",
              "count  4398.000000  4.398000e+03  4398.000000  4394.000000\n",
              "mean   5199.500000  2.264929e+07     8.550230   107.622212\n",
              "std    1269.737571  3.689991e+07    12.209014    21.058290\n",
              "min    3001.000000  0.000000e+00     0.000001     0.000000\n",
              "25%    4100.250000  0.000000e+00     3.895186    94.000000\n",
              "50%    5199.500000  7.450000e+06     7.482241   104.000000\n",
              "75%    6298.750000  2.800000e+07    10.938524   118.000000\n",
              "max    7398.000000  2.600000e+08   547.488298   320.000000"
            ]
          },
          "metadata": {
            "tags": []
          },
          "execution_count": 8
        }
      ]
    },
    {
      "metadata": {
        "id": "XLvGCtpbUC8h",
        "colab_type": "code",
        "outputId": "8af64d59-db54-4806-f5a3-1ab4fad22c52",
        "colab": {
          "base_uri": "https://localhost:8080/",
          "height": 425
        }
      },
      "cell_type": "code",
      "source": [
        "df.isna().sum().sort_values(ascending=False)"
      ],
      "execution_count": 9,
      "outputs": [
        {
          "output_type": "execute_result",
          "data": {
            "text/plain": [
              "belongs_to_collection    2396\n",
              "homepage                 2054\n",
              "tagline                   597\n",
              "Keywords                  276\n",
              "production_companies      156\n",
              "production_countries       55\n",
              "spoken_languages           20\n",
              "crew                       16\n",
              "cast                       13\n",
              "overview                    8\n",
              "genres                      7\n",
              "runtime                     2\n",
              "poster_path                 1\n",
              "original_language           0\n",
              "budget                      0\n",
              "imdb_id                     0\n",
              "revenue                     0\n",
              "original_title              0\n",
              "popularity                  0\n",
              "release_date                0\n",
              "status                      0\n",
              "title                       0\n",
              "id                          0\n",
              "dtype: int64"
            ]
          },
          "metadata": {
            "tags": []
          },
          "execution_count": 9
        }
      ]
    },
    {
      "metadata": {
        "id": "5KzjxnF_D9eF",
        "colab_type": "code",
        "colab": {
          "base_uri": "https://localhost:8080/",
          "height": 408
        },
        "outputId": "d4204465-7243-43fa-fa67-500737a67ea7"
      },
      "cell_type": "code",
      "source": [
        "test.isna().sum().sort_values(ascending=False)"
      ],
      "execution_count": 10,
      "outputs": [
        {
          "output_type": "execute_result",
          "data": {
            "text/plain": [
              "belongs_to_collection    3521\n",
              "homepage                 2978\n",
              "tagline                   863\n",
              "Keywords                  393\n",
              "production_companies      258\n",
              "production_countries      102\n",
              "spoken_languages           42\n",
              "crew                       22\n",
              "genres                     16\n",
              "overview                   14\n",
              "cast                       13\n",
              "runtime                     4\n",
              "title                       3\n",
              "status                      2\n",
              "poster_path                 1\n",
              "release_date                1\n",
              "original_language           0\n",
              "imdb_id                     0\n",
              "original_title              0\n",
              "popularity                  0\n",
              "budget                      0\n",
              "id                          0\n",
              "dtype: int64"
            ]
          },
          "metadata": {
            "tags": []
          },
          "execution_count": 10
        }
      ]
    },
    {
      "metadata": {
        "id": "WaDfohQLZbar",
        "colab_type": "text"
      },
      "cell_type": "markdown",
      "source": [
        "### Cleaning and analysing the dataset"
      ]
    },
    {
      "metadata": {
        "id": "wByVMMf4UC7i",
        "colab_type": "text"
      },
      "cell_type": "markdown",
      "source": [
        "Let's remove few columns which does not look like to have importance and also few of the columns which have a lot of NaN's."
      ]
    },
    {
      "metadata": {
        "id": "LihPYQ8vUC4r",
        "colab_type": "code",
        "outputId": "aa0528a9-380a-47be-b699-d88809162615",
        "colab": {
          "base_uri": "https://localhost:8080/",
          "height": 54
        }
      },
      "cell_type": "code",
      "source": [
        "df['belongs_to_collection'][0]"
      ],
      "execution_count": 11,
      "outputs": [
        {
          "output_type": "execute_result",
          "data": {
            "text/plain": [
              "\"[{'id': 313576, 'name': 'Hot Tub Time Machine Collection', 'poster_path': '/iEhb00TGPucF0b4joM1ieyY026U.jpg', 'backdrop_path': '/noeTVcgpBiD48fDjFVic1Vz7ope.jpg'}]\""
            ]
          },
          "metadata": {
            "tags": []
          },
          "execution_count": 11
        }
      ]
    },
    {
      "metadata": {
        "id": "WgZsS3MaUC3Y",
        "colab_type": "code",
        "outputId": "15eca008-092d-42df-fb26-ba6b371c1add",
        "colab": {
          "base_uri": "https://localhost:8080/",
          "height": 119
        }
      },
      "cell_type": "code",
      "source": [
        "df['homepage'][:5]"
      ],
      "execution_count": 12,
      "outputs": [
        {
          "output_type": "execute_result",
          "data": {
            "text/plain": [
              "0                                  NaN\n",
              "1                                  NaN\n",
              "2    http://sonyclassics.com/whiplash/\n",
              "3           http://kahaanithefilm.com/\n",
              "4                                  NaN\n",
              "Name: homepage, dtype: object"
            ]
          },
          "metadata": {
            "tags": []
          },
          "execution_count": 12
        }
      ]
    },
    {
      "metadata": {
        "id": "tnvjWLECUC0i",
        "colab_type": "code",
        "outputId": "29f63d92-f60e-4b6f-fb51-17530e1794c0",
        "colab": {
          "base_uri": "https://localhost:8080/",
          "height": 34
        }
      },
      "cell_type": "code",
      "source": [
        "## tagline features seems important but there are too many NaN values(1/6th of dataset).\n",
        "df['tagline'][0]"
      ],
      "execution_count": 13,
      "outputs": [
        {
          "output_type": "execute_result",
          "data": {
            "text/plain": [
              "'The Laws of Space and Time are About to be Violated.'"
            ]
          },
          "metadata": {
            "tags": []
          },
          "execution_count": 13
        }
      ]
    },
    {
      "metadata": {
        "id": "DUOHW8a5UCyy",
        "colab_type": "code",
        "outputId": "68695994-be11-45e9-95f7-47edc3f29094",
        "colab": {
          "base_uri": "https://localhost:8080/",
          "height": 34
        }
      },
      "cell_type": "code",
      "source": [
        "df['Keywords'][0]"
      ],
      "execution_count": 14,
      "outputs": [
        {
          "output_type": "execute_result",
          "data": {
            "text/plain": [
              "\"[{'id': 4379, 'name': 'time travel'}, {'id': 9663, 'name': 'sequel'}, {'id': 11830, 'name': 'hot tub'}, {'id': 179431, 'name': 'duringcreditsstinger'}]\""
            ]
          },
          "metadata": {
            "tags": []
          },
          "execution_count": 14
        }
      ]
    },
    {
      "metadata": {
        "id": "xSfAlHOnUCnD",
        "colab_type": "code",
        "outputId": "f0271840-5e2f-406d-e048-eecf7a75be3b",
        "colab": {
          "base_uri": "https://localhost:8080/",
          "height": 34
        }
      },
      "cell_type": "code",
      "source": [
        "df['production_companies'][0]"
      ],
      "execution_count": 15,
      "outputs": [
        {
          "output_type": "execute_result",
          "data": {
            "text/plain": [
              "\"[{'name': 'Paramount Pictures', 'id': 4}, {'name': 'United Artists', 'id': 60}, {'name': 'Metro-Goldwyn-Mayer (MGM)', 'id': 8411}]\""
            ]
          },
          "metadata": {
            "tags": []
          },
          "execution_count": 15
        }
      ]
    },
    {
      "metadata": {
        "id": "ZrkbIU6SXU34",
        "colab_type": "code",
        "outputId": "492f37ea-ce71-466f-9105-5de319025725",
        "colab": {
          "base_uri": "https://localhost:8080/",
          "height": 34
        }
      },
      "cell_type": "code",
      "source": [
        "df['production_countries'][0]"
      ],
      "execution_count": 16,
      "outputs": [
        {
          "output_type": "execute_result",
          "data": {
            "text/plain": [
              "\"[{'iso_3166_1': 'US', 'name': 'United States of America'}]\""
            ]
          },
          "metadata": {
            "tags": []
          },
          "execution_count": 16
        }
      ]
    },
    {
      "metadata": {
        "id": "hg54PkeDXU0d",
        "colab_type": "code",
        "outputId": "b9ff83c9-3a7b-47c4-d845-731fe80bfba1",
        "colab": {
          "base_uri": "https://localhost:8080/",
          "height": 34
        }
      },
      "cell_type": "code",
      "source": [
        "df['spoken_languages'][0]"
      ],
      "execution_count": 17,
      "outputs": [
        {
          "output_type": "execute_result",
          "data": {
            "text/plain": [
              "\"[{'iso_639_1': 'en', 'name': 'English'}]\""
            ]
          },
          "metadata": {
            "tags": []
          },
          "execution_count": 17
        }
      ]
    },
    {
      "metadata": {
        "id": "kmmgqkL0XUy-",
        "colab_type": "code",
        "outputId": "64b91938-79ed-42f8-e0e4-607146c48d39",
        "colab": {
          "base_uri": "https://localhost:8080/",
          "height": 54
        }
      },
      "cell_type": "code",
      "source": [
        "df['crew'][0]"
      ],
      "execution_count": 18,
      "outputs": [
        {
          "output_type": "execute_result",
          "data": {
            "text/plain": [
              "'[{\\'credit_id\\': \\'59ac067c92514107af02c8c8\\', \\'department\\': \\'Directing\\', \\'gender\\': 0, \\'id\\': 1449071, \\'job\\': \\'First Assistant Director\\', \\'name\\': \\'Kelly Cantley\\', \\'profile_path\\': None}, {\\'credit_id\\': \\'52fe4ee7c3a36847f82afad7\\', \\'department\\': \\'Directing\\', \\'gender\\': 2, \\'id\\': 3227, \\'job\\': \\'Director\\', \\'name\\': \\'Steve Pink\\', \\'profile_path\\': \\'/myHOgo8mQSCiCAZNGMRdHVr03jr.jpg\\'}, {\\'credit_id\\': \\'5524ed25c3a3687ded000d88\\', \\'department\\': \\'Writing\\', \\'gender\\': 2, \\'id\\': 347335, \\'job\\': \\'Writer\\', \\'name\\': \\'Josh Heald\\', \\'profile_path\\': \\'/pwXJIenrDMrG7t3zNfLvr8w1RGU.jpg\\'}, {\\'credit_id\\': \\'5524ed2d925141720c001128\\', \\'department\\': \\'Writing\\', \\'gender\\': 2, \\'id\\': 347335, \\'job\\': \\'Characters\\', \\'name\\': \\'Josh Heald\\', \\'profile_path\\': \\'/pwXJIenrDMrG7t3zNfLvr8w1RGU.jpg\\'}, {\\'credit_id\\': \\'5524ed3d92514166c1004a5d\\', \\'department\\': \\'Production\\', \\'gender\\': 2, \\'id\\': 57822, \\'job\\': \\'Producer\\', \\'name\\': \\'Andrew Panay\\', \\'profile_path\\': None}, {\\'credit_id\\': \\'5524ed4bc3a3687df3000dd2\\', \\'department\\': \\'Production\\', \\'gender\\': 0, \\'id\\': 1451395, \\'job\\': \\'Associate Producer\\', \\'name\\': \\'Adam Blum\\', \\'profile_path\\': None}, {\\'credit_id\\': \\'5524ed5a925141720c00112c\\', \\'department\\': \\'Production\\', \\'gender\\': 2, \\'id\\': 52997, \\'job\\': \\'Executive Producer\\', \\'name\\': \\'Rob Corddry\\', \\'profile_path\\': \\'/k2zJL0V1nEZuFT08xUdOd3ucfXz.jpg\\'}, {\\'credit_id\\': \\'5524ed85c3a3687e0e000f56\\', \\'department\\': \\'Production\\', \\'gender\\': 0, \\'id\\': 62807, \\'job\\': \\'Executive Producer\\', \\'name\\': \\'Ben Ormand\\', \\'profile_path\\': None}, {\\'credit_id\\': \\'5524ed9fc3a3687e0e000f59\\', \\'department\\': \\'Sound\\', \\'gender\\': 2, \\'id\\': 23486, \\'job\\': \\'Original Music Composer\\', \\'name\\': \\'Christophe Beck\\', \\'profile_path\\': \\'/2fnJUmCk6IEpVIptpYaUk31epHx.jpg\\'}, {\\'credit_id\\': \\'5524eda6c3a3687e03000d28\\', \\'department\\': \\'Camera\\', \\'gender\\': 2, \\'id\\': 6117, \\'job\\': \\'Director of Photography\\', \\'name\\': \\'Declan Quinn\\', \\'profile_path\\': None}, {\\'credit_id\\': \\'5524edb4925141720c00113d\\', \\'department\\': \\'Editing\\', \\'gender\\': 0, \\'id\\': 1451396, \\'job\\': \\'Editor\\', \\'name\\': \\'Jamie Gross\\', \\'profile_path\\': None}, {\\'credit_id\\': \\'5524edc1925141727600102e\\', \\'department\\': \\'Production\\', \\'gender\\': 0, \\'id\\': 22219, \\'job\\': \\'Casting\\', \\'name\\': \\'Susie Farris\\', \\'profile_path\\': None}, {\\'credit_id\\': \\'5524edd192514171cb008257\\', \\'department\\': \\'Art\\', \\'gender\\': 0, \\'id\\': 1002643, \\'job\\': \\'Production Design\\', \\'name\\': \\'Ryan Berg\\', \\'profile_path\\': None}, {\\'credit_id\\': \\'555ad9be9251411e5b00d485\\', \\'department\\': \\'Production\\', \\'gender\\': 2, \\'id\\': 57431, \\'job\\': \\'Executive Producer\\', \\'name\\': \\'Matt Moore\\', \\'profile_path\\': None}, {\\'credit_id\\': \\'5677e93bc3a36816890087dc\\', \\'department\\': \\'Directing\\', \\'gender\\': 0, \\'id\\': 1551818, \\'job\\': \\'Script Supervisor\\', \\'name\\': \\'Nicole Garcea\\', \\'profile_path\\': None}, {\\'credit_id\\': \\'5677e96a92514179e10093d0\\', \\'department\\': \\'Production\\', \\'gender\\': 0, \\'id\\': 1551819, \\'job\\': \\'Production Coordinator\\', \\'name\\': \\'Jason Salzman\\', \\'profile_path\\': None}, {\\'credit_id\\': \\'5677e98492514179d2008cd9\\', \\'department\\': \\'Costume & Make-Up\\', \\'gender\\': 0, \\'id\\': 1422996, \\'job\\': \\'Costume Design\\', \\'name\\': \\'Carol Cutshall\\', \\'profile_path\\': None}, {\\'credit_id\\': \\'5677e9d5c3a368168e009414\\', \\'department\\': \\'Art\\', \\'gender\\': 2, \\'id\\': 500199, \\'job\\': \\'Set Decoration\\', \\'name\\': \\'Tim Cohn\\', \\'profile_path\\': None}, {\\'credit_id\\': \\'5677f89d9251417845001a61\\', \\'department\\': \\'Costume & Make-Up\\', \\'gender\\': 0, \\'id\\': 1527917, \\'job\\': \\'Hair Department Head\\', \\'name\\': \\'Voni Hinkle\\', \\'profile_path\\': None}, {\\'credit_id\\': \\'5677f8b392514179dd0089fb\\', \\'department\\': \\'Costume & Make-Up\\', \\'gender\\': 0, \\'id\\': 1431554, \\'job\\': \\'Makeup Department Head\\', \\'name\\': \\'Remi Savva\\', \\'profile_path\\': None}, {\\'credit_id\\': \\'5677f8d1c3a3681689008a4b\\', \\'department\\': \\'Art\\', \\'gender\\': 0, \\'id\\': 66495, \\'job\\': \\'Art Direction\\', \\'name\\': \\'Jason Baldwin Stewart\\', \\'profile_path\\': None}, {\\'credit_id\\': \\'5677f8eec3a3681685008dd5\\', \\'department\\': \\'Production\\', \\'gender\\': 0, \\'id\\': 1412466, \\'job\\': \\'Production Supervisor\\', \\'name\\': \\'Korey Budd\\', \\'profile_path\\': None}, {\\'credit_id\\': \\'5677f90a9251417845001a7d\\', \\'department\\': \\'Sound\\', \\'gender\\': 0, \\'id\\': 1401562, \\'job\\': \\'Sound Re-Recording Mixer\\', \\'name\\': \\'Gary C. Bourgeois\\', \\'profile_path\\': None}, {\\'credit_id\\': \\'5677f91e9251417845001a84\\', \\'department\\': \\'Sound\\', \\'gender\\': 0, \\'id\\': 1396794, \\'job\\': \\'Sound Re-Recording Mixer\\', \\'name\\': \\'Gabriel J. Serrano\\', \\'profile_path\\': None}, {\\'credit_id\\': \\'5677f938c3a3681680008dd4\\', \\'department\\': \\'Editing\\', \\'gender\\': 0, \\'id\\': 13168, \\'job\\': \\'Dialogue Editor\\', \\'name\\': \\'Victoria Rose Sampson\\', \\'profile_path\\': None}, {\\'credit_id\\': \\'5677f94e92514179dd008a1f\\', \\'department\\': \\'Sound\\', \\'gender\\': 0, \\'id\\': 1551839, \\'job\\': \\'Production Sound Mixer\\', \\'name\\': \\'Michael B. Koff\\', \\'profile_path\\': None}, {\\'credit_id\\': \\'5677f968c3a368168e009698\\', \\'department\\': \\'Sound\\', \\'gender\\': 0, \\'id\\': 113052, \\'job\\': \\'Sound Effects Editor\\', \\'name\\': \\'Randall Guth\\', \\'profile_path\\': None}, {\\'credit_id\\': \\'5677f98dc3a3681685008e02\\', \\'department\\': \\'Crew\\', \\'gender\\': 2, \\'id\\': 1442535, \\'job\\': \\'Stunt Coordinator\\', \\'name\\': \\'Chuck Picerni Jr.\\', \\'profile_path\\': \\'/yE5QtXUzcrnCzMRctZL8F5g842B.jpg\\'}, {\\'credit_id\\': \\'5677f9a692514179dd008a49\\', \\'department\\': \\'Camera\\', \\'gender\\': 0, \\'id\\': 1437305, \\'job\\': \\'Camera Operator\\', \\'name\\': \\'Michael Applebaum\\', \\'profile_path\\': None}, {\\'credit_id\\': \\'5677f9bd9251417845001aae\\', \\'department\\': \\'Camera\\', \\'gender\\': 0, \\'id\\': 1401765, \\'job\\': \\'Still Photographer\\', \\'name\\': \\'Steve Dietl\\', \\'profile_path\\': None}, {\\'credit_id\\': \\'5677f9e592514179e7008bf7\\', \\'department\\': \\'Lighting\\', \\'gender\\': 0, \\'id\\': 1402721, \\'job\\': \\'Rigging Gaffer\\', \\'name\\': \\'Tarik Naim Alherimi\\', \\'profile_path\\': None}, {\\'credit_id\\': \\'5677f9f4c3a368167c0090ed\\', \\'department\\': \\'Lighting\\', \\'gender\\': 0, \\'id\\': 1402719, \\'job\\': \\'Gaffer\\', \\'name\\': \\'Paul Olinde\\', \\'profile_path\\': None}, {\\'credit_id\\': \\'5677fa21c3a368168e0096ca\\', \\'department\\': \\'Sound\\', \\'gender\\': 0, \\'id\\': 1551840, \\'job\\': \\'Music Supervisor\\', \\'name\\': \\'Steve Griffen\\', \\'profile_path\\': None}, {\\'credit_id\\': \\'5677fa31c3a3681680008e04\\', \\'department\\': \\'Sound\\', \\'gender\\': 0, \\'id\\': 1551841, \\'job\\': \\'Music Editor\\', \\'name\\': \\'Matt Fausak\\', \\'profile_path\\': None}, {\\'credit_id\\': \\'5677fa4392514179dd008a76\\', \\'department\\': \\'Sound\\', \\'gender\\': 0, \\'id\\': 1551840, \\'job\\': \\'Music Editor\\', \\'name\\': \\'Steve Griffen\\', \\'profile_path\\': None}, {\\'credit_id\\': \\'5677fa609251417845001acf\\', \\'department\\': \\'Costume & Make-Up\\', \\'gender\\': 0, \\'id\\': 1403416, \\'job\\': \\'Costume Supervisor\\', \\'name\\': \\'Shonta T. McCray\\', \\'profile_path\\': None}, {\\'credit_id\\': \\'5677fa8492514179d2008fb3\\', \\'department\\': \\'Camera\\', \\'gender\\': 0, \\'id\\': 1425831, \\'job\\': \\'Steadicam Operator\\', \\'name\\': \\'Mark Karavite\\', \\'profile_path\\': None}, {\\'credit_id\\': \\'5677fab2c3a3681689008ac3\\', \\'department\\': \\'Camera\\', \\'gender\\': 0, \\'id\\': 1551842, \\'job\\': \\'First Assistant Camera\\', \\'name\\': \\'Joe Waistell\\', \\'profile_path\\': None}, {\\'credit_id\\': \\'5677faecc3a368168e0096fe\\', \\'department\\': \\'Sound\\', \\'gender\\': 0, \\'id\\': 58362, \\'job\\': \\'Supervising Sound Editor\\', \\'name\\': \\'Michael Hilkene\\', \\'profile_path\\': None}, {\\'credit_id\\': \\'59ac0368c3a3682c0a02c484\\', \\'department\\': \\'Crew\\', \\'gender\\': 0, \\'id\\': 1881584, \\'job\\': \\'Additional Writing\\', \\'name\\': \\'John Karnay\\', \\'profile_path\\': None}, {\\'credit_id\\': \\'59ac0411c3a3682bf0028966\\', \\'department\\': \\'Costume & Make-Up\\', \\'gender\\': 0, \\'id\\': 1431552, \\'job\\': \\'Hairstylist\\', \\'name\\': \\'Daina Daigle\\', \\'profile_path\\': None}, {\\'credit_id\\': \\'59ac0504925141072302b8fb\\', \\'department\\': \\'Costume & Make-Up\\', \\'gender\\': 0, \\'id\\': 1712001, \\'job\\': \\'Makeup Artist\\', \\'name\\': \\'Allison Gordin\\', \\'profile_path\\': None}, {\\'credit_id\\': \\'59ac0570c3a3682bf0028aac\\', \\'department\\': \\'Costume & Make-Up\\', \\'gender\\': 0, \\'id\\': 578725, \\'job\\': \\'Makeup Artist\\', \\'name\\': \\'Darryl Lucas\\', \\'profile_path\\': None}, {\\'credit_id\\': \\'59ac05a4925141077e02c97e\\', \\'department\\': \\'Costume & Make-Up\\', \\'gender\\': 0, \\'id\\': 1463274, \\'job\\': \\'Makeup Artist\\', \\'name\\': \\'Annabelle MacNeal\\', \\'profile_path\\': None}, {\\'credit_id\\': \\'59ac05c6925141076502d106\\', \\'department\\': \\'Costume & Make-Up\\', \\'gender\\': 0, \\'id\\': 1881586, \\'job\\': \\'Makeup Artist\\', \\'name\\': \\'Marina Savva\\', \\'profile_path\\': None}, {\\'credit_id\\': \\'59ac0615c3a3682c480296aa\\', \\'department\\': \\'Costume & Make-Up\\', \\'gender\\': 0, \\'id\\': 1406267, \\'job\\': \\'Hairstylist\\', \\'name\\': \\'Carl G. Variste\\', \\'profile_path\\': None}, {\\'credit_id\\': \\'59ac06ba925141076502d1fa\\', \\'department\\': \\'Directing\\', \\'gender\\': 0, \\'id\\': 1798593, \\'job\\': \\'First Assistant Director\\', \\'name\\': \\'Josh King\\', \\'profile_path\\': None}, {\\'credit_id\\': \\'59ac06f1c3a3682c2202aca0\\', \\'department\\': \\'Art\\', \\'gender\\': 0, \\'id\\': 1415083, \\'job\\': \\'Greensman\\', \\'name\\': \\'Scott C. Bivona\\', \\'profile_path\\': None}, {\\'credit_id\\': \\'59ac072c925141076502d260\\', \\'department\\': \\'Art\\', \\'gender\\': 0, \\'id\\': 1881587, \\'job\\': \\'Title Designer\\', \\'name\\': \\'Eunha Choi\\', \\'profile_path\\': None}, {\\'credit_id\\': \\'59ac077c925141077e02cb62\\', \\'department\\': \\'Art\\', \\'gender\\': 0, \\'id\\': 1585302, \\'job\\': \\'Construction Coordinator\\', \\'name\\': \\'Daniel Coe\\', \\'profile_path\\': None}, {\\'credit_id\\': \\'59ac07e0925141078a02d842\\', \\'department\\': \\'Art\\', \\'gender\\': 0, \\'id\\': 1495523, \\'job\\': \\'Set Designer\\', \\'name\\': \\'Spencer Davison\\', \\'profile_path\\': None}, {\\'credit_id\\': \\'59ac0862925141072f02cf6f\\', \\'department\\': \\'Art\\', \\'gender\\': 0, \\'id\\': 1881589, \\'job\\': \\'Painter\\', \\'name\\': \\'Sonia L. Garcia\\', \\'profile_path\\': None}, {\\'credit_id\\': \\'59ac08e0c3a3682bf0028e51\\', \\'department\\': \\'Art\\', \\'gender\\': 0, \\'id\\': 1424896, \\'job\\': \\'Art Department Coordinator\\', \\'name\\': \\'Caleb Guillotte\\', \\'profile_path\\': None}, {\\'credit_id\\': \\'59ac0920c3a3682c2202af36\\', \\'department\\': \\'Art\\', \\'gender\\': 0, \\'id\\': 1393375, \\'job\\': \\'Leadman\\', \\'name\\': \"Pat A. O\\'Connor\", \\'profile_path\\': None}, {\\'credit_id\\': \\'59ac095592514107af02cc39\\', \\'department\\': \\'Art\\', \\'gender\\': 0, \\'id\\': 1881592, \\'job\\': \\'Set Designer\\', \\'name\\': \\'Brendan Turrill\\', \\'profile_path\\': None}, {\\'credit_id\\': \\'59ac0989925141072302bdfa\\', \\'department\\': \\'Art\\', \\'gender\\': 2, \\'id\\': 76497, \\'job\\': \\'Property Master\\', \\'name\\': \\'Brook Yeaton\\', \\'profile_path\\': None}, {\\'credit_id\\': \\'59ac0a2cc3a3682c9c02add1\\', \\'department\\': \\'Sound\\', \\'gender\\': 0, \\'id\\': 1881596, \\'job\\': \\'Boom Operator\\', \\'name\\': \\'Matthew Armstrong\\', \\'profile_path\\': None}, {\\'credit_id\\': \\'59ac0aa8925141072f02d282\\', \\'department\\': \\'Visual Effects\\', \\'gender\\': 2, \\'id\\': 1558086, \\'job\\': \\'Special Effects Supervisor\\', \\'name\\': \\'Matt Kutcher\\', \\'profile_path\\': None}, {\\'credit_id\\': \\'59ac0b2ac3a3682c2202b192\\', \\'department\\': \\'Crew\\', \\'gender\\': 2, \\'id\\': 1558087, \\'job\\': \\'Special Effects Coordinator\\', \\'name\\': \\'Eric Roberts\\', \\'profile_path\\': None}, {\\'credit_id\\': \\'59ac0b7ac3a3682c2202b1fb\\', \\'department\\': \\'Visual Effects\\', \\'gender\\': 0, \\'id\\': 1392098, \\'job\\': \\'Visual Effects Supervisor\\', \\'name\\': \\'Rocco Passionino\\', \\'profile_path\\': None}, {\\'credit_id\\': \\'59ac0bbe925141077e02d0c4\\', \\'department\\': \\'Visual Effects\\', \\'gender\\': 0, \\'id\\': 1558716, \\'job\\': \\'Visual Effects Coordinator\\', \\'name\\': \\'Joseph Payo\\', \\'profile_path\\': None}, {\\'credit_id\\': \\'59ac0bf2c3a3682cc802cefa\\', \\'department\\': \\'Visual Effects\\', \\'gender\\': 0, \\'id\\': 1408784, \\'job\\': \\'Visual Effects Producer\\', \\'name\\': \\'Chris Roff\\', \\'profile_path\\': None}, {\\'credit_id\\': \\'59ac0c51c3a3682c48029d99\\', \\'department\\': \\'Lighting\\', \\'gender\\': 0, \\'id\\': 1881600, \\'job\\': \\'Best Boy Electric\\', \\'name\\': \\'Ulyan Atamanyuk\\', \\'profile_path\\': None}, {\\'credit_id\\': \\'59ac0cbac3a3682c0a02cff6\\', \\'department\\': \\'Camera\\', \\'gender\\': 0, \\'id\\': 1881602, \\'job\\': \\'Key Grip\\', \\'name\\': \\'Chris Ekstrom\\', \\'profile_path\\': None}, {\\'credit_id\\': \\'59ac0d54925141072f02d5e6\\', \\'department\\': \\'Lighting\\', \\'gender\\': 0, \\'id\\': 1484984, \\'job\\': \\'Best Boy Electric\\', \\'name\\': \\'Brad Garris\\', \\'profile_path\\': None}, {\\'credit_id\\': \\'59ac0db0925141078a02df86\\', \\'department\\': \\'Camera\\', \\'gender\\': 0, \\'id\\': 1881603, \\'job\\': \\'Dolly Grip\\', \\'name\\': \\'Kendell Joseph\\', \\'profile_path\\': None}, {\\'credit_id\\': \\'59ac0e5a925141077e02d39f\\', \\'department\\': \\'Camera\\', \\'gender\\': 0, \\'id\\': 1549179, \\'job\\': \\'Dolly Grip\\', \\'name\\': \\'Spencer Wilcox\\', \\'profile_path\\': None}, {\\'credit_id\\': \\'59ac0e9f925141079d02bee6\\', \\'department\\': \\'Costume & Make-Up\\', \\'gender\\': 0, \\'id\\': 1552626, \\'job\\': \\'Key Costumer\\', \\'name\\': \\'Sarah P. Koeppe\\', \\'profile_path\\': None}, {\\'credit_id\\': \\'59ac0ec1c3a3682bf0029524\\', \\'department\\': \\'Costume & Make-Up\\', \\'gender\\': 0, \\'id\\': 1881605, \\'job\\': \\'Seamstress\\', \\'name\\': \\'Catherine Rodi\\', \\'profile_path\\': None}, {\\'credit_id\\': \\'59ac0eef925141070702c7ff\\', \\'department\\': \\'Costume & Make-Up\\', \\'gender\\': 0, \\'id\\': 1463801, \\'job\\': \\'Seamstress\\', \\'name\\': \\'Giselle Spence\\', \\'profile_path\\': None}, {\\'credit_id\\': \\'59ac0f5dc3a3682c4802a0f5\\', \\'department\\': \\'Production\\', \\'gender\\': 0, \\'id\\': 1400837, \\'job\\': \\'Location Manager\\', \\'name\\': \\'John A. Johnston\\', \\'profile_path\\': None}, {\\'credit_id\\': \\'59ac0ff2c3a3682c4802a196\\', \\'department\\': \\'Crew\\', \\'gender\\': 0, \\'id\\': 1844322, \\'job\\': \\'Production Controller\\', \\'name\\': \\'Gail Marks\\', \\'profile_path\\': None}]'"
            ]
          },
          "metadata": {
            "tags": []
          },
          "execution_count": 18
        }
      ]
    },
    {
      "metadata": {
        "id": "YTJ2fqzJXUxH",
        "colab_type": "code",
        "outputId": "b4529e21-7d16-477d-e04c-83a23d73201f",
        "colab": {
          "base_uri": "https://localhost:8080/",
          "height": 54
        }
      },
      "cell_type": "code",
      "source": [
        "df['cast'][0]"
      ],
      "execution_count": 19,
      "outputs": [
        {
          "output_type": "execute_result",
          "data": {
            "text/plain": [
              "\"[{'cast_id': 4, 'character': 'Lou', 'credit_id': '52fe4ee7c3a36847f82afae7', 'gender': 2, 'id': 52997, 'name': 'Rob Corddry', 'order': 0, 'profile_path': '/k2zJL0V1nEZuFT08xUdOd3ucfXz.jpg'}, {'cast_id': 5, 'character': 'Nick', 'credit_id': '52fe4ee7c3a36847f82afaeb', 'gender': 2, 'id': 64342, 'name': 'Craig Robinson', 'order': 1, 'profile_path': '/tVaRMkJXOEVhYxtnnFuhqW0Rjzz.jpg'}, {'cast_id': 6, 'character': 'Jacob', 'credit_id': '52fe4ee7c3a36847f82afaef', 'gender': 2, 'id': 54729, 'name': 'Clark Duke', 'order': 2, 'profile_path': '/oNzK0umwm5Wn0wyEbOy6TVJCSBn.jpg'}, {'cast_id': 7, 'character': 'Adam Jr.', 'credit_id': '52fe4ee7c3a36847f82afaf3', 'gender': 2, 'id': 36801, 'name': 'Adam Scott', 'order': 3, 'profile_path': '/5gb65xz8bzd42yjMAl4zwo4cvKw.jpg'}, {'cast_id': 8, 'character': 'Hot Tub Repairman', 'credit_id': '52fe4ee7c3a36847f82afaf7', 'gender': 2, 'id': 54812, 'name': 'Chevy Chase', 'order': 4, 'profile_path': '/svjpyYtPwtjvRxX9IZnOmOkhDOt.jpg'}, {'cast_id': 9, 'character': 'Jill', 'credit_id': '52fe4ee7c3a36847f82afafb', 'gender': 1, 'id': 94098, 'name': 'Gillian Jacobs', 'order': 5, 'profile_path': '/rBnhe5vhNPnhRUdtYahBWx90fJM.jpg'}, {'cast_id': 10, 'character': 'Sophie', 'credit_id': '52fe4ee7c3a36847f82afaff', 'gender': 1, 'id': 1159009, 'name': 'Bianca Haase', 'order': 6, 'profile_path': '/4x3nbtD8q8phAJPmoGWXPvz0iM.jpg'}, {'cast_id': 11, 'character': 'Kelly', 'credit_id': '5524ec51c3a3687df3000dbb', 'gender': 1, 'id': 86624, 'name': 'Collette Wolfe', 'order': 7, 'profile_path': '/aSD4h5379b2eEw3bLou9ByLimmq.jpg'}, {'cast_id': 13, 'character': 'Brad', 'credit_id': '5524ec8ec3a3687ded000d72', 'gender': 2, 'id': 466505, 'name': 'Kumail Nanjiani', 'order': 9, 'profile_path': '/x4nAztHY72SVciRfxEsbhIVTsIu.jpg'}, {'cast_id': 14, 'character': 'Courtney', 'credit_id': '5524ec9bc3a3687df8000d13', 'gender': 1, 'id': 70776, 'name': 'Kellee Stewart', 'order': 10, 'profile_path': '/w3xmsEPmJc1Cf0dQ4aIn8YmlHbk.jpg'}, {'cast_id': 15, 'character': 'Terry', 'credit_id': '5524eca892514171cb008237', 'gender': 2, 'id': 347335, 'name': 'Josh Heald', 'order': 11, 'profile_path': '/pwXJIenrDMrG7t3zNfLvr8w1RGU.jpg'}, {'cast_id': 16, 'character': 'Susan', 'credit_id': '5524ecb7925141720c001116', 'gender': 0, 'id': 1451392, 'name': 'Gretchen Koerner', 'order': 12, 'profile_path': '/muULPexCTJGyJba4yKzxronpD50.jpg'}, {'cast_id': 17, 'character': 'Herself', 'credit_id': '5524ecc3c3a3687ded000d74', 'gender': 1, 'id': 98879, 'name': 'Lisa Loeb', 'order': 13, 'profile_path': '/bGqg58ca0bZR38z9HliUMmeNGE.jpg'}, {'cast_id': 18, 'character': 'Herself', 'credit_id': '5524ecd3c3a3687e11000ed3', 'gender': 1, 'id': 1394648, 'name': 'Jessica Williams', 'order': 14, 'profile_path': '/A4syKjkcYB92wLEhH0c0hC3BCpz.jpg'}, {'cast_id': 19, 'character': 'Himself', 'credit_id': '5524ece6925141718d001009', 'gender': 0, 'id': 1451393, 'name': 'Bruce Buffer', 'order': 15, 'profile_path': None}, {'cast_id': 20, 'character': 'Shot Girl', 'credit_id': '5524ecf5c3a3687e08000dc2', 'gender': 0, 'id': 1451394, 'name': 'Mariana Paola Vicente', 'order': 16, 'profile_path': '/ckPllza8624UHWGHCbLShkLxCD1.jpg'}, {'cast_id': 33, 'character': 'Choozy Doozy Host', 'credit_id': '555844da9251412afe0013a9', 'gender': 2, 'id': 2224, 'name': 'Christian Slater', 'order': 17, 'profile_path': '/3ElLWjnvchMS6Q4cIQOK8QNAoMG.jpg'}, {'cast_id': 35, 'character': 'Gary Winkle', 'credit_id': '55872027c3a3683853005074', 'gender': 0, 'id': 185805, 'name': 'Jason Jones', 'order': 18, 'profile_path': '/aIoCw6vo8AGMdsQRAI5g2t0yJT3.jpg'}, {'cast_id': 36, 'character': 'Bridesmaid', 'credit_id': '55efe971c3a368090c00cd1b', 'gender': 0, 'id': 1507448, 'name': 'Olivia Jordan', 'order': 19, 'profile_path': '/szMukAEiIDeasel0lvyaeyKuych.jpg'}, {'cast_id': 37, 'character': 'Christine', 'credit_id': '55efe980c3a36871bf008176', 'gender': 1, 'id': 1334091, 'name': 'Christine Bently', 'order': 20, 'profile_path': '/oUZltnGa55OXE52hfyPTfCshuNy.jpg'}, {'cast_id': 38, 'character': 'Excited Girl', 'credit_id': '55efe98e9251413e3201d316', 'gender': 0, 'id': 557803, 'name': 'Stacey Asaro', 'order': 21, 'profile_path': '/qTPdlr1dXf3kNdyHuDsgtGC0HCC.jpg'}, {'cast_id': 64, 'character': 'Adam (uncredited)', 'credit_id': '58f2135ac3a3682e95008b91', 'gender': 2, 'id': 3036, 'name': 'John Cusack', 'order': 22, 'profile_path': '/uKydQYuZ9TnCzvbQLtj6j98vWAT.jpg'}, {'cast_id': 65, 'character': 'J-Bird', 'credit_id': '59ac0240c3a3682cc802c399', 'gender': 2, 'id': 59256, 'name': 'Adam Herschman', 'order': 23, 'profile_path': '/wZMwiuX1DslF6hDS50z9OTN6z1X.jpg'}, {'cast_id': 66, 'character': 'Bridesmaid', 'credit_id': '59ac02cd925141079d02b1b4', 'gender': 1, 'id': 129714, 'name': 'Kisha Sierra', 'order': 24, 'profile_path': None}]\""
            ]
          },
          "metadata": {
            "tags": []
          },
          "execution_count": 19
        }
      ]
    },
    {
      "metadata": {
        "id": "spnnSXPHXUuI",
        "colab_type": "code",
        "outputId": "89d50437-3d91-4968-9c34-40ae1909286d",
        "colab": {
          "base_uri": "https://localhost:8080/",
          "height": 34
        }
      },
      "cell_type": "code",
      "source": [
        "df['overview'][0]"
      ],
      "execution_count": 20,
      "outputs": [
        {
          "output_type": "execute_result",
          "data": {
            "text/plain": [
              "'When Lou, who has become the \"father of the Internet,\" is shot by an unknown assailant, Jacob and Nick fire up the time machine again to save their friend.'"
            ]
          },
          "metadata": {
            "tags": []
          },
          "execution_count": 20
        }
      ]
    },
    {
      "metadata": {
        "id": "OOIGr3TSXUqP",
        "colab_type": "code",
        "outputId": "8bf92ff4-a1c7-4f09-8d67-b228045c3e6b",
        "colab": {
          "base_uri": "https://localhost:8080/",
          "height": 598
        }
      },
      "cell_type": "code",
      "source": [
        "dropping_cols = ['belongs_to_collection','homepage','tagline']\n",
        "df.drop(dropping_cols,axis=1,inplace=True)\n",
        "print(df.shape)\n",
        "df.head()"
      ],
      "execution_count": 21,
      "outputs": [
        {
          "output_type": "stream",
          "text": [
            "(3000, 20)\n"
          ],
          "name": "stdout"
        },
        {
          "output_type": "execute_result",
          "data": {
            "text/html": [
              "<div>\n",
              "<style scoped>\n",
              "    .dataframe tbody tr th:only-of-type {\n",
              "        vertical-align: middle;\n",
              "    }\n",
              "\n",
              "    .dataframe tbody tr th {\n",
              "        vertical-align: top;\n",
              "    }\n",
              "\n",
              "    .dataframe thead th {\n",
              "        text-align: right;\n",
              "    }\n",
              "</style>\n",
              "<table border=\"1\" class=\"dataframe\">\n",
              "  <thead>\n",
              "    <tr style=\"text-align: right;\">\n",
              "      <th></th>\n",
              "      <th>id</th>\n",
              "      <th>budget</th>\n",
              "      <th>genres</th>\n",
              "      <th>imdb_id</th>\n",
              "      <th>original_language</th>\n",
              "      <th>original_title</th>\n",
              "      <th>overview</th>\n",
              "      <th>popularity</th>\n",
              "      <th>poster_path</th>\n",
              "      <th>production_companies</th>\n",
              "      <th>production_countries</th>\n",
              "      <th>release_date</th>\n",
              "      <th>runtime</th>\n",
              "      <th>spoken_languages</th>\n",
              "      <th>status</th>\n",
              "      <th>title</th>\n",
              "      <th>Keywords</th>\n",
              "      <th>cast</th>\n",
              "      <th>crew</th>\n",
              "      <th>revenue</th>\n",
              "    </tr>\n",
              "  </thead>\n",
              "  <tbody>\n",
              "    <tr>\n",
              "      <th>0</th>\n",
              "      <td>1</td>\n",
              "      <td>14000000</td>\n",
              "      <td>[{'id': 35, 'name': 'Comedy'}]</td>\n",
              "      <td>tt2637294</td>\n",
              "      <td>en</td>\n",
              "      <td>Hot Tub Time Machine 2</td>\n",
              "      <td>When Lou, who has become the \"father of the In...</td>\n",
              "      <td>6.575393</td>\n",
              "      <td>/tQtWuwvMf0hCc2QR2tkolwl7c3c.jpg</td>\n",
              "      <td>[{'name': 'Paramount Pictures', 'id': 4}, {'na...</td>\n",
              "      <td>[{'iso_3166_1': 'US', 'name': 'United States o...</td>\n",
              "      <td>2/20/15</td>\n",
              "      <td>93.0</td>\n",
              "      <td>[{'iso_639_1': 'en', 'name': 'English'}]</td>\n",
              "      <td>Released</td>\n",
              "      <td>Hot Tub Time Machine 2</td>\n",
              "      <td>[{'id': 4379, 'name': 'time travel'}, {'id': 9...</td>\n",
              "      <td>[{'cast_id': 4, 'character': 'Lou', 'credit_id...</td>\n",
              "      <td>[{'credit_id': '59ac067c92514107af02c8c8', 'de...</td>\n",
              "      <td>12314651</td>\n",
              "    </tr>\n",
              "    <tr>\n",
              "      <th>1</th>\n",
              "      <td>2</td>\n",
              "      <td>40000000</td>\n",
              "      <td>[{'id': 35, 'name': 'Comedy'}, {'id': 18, 'nam...</td>\n",
              "      <td>tt0368933</td>\n",
              "      <td>en</td>\n",
              "      <td>The Princess Diaries 2: Royal Engagement</td>\n",
              "      <td>Mia Thermopolis is now a college graduate and ...</td>\n",
              "      <td>8.248895</td>\n",
              "      <td>/w9Z7A0GHEhIp7etpj0vyKOeU1Wx.jpg</td>\n",
              "      <td>[{'name': 'Walt Disney Pictures', 'id': 2}]</td>\n",
              "      <td>[{'iso_3166_1': 'US', 'name': 'United States o...</td>\n",
              "      <td>8/6/04</td>\n",
              "      <td>113.0</td>\n",
              "      <td>[{'iso_639_1': 'en', 'name': 'English'}]</td>\n",
              "      <td>Released</td>\n",
              "      <td>The Princess Diaries 2: Royal Engagement</td>\n",
              "      <td>[{'id': 2505, 'name': 'coronation'}, {'id': 42...</td>\n",
              "      <td>[{'cast_id': 1, 'character': 'Mia Thermopolis'...</td>\n",
              "      <td>[{'credit_id': '52fe43fe9251416c7502563d', 'de...</td>\n",
              "      <td>95149435</td>\n",
              "    </tr>\n",
              "    <tr>\n",
              "      <th>2</th>\n",
              "      <td>3</td>\n",
              "      <td>3300000</td>\n",
              "      <td>[{'id': 18, 'name': 'Drama'}]</td>\n",
              "      <td>tt2582802</td>\n",
              "      <td>en</td>\n",
              "      <td>Whiplash</td>\n",
              "      <td>Under the direction of a ruthless instructor, ...</td>\n",
              "      <td>64.299990</td>\n",
              "      <td>/lIv1QinFqz4dlp5U4lQ6HaiskOZ.jpg</td>\n",
              "      <td>[{'name': 'Bold Films', 'id': 2266}, {'name': ...</td>\n",
              "      <td>[{'iso_3166_1': 'US', 'name': 'United States o...</td>\n",
              "      <td>10/10/14</td>\n",
              "      <td>105.0</td>\n",
              "      <td>[{'iso_639_1': 'en', 'name': 'English'}]</td>\n",
              "      <td>Released</td>\n",
              "      <td>Whiplash</td>\n",
              "      <td>[{'id': 1416, 'name': 'jazz'}, {'id': 1523, 'n...</td>\n",
              "      <td>[{'cast_id': 5, 'character': 'Andrew Neimann',...</td>\n",
              "      <td>[{'credit_id': '54d5356ec3a3683ba0000039', 'de...</td>\n",
              "      <td>13092000</td>\n",
              "    </tr>\n",
              "    <tr>\n",
              "      <th>3</th>\n",
              "      <td>4</td>\n",
              "      <td>1200000</td>\n",
              "      <td>[{'id': 53, 'name': 'Thriller'}, {'id': 18, 'n...</td>\n",
              "      <td>tt1821480</td>\n",
              "      <td>hi</td>\n",
              "      <td>Kahaani</td>\n",
              "      <td>Vidya Bagchi (Vidya Balan) arrives in Kolkata ...</td>\n",
              "      <td>3.174936</td>\n",
              "      <td>/aTXRaPrWSinhcmCrcfJK17urp3F.jpg</td>\n",
              "      <td>NaN</td>\n",
              "      <td>[{'iso_3166_1': 'IN', 'name': 'India'}]</td>\n",
              "      <td>3/9/12</td>\n",
              "      <td>122.0</td>\n",
              "      <td>[{'iso_639_1': 'en', 'name': 'English'}, {'iso...</td>\n",
              "      <td>Released</td>\n",
              "      <td>Kahaani</td>\n",
              "      <td>[{'id': 10092, 'name': 'mystery'}, {'id': 1054...</td>\n",
              "      <td>[{'cast_id': 1, 'character': 'Vidya Bagchi', '...</td>\n",
              "      <td>[{'credit_id': '52fe48779251416c9108d6eb', 'de...</td>\n",
              "      <td>16000000</td>\n",
              "    </tr>\n",
              "    <tr>\n",
              "      <th>4</th>\n",
              "      <td>5</td>\n",
              "      <td>0</td>\n",
              "      <td>[{'id': 28, 'name': 'Action'}, {'id': 53, 'nam...</td>\n",
              "      <td>tt1380152</td>\n",
              "      <td>ko</td>\n",
              "      <td>마린보이</td>\n",
              "      <td>Marine Boy is the story of a former national s...</td>\n",
              "      <td>1.148070</td>\n",
              "      <td>/m22s7zvkVFDU9ir56PiiqIEWFdT.jpg</td>\n",
              "      <td>NaN</td>\n",
              "      <td>[{'iso_3166_1': 'KR', 'name': 'South Korea'}]</td>\n",
              "      <td>2/5/09</td>\n",
              "      <td>118.0</td>\n",
              "      <td>[{'iso_639_1': 'ko', 'name': '한국어/조선말'}]</td>\n",
              "      <td>Released</td>\n",
              "      <td>Marine Boy</td>\n",
              "      <td>NaN</td>\n",
              "      <td>[{'cast_id': 3, 'character': 'Chun-soo', 'cred...</td>\n",
              "      <td>[{'credit_id': '52fe464b9251416c75073b43', 'de...</td>\n",
              "      <td>3923970</td>\n",
              "    </tr>\n",
              "  </tbody>\n",
              "</table>\n",
              "</div>"
            ],
            "text/plain": [
              "   id    budget                                             genres    imdb_id  \\\n",
              "0   1  14000000                     [{'id': 35, 'name': 'Comedy'}]  tt2637294   \n",
              "1   2  40000000  [{'id': 35, 'name': 'Comedy'}, {'id': 18, 'nam...  tt0368933   \n",
              "2   3   3300000                      [{'id': 18, 'name': 'Drama'}]  tt2582802   \n",
              "3   4   1200000  [{'id': 53, 'name': 'Thriller'}, {'id': 18, 'n...  tt1821480   \n",
              "4   5         0  [{'id': 28, 'name': 'Action'}, {'id': 53, 'nam...  tt1380152   \n",
              "\n",
              "  original_language                            original_title  \\\n",
              "0                en                    Hot Tub Time Machine 2   \n",
              "1                en  The Princess Diaries 2: Royal Engagement   \n",
              "2                en                                  Whiplash   \n",
              "3                hi                                   Kahaani   \n",
              "4                ko                                      마린보이   \n",
              "\n",
              "                                            overview  popularity  \\\n",
              "0  When Lou, who has become the \"father of the In...    6.575393   \n",
              "1  Mia Thermopolis is now a college graduate and ...    8.248895   \n",
              "2  Under the direction of a ruthless instructor, ...   64.299990   \n",
              "3  Vidya Bagchi (Vidya Balan) arrives in Kolkata ...    3.174936   \n",
              "4  Marine Boy is the story of a former national s...    1.148070   \n",
              "\n",
              "                        poster_path  \\\n",
              "0  /tQtWuwvMf0hCc2QR2tkolwl7c3c.jpg   \n",
              "1  /w9Z7A0GHEhIp7etpj0vyKOeU1Wx.jpg   \n",
              "2  /lIv1QinFqz4dlp5U4lQ6HaiskOZ.jpg   \n",
              "3  /aTXRaPrWSinhcmCrcfJK17urp3F.jpg   \n",
              "4  /m22s7zvkVFDU9ir56PiiqIEWFdT.jpg   \n",
              "\n",
              "                                production_companies  \\\n",
              "0  [{'name': 'Paramount Pictures', 'id': 4}, {'na...   \n",
              "1        [{'name': 'Walt Disney Pictures', 'id': 2}]   \n",
              "2  [{'name': 'Bold Films', 'id': 2266}, {'name': ...   \n",
              "3                                                NaN   \n",
              "4                                                NaN   \n",
              "\n",
              "                                production_countries release_date  runtime  \\\n",
              "0  [{'iso_3166_1': 'US', 'name': 'United States o...      2/20/15     93.0   \n",
              "1  [{'iso_3166_1': 'US', 'name': 'United States o...       8/6/04    113.0   \n",
              "2  [{'iso_3166_1': 'US', 'name': 'United States o...     10/10/14    105.0   \n",
              "3            [{'iso_3166_1': 'IN', 'name': 'India'}]       3/9/12    122.0   \n",
              "4      [{'iso_3166_1': 'KR', 'name': 'South Korea'}]       2/5/09    118.0   \n",
              "\n",
              "                                    spoken_languages    status  \\\n",
              "0           [{'iso_639_1': 'en', 'name': 'English'}]  Released   \n",
              "1           [{'iso_639_1': 'en', 'name': 'English'}]  Released   \n",
              "2           [{'iso_639_1': 'en', 'name': 'English'}]  Released   \n",
              "3  [{'iso_639_1': 'en', 'name': 'English'}, {'iso...  Released   \n",
              "4           [{'iso_639_1': 'ko', 'name': '한국어/조선말'}]  Released   \n",
              "\n",
              "                                      title  \\\n",
              "0                    Hot Tub Time Machine 2   \n",
              "1  The Princess Diaries 2: Royal Engagement   \n",
              "2                                  Whiplash   \n",
              "3                                   Kahaani   \n",
              "4                                Marine Boy   \n",
              "\n",
              "                                            Keywords  \\\n",
              "0  [{'id': 4379, 'name': 'time travel'}, {'id': 9...   \n",
              "1  [{'id': 2505, 'name': 'coronation'}, {'id': 42...   \n",
              "2  [{'id': 1416, 'name': 'jazz'}, {'id': 1523, 'n...   \n",
              "3  [{'id': 10092, 'name': 'mystery'}, {'id': 1054...   \n",
              "4                                                NaN   \n",
              "\n",
              "                                                cast  \\\n",
              "0  [{'cast_id': 4, 'character': 'Lou', 'credit_id...   \n",
              "1  [{'cast_id': 1, 'character': 'Mia Thermopolis'...   \n",
              "2  [{'cast_id': 5, 'character': 'Andrew Neimann',...   \n",
              "3  [{'cast_id': 1, 'character': 'Vidya Bagchi', '...   \n",
              "4  [{'cast_id': 3, 'character': 'Chun-soo', 'cred...   \n",
              "\n",
              "                                                crew   revenue  \n",
              "0  [{'credit_id': '59ac067c92514107af02c8c8', 'de...  12314651  \n",
              "1  [{'credit_id': '52fe43fe9251416c7502563d', 'de...  95149435  \n",
              "2  [{'credit_id': '54d5356ec3a3683ba0000039', 'de...  13092000  \n",
              "3  [{'credit_id': '52fe48779251416c9108d6eb', 'de...  16000000  \n",
              "4  [{'credit_id': '52fe464b9251416c75073b43', 'de...   3923970  "
            ]
          },
          "metadata": {
            "tags": []
          },
          "execution_count": 21
        }
      ]
    },
    {
      "metadata": {
        "id": "2BRAmiQ9EG9U",
        "colab_type": "code",
        "colab": {
          "base_uri": "https://localhost:8080/",
          "height": 615
        },
        "outputId": "1c2b2814-780a-4962-b195-e3b27b48c02b"
      },
      "cell_type": "code",
      "source": [
        "dropping_cols = ['belongs_to_collection','homepage','tagline']\n",
        "test.drop(dropping_cols,axis=1,inplace=True)\n",
        "print(test.shape)\n",
        "test.head()"
      ],
      "execution_count": 22,
      "outputs": [
        {
          "output_type": "stream",
          "text": [
            "(4398, 19)\n"
          ],
          "name": "stdout"
        },
        {
          "output_type": "execute_result",
          "data": {
            "text/html": [
              "<div>\n",
              "<style scoped>\n",
              "    .dataframe tbody tr th:only-of-type {\n",
              "        vertical-align: middle;\n",
              "    }\n",
              "\n",
              "    .dataframe tbody tr th {\n",
              "        vertical-align: top;\n",
              "    }\n",
              "\n",
              "    .dataframe thead th {\n",
              "        text-align: right;\n",
              "    }\n",
              "</style>\n",
              "<table border=\"1\" class=\"dataframe\">\n",
              "  <thead>\n",
              "    <tr style=\"text-align: right;\">\n",
              "      <th></th>\n",
              "      <th>id</th>\n",
              "      <th>budget</th>\n",
              "      <th>genres</th>\n",
              "      <th>imdb_id</th>\n",
              "      <th>original_language</th>\n",
              "      <th>original_title</th>\n",
              "      <th>overview</th>\n",
              "      <th>popularity</th>\n",
              "      <th>poster_path</th>\n",
              "      <th>production_companies</th>\n",
              "      <th>production_countries</th>\n",
              "      <th>release_date</th>\n",
              "      <th>runtime</th>\n",
              "      <th>spoken_languages</th>\n",
              "      <th>status</th>\n",
              "      <th>title</th>\n",
              "      <th>Keywords</th>\n",
              "      <th>cast</th>\n",
              "      <th>crew</th>\n",
              "    </tr>\n",
              "  </thead>\n",
              "  <tbody>\n",
              "    <tr>\n",
              "      <th>0</th>\n",
              "      <td>3001</td>\n",
              "      <td>0</td>\n",
              "      <td>[{'id': 12, 'name': 'Adventure'}, {'id': 16, '...</td>\n",
              "      <td>tt1226251</td>\n",
              "      <td>ja</td>\n",
              "      <td>ディアルガVSパルキアVSダークライ</td>\n",
              "      <td>Ash and friends (this time accompanied by newc...</td>\n",
              "      <td>3.851534</td>\n",
              "      <td>/tnftmLMemPLduW6MRyZE0ZUD19z.jpg</td>\n",
              "      <td>NaN</td>\n",
              "      <td>[{'iso_3166_1': 'JP', 'name': 'Japan'}, {'iso_...</td>\n",
              "      <td>7/14/07</td>\n",
              "      <td>90.0</td>\n",
              "      <td>[{'iso_639_1': 'en', 'name': 'English'}, {'iso...</td>\n",
              "      <td>Released</td>\n",
              "      <td>Pokémon: The Rise of Darkrai</td>\n",
              "      <td>[{'id': 11451, 'name': 'pok√©mon'}, {'id': 115...</td>\n",
              "      <td>[{'cast_id': 3, 'character': 'Tonio', 'credit_...</td>\n",
              "      <td>[{'credit_id': '52fe44e7c3a368484e03d683', 'de...</td>\n",
              "    </tr>\n",
              "    <tr>\n",
              "      <th>1</th>\n",
              "      <td>3002</td>\n",
              "      <td>88000</td>\n",
              "      <td>[{'id': 27, 'name': 'Horror'}, {'id': 878, 'na...</td>\n",
              "      <td>tt0051380</td>\n",
              "      <td>en</td>\n",
              "      <td>Attack of the 50 Foot Woman</td>\n",
              "      <td>When an abused wife grows to giant size becaus...</td>\n",
              "      <td>3.559789</td>\n",
              "      <td>/9MgBNBqlH1sG4yG2u4XkwI5CoJa.jpg</td>\n",
              "      <td>[{'name': 'Woolner Brothers Pictures Inc.', 'i...</td>\n",
              "      <td>[{'iso_3166_1': 'US', 'name': 'United States o...</td>\n",
              "      <td>5/19/58</td>\n",
              "      <td>65.0</td>\n",
              "      <td>[{'iso_639_1': 'en', 'name': 'English'}]</td>\n",
              "      <td>Released</td>\n",
              "      <td>Attack of the 50 Foot Woman</td>\n",
              "      <td>[{'id': 9748, 'name': 'revenge'}, {'id': 9951,...</td>\n",
              "      <td>[{'cast_id': 2, 'character': 'Nancy Fowler Arc...</td>\n",
              "      <td>[{'credit_id': '55807805c3a3685b1300060b', 'de...</td>\n",
              "    </tr>\n",
              "    <tr>\n",
              "      <th>2</th>\n",
              "      <td>3003</td>\n",
              "      <td>0</td>\n",
              "      <td>[{'id': 35, 'name': 'Comedy'}, {'id': 10749, '...</td>\n",
              "      <td>tt0118556</td>\n",
              "      <td>en</td>\n",
              "      <td>Addicted to Love</td>\n",
              "      <td>Good-natured astronomer Sam is devastated when...</td>\n",
              "      <td>8.085194</td>\n",
              "      <td>/ed6nD7h9sbojSWY2qrnDcSvDFko.jpg</td>\n",
              "      <td>[{'name': 'Warner Bros.', 'id': 6194}, {'name'...</td>\n",
              "      <td>[{'iso_3166_1': 'US', 'name': 'United States o...</td>\n",
              "      <td>5/23/97</td>\n",
              "      <td>100.0</td>\n",
              "      <td>[{'iso_639_1': 'en', 'name': 'English'}]</td>\n",
              "      <td>Released</td>\n",
              "      <td>Addicted to Love</td>\n",
              "      <td>[{'id': 931, 'name': 'jealousy'}, {'id': 9673,...</td>\n",
              "      <td>[{'cast_id': 11, 'character': 'Maggie', 'credi...</td>\n",
              "      <td>[{'credit_id': '52fe4330c3a36847f8041367', 'de...</td>\n",
              "    </tr>\n",
              "    <tr>\n",
              "      <th>3</th>\n",
              "      <td>3004</td>\n",
              "      <td>6800000</td>\n",
              "      <td>[{'id': 18, 'name': 'Drama'}, {'id': 10752, 'n...</td>\n",
              "      <td>tt1255953</td>\n",
              "      <td>fr</td>\n",
              "      <td>Incendies</td>\n",
              "      <td>A mother's last wishes send twins Jeanne and S...</td>\n",
              "      <td>8.596012</td>\n",
              "      <td>/sEUG3qjxwHjxkzuO7plrRHhOZUH.jpg</td>\n",
              "      <td>[{'name': 'TS Productions', 'id': 313}, {'name...</td>\n",
              "      <td>[{'iso_3166_1': 'CA', 'name': 'Canada'}, {'iso...</td>\n",
              "      <td>9/4/10</td>\n",
              "      <td>130.0</td>\n",
              "      <td>[{'iso_639_1': 'fr', 'name': 'Français'}, {'is...</td>\n",
              "      <td>Released</td>\n",
              "      <td>Incendies</td>\n",
              "      <td>[{'id': 378, 'name': 'prison'}, {'id': 539, 'n...</td>\n",
              "      <td>[{'cast_id': 6, 'character': 'Nawal', 'credit_...</td>\n",
              "      <td>[{'credit_id': '56478092c3a36826140043af', 'de...</td>\n",
              "    </tr>\n",
              "    <tr>\n",
              "      <th>4</th>\n",
              "      <td>3005</td>\n",
              "      <td>2000000</td>\n",
              "      <td>[{'id': 36, 'name': 'History'}, {'id': 99, 'na...</td>\n",
              "      <td>tt0418753</td>\n",
              "      <td>en</td>\n",
              "      <td>Inside Deep Throat</td>\n",
              "      <td>In 1972, a seemingly typical shoestring budget...</td>\n",
              "      <td>3.217680</td>\n",
              "      <td>/n4WC3zbelz6SG7rhkWbf8m9pMHB.jpg</td>\n",
              "      <td>NaN</td>\n",
              "      <td>[{'iso_3166_1': 'US', 'name': 'United States o...</td>\n",
              "      <td>2/11/05</td>\n",
              "      <td>92.0</td>\n",
              "      <td>[{'iso_639_1': 'en', 'name': 'English'}]</td>\n",
              "      <td>Released</td>\n",
              "      <td>Inside Deep Throat</td>\n",
              "      <td>[{'id': 279, 'name': 'usa'}, {'id': 1228, 'nam...</td>\n",
              "      <td>[{'cast_id': 1, 'character': 'Narrator (voice)...</td>\n",
              "      <td>[{'credit_id': '52fe44ce9251416c75041967', 'de...</td>\n",
              "    </tr>\n",
              "  </tbody>\n",
              "</table>\n",
              "</div>"
            ],
            "text/plain": [
              "     id   budget                                             genres  \\\n",
              "0  3001        0  [{'id': 12, 'name': 'Adventure'}, {'id': 16, '...   \n",
              "1  3002    88000  [{'id': 27, 'name': 'Horror'}, {'id': 878, 'na...   \n",
              "2  3003        0  [{'id': 35, 'name': 'Comedy'}, {'id': 10749, '...   \n",
              "3  3004  6800000  [{'id': 18, 'name': 'Drama'}, {'id': 10752, 'n...   \n",
              "4  3005  2000000  [{'id': 36, 'name': 'History'}, {'id': 99, 'na...   \n",
              "\n",
              "     imdb_id original_language               original_title  \\\n",
              "0  tt1226251                ja           ディアルガVSパルキアVSダークライ   \n",
              "1  tt0051380                en  Attack of the 50 Foot Woman   \n",
              "2  tt0118556                en             Addicted to Love   \n",
              "3  tt1255953                fr                    Incendies   \n",
              "4  tt0418753                en           Inside Deep Throat   \n",
              "\n",
              "                                            overview  popularity  \\\n",
              "0  Ash and friends (this time accompanied by newc...    3.851534   \n",
              "1  When an abused wife grows to giant size becaus...    3.559789   \n",
              "2  Good-natured astronomer Sam is devastated when...    8.085194   \n",
              "3  A mother's last wishes send twins Jeanne and S...    8.596012   \n",
              "4  In 1972, a seemingly typical shoestring budget...    3.217680   \n",
              "\n",
              "                        poster_path  \\\n",
              "0  /tnftmLMemPLduW6MRyZE0ZUD19z.jpg   \n",
              "1  /9MgBNBqlH1sG4yG2u4XkwI5CoJa.jpg   \n",
              "2  /ed6nD7h9sbojSWY2qrnDcSvDFko.jpg   \n",
              "3  /sEUG3qjxwHjxkzuO7plrRHhOZUH.jpg   \n",
              "4  /n4WC3zbelz6SG7rhkWbf8m9pMHB.jpg   \n",
              "\n",
              "                                production_companies  \\\n",
              "0                                                NaN   \n",
              "1  [{'name': 'Woolner Brothers Pictures Inc.', 'i...   \n",
              "2  [{'name': 'Warner Bros.', 'id': 6194}, {'name'...   \n",
              "3  [{'name': 'TS Productions', 'id': 313}, {'name...   \n",
              "4                                                NaN   \n",
              "\n",
              "                                production_countries release_date  runtime  \\\n",
              "0  [{'iso_3166_1': 'JP', 'name': 'Japan'}, {'iso_...      7/14/07     90.0   \n",
              "1  [{'iso_3166_1': 'US', 'name': 'United States o...      5/19/58     65.0   \n",
              "2  [{'iso_3166_1': 'US', 'name': 'United States o...      5/23/97    100.0   \n",
              "3  [{'iso_3166_1': 'CA', 'name': 'Canada'}, {'iso...       9/4/10    130.0   \n",
              "4  [{'iso_3166_1': 'US', 'name': 'United States o...      2/11/05     92.0   \n",
              "\n",
              "                                    spoken_languages    status  \\\n",
              "0  [{'iso_639_1': 'en', 'name': 'English'}, {'iso...  Released   \n",
              "1           [{'iso_639_1': 'en', 'name': 'English'}]  Released   \n",
              "2           [{'iso_639_1': 'en', 'name': 'English'}]  Released   \n",
              "3  [{'iso_639_1': 'fr', 'name': 'Français'}, {'is...  Released   \n",
              "4           [{'iso_639_1': 'en', 'name': 'English'}]  Released   \n",
              "\n",
              "                          title  \\\n",
              "0  Pokémon: The Rise of Darkrai   \n",
              "1   Attack of the 50 Foot Woman   \n",
              "2              Addicted to Love   \n",
              "3                     Incendies   \n",
              "4            Inside Deep Throat   \n",
              "\n",
              "                                            Keywords  \\\n",
              "0  [{'id': 11451, 'name': 'pok√©mon'}, {'id': 115...   \n",
              "1  [{'id': 9748, 'name': 'revenge'}, {'id': 9951,...   \n",
              "2  [{'id': 931, 'name': 'jealousy'}, {'id': 9673,...   \n",
              "3  [{'id': 378, 'name': 'prison'}, {'id': 539, 'n...   \n",
              "4  [{'id': 279, 'name': 'usa'}, {'id': 1228, 'nam...   \n",
              "\n",
              "                                                cast  \\\n",
              "0  [{'cast_id': 3, 'character': 'Tonio', 'credit_...   \n",
              "1  [{'cast_id': 2, 'character': 'Nancy Fowler Arc...   \n",
              "2  [{'cast_id': 11, 'character': 'Maggie', 'credi...   \n",
              "3  [{'cast_id': 6, 'character': 'Nawal', 'credit_...   \n",
              "4  [{'cast_id': 1, 'character': 'Narrator (voice)...   \n",
              "\n",
              "                                                crew  \n",
              "0  [{'credit_id': '52fe44e7c3a368484e03d683', 'de...  \n",
              "1  [{'credit_id': '55807805c3a3685b1300060b', 'de...  \n",
              "2  [{'credit_id': '52fe4330c3a36847f8041367', 'de...  \n",
              "3  [{'credit_id': '56478092c3a36826140043af', 'de...  \n",
              "4  [{'credit_id': '52fe44ce9251416c75041967', 'de...  "
            ]
          },
          "metadata": {
            "tags": []
          },
          "execution_count": 22
        }
      ]
    },
    {
      "metadata": {
        "id": "T_uoJJCvXUo1",
        "colab_type": "code",
        "outputId": "9afe3a5a-baef-4da5-85c3-012aa02fa0c2",
        "colab": {
          "base_uri": "https://localhost:8080/",
          "height": 374
        }
      },
      "cell_type": "code",
      "source": [
        "df.isna().sum().sort_values(ascending=False)"
      ],
      "execution_count": 23,
      "outputs": [
        {
          "output_type": "execute_result",
          "data": {
            "text/plain": [
              "Keywords                276\n",
              "production_companies    156\n",
              "production_countries     55\n",
              "spoken_languages         20\n",
              "crew                     16\n",
              "cast                     13\n",
              "overview                  8\n",
              "genres                    7\n",
              "runtime                   2\n",
              "poster_path               1\n",
              "original_title            0\n",
              "budget                    0\n",
              "imdb_id                   0\n",
              "original_language         0\n",
              "revenue                   0\n",
              "popularity                0\n",
              "release_date              0\n",
              "status                    0\n",
              "title                     0\n",
              "id                        0\n",
              "dtype: int64"
            ]
          },
          "metadata": {
            "tags": []
          },
          "execution_count": 23
        }
      ]
    },
    {
      "metadata": {
        "id": "fXZOmYYCEgxJ",
        "colab_type": "code",
        "colab": {
          "base_uri": "https://localhost:8080/",
          "height": 357
        },
        "outputId": "b8160513-0ca5-450c-f9c2-64c1a3fbb89e"
      },
      "cell_type": "code",
      "source": [
        "test.isna().sum().sort_values(ascending=False)"
      ],
      "execution_count": 24,
      "outputs": [
        {
          "output_type": "execute_result",
          "data": {
            "text/plain": [
              "Keywords                393\n",
              "production_companies    258\n",
              "production_countries    102\n",
              "spoken_languages         42\n",
              "crew                     22\n",
              "genres                   16\n",
              "overview                 14\n",
              "cast                     13\n",
              "runtime                   4\n",
              "title                     3\n",
              "status                    2\n",
              "release_date              1\n",
              "poster_path               1\n",
              "popularity                0\n",
              "original_title            0\n",
              "original_language         0\n",
              "imdb_id                   0\n",
              "budget                    0\n",
              "id                        0\n",
              "dtype: int64"
            ]
          },
          "metadata": {
            "tags": []
          },
          "execution_count": 24
        }
      ]
    },
    {
      "metadata": {
        "id": "yALMS-2gXUmX",
        "colab_type": "code",
        "outputId": "422adb38-9d52-4b1a-cac2-f4ab85740571",
        "colab": {
          "base_uri": "https://localhost:8080/",
          "height": 34
        }
      },
      "cell_type": "code",
      "source": [
        "df.dropna(inplace=True)\n",
        "df.shape"
      ],
      "execution_count": 25,
      "outputs": [
        {
          "output_type": "execute_result",
          "data": {
            "text/plain": [
              "(2606, 20)"
            ]
          },
          "metadata": {
            "tags": []
          },
          "execution_count": 25
        }
      ]
    },
    {
      "metadata": {
        "id": "YmlcDEC_EiKm",
        "colab_type": "code",
        "colab": {
          "base_uri": "https://localhost:8080/",
          "height": 34
        },
        "outputId": "5712d28c-a3a5-4efe-cbf3-fb138d699322"
      },
      "cell_type": "code",
      "source": [
        "test.dropna(inplace=True)\n",
        "test.shape"
      ],
      "execution_count": 26,
      "outputs": [
        {
          "output_type": "execute_result",
          "data": {
            "text/plain": [
              "(3814, 19)"
            ]
          },
          "metadata": {
            "tags": []
          },
          "execution_count": 26
        }
      ]
    },
    {
      "metadata": {
        "id": "sj8oK8zNXUlD",
        "colab_type": "code",
        "outputId": "8e6bd583-487d-4ebe-f3e2-c9cc2eacdf37",
        "colab": {
          "base_uri": "https://localhost:8080/",
          "height": 374
        }
      },
      "cell_type": "code",
      "source": [
        "df.isna().sum().sort_values(ascending=False)"
      ],
      "execution_count": 27,
      "outputs": [
        {
          "output_type": "execute_result",
          "data": {
            "text/plain": [
              "revenue                 0\n",
              "crew                    0\n",
              "budget                  0\n",
              "genres                  0\n",
              "imdb_id                 0\n",
              "original_language       0\n",
              "original_title          0\n",
              "overview                0\n",
              "popularity              0\n",
              "poster_path             0\n",
              "production_companies    0\n",
              "production_countries    0\n",
              "release_date            0\n",
              "runtime                 0\n",
              "spoken_languages        0\n",
              "status                  0\n",
              "title                   0\n",
              "Keywords                0\n",
              "cast                    0\n",
              "id                      0\n",
              "dtype: int64"
            ]
          },
          "metadata": {
            "tags": []
          },
          "execution_count": 27
        }
      ]
    },
    {
      "metadata": {
        "id": "X6bGwV2SEmRV",
        "colab_type": "code",
        "colab": {
          "base_uri": "https://localhost:8080/",
          "height": 357
        },
        "outputId": "5904f34a-17a9-4378-9955-bd84d0114024"
      },
      "cell_type": "code",
      "source": [
        "test.isna().sum().sort_values(ascending=False)"
      ],
      "execution_count": 28,
      "outputs": [
        {
          "output_type": "execute_result",
          "data": {
            "text/plain": [
              "crew                    0\n",
              "poster_path             0\n",
              "budget                  0\n",
              "genres                  0\n",
              "imdb_id                 0\n",
              "original_language       0\n",
              "original_title          0\n",
              "overview                0\n",
              "popularity              0\n",
              "production_companies    0\n",
              "cast                    0\n",
              "production_countries    0\n",
              "release_date            0\n",
              "runtime                 0\n",
              "spoken_languages        0\n",
              "status                  0\n",
              "title                   0\n",
              "Keywords                0\n",
              "id                      0\n",
              "dtype: int64"
            ]
          },
          "metadata": {
            "tags": []
          },
          "execution_count": 28
        }
      ]
    },
    {
      "metadata": {
        "id": "AW2SdVqcXUi1",
        "colab_type": "text"
      },
      "cell_type": "markdown",
      "source": [
        "## Lets start to pre-process the dataset to use it for prediction"
      ]
    },
    {
      "metadata": {
        "id": "8CRPnwDYXUhZ",
        "colab_type": "code",
        "outputId": "fa51d93c-469e-4897-cc37-7bfa13a652bf",
        "colab": {
          "base_uri": "https://localhost:8080/",
          "height": 330
        }
      },
      "cell_type": "code",
      "source": [
        "sns.countplot(x='status',data=df)"
      ],
      "execution_count": 29,
      "outputs": [
        {
          "output_type": "stream",
          "text": [
            "/usr/local/lib/python3.6/dist-packages/seaborn/categorical.py:1428: FutureWarning: remove_na is deprecated and is a private function. Do not use.\n",
            "  stat_data = remove_na(group_data)\n"
          ],
          "name": "stderr"
        },
        {
          "output_type": "execute_result",
          "data": {
            "text/plain": [
              "<matplotlib.axes._subplots.AxesSubplot at 0x7f5f875cb0f0>"
            ]
          },
          "metadata": {
            "tags": []
          },
          "execution_count": 29
        },
        {
          "output_type": "display_data",
          "data": {
            "image/png": "[encoded data removed]",
            "text/plain": [
              "<Figure size 432x288 with 1 Axes>"
            ]
          },
          "metadata": {
            "tags": []
          }
        }
      ]
    },
    {
      "metadata": {
        "id": "7RsOxiiQZ0iA",
        "colab_type": "code",
        "outputId": "f24eb96d-63e9-4790-99aa-d3be309e9984",
        "colab": {
          "base_uri": "https://localhost:8080/",
          "height": 300
        }
      },
      "cell_type": "code",
      "source": [
        "sns.boxplot(data=df,y='runtime')"
      ],
      "execution_count": 30,
      "outputs": [
        {
          "output_type": "stream",
          "text": [
            "/usr/local/lib/python3.6/dist-packages/seaborn/categorical.py:454: FutureWarning: remove_na is deprecated and is a private function. Do not use.\n",
            "  box_data = remove_na(group_data)\n"
          ],
          "name": "stderr"
        },
        {
          "output_type": "execute_result",
          "data": {
            "text/plain": [
              "<matplotlib.axes._subplots.AxesSubplot at 0x7f5f86bc2a90>"
            ]
          },
          "metadata": {
            "tags": []
          },
          "execution_count": 30
        },
        {
          "output_type": "display_data",
          "data": {
            "image/png": "[encoded data removed]",
            "text/plain": [
              "<Figure size 432x288 with 1 Axes>"
            ]
          },
          "metadata": {
            "tags": []
          }
        }
      ]
    },
    {
      "metadata": {
        "id": "JiVBNskTaFXO",
        "colab_type": "code",
        "outputId": "6561ab9a-da94-49d0-8523-53a2fc711048",
        "colab": {
          "base_uri": "https://localhost:8080/",
          "height": 442
        }
      },
      "cell_type": "code",
      "source": [
        "df.info()"
      ],
      "execution_count": 31,
      "outputs": [
        {
          "output_type": "stream",
          "text": [
            "<class 'pandas.core.frame.DataFrame'>\n",
            "Int64Index: 2606 entries, 0 to 2999\n",
            "Data columns (total 20 columns):\n",
            "id                      2606 non-null int64\n",
            "budget                  2606 non-null int64\n",
            "genres                  2606 non-null object\n",
            "imdb_id                 2606 non-null object\n",
            "original_language       2606 non-null object\n",
            "original_title          2606 non-null object\n",
            "overview                2606 non-null object\n",
            "popularity              2606 non-null float64\n",
            "poster_path             2606 non-null object\n",
            "production_companies    2606 non-null object\n",
            "production_countries    2606 non-null object\n",
            "release_date            2606 non-null object\n",
            "runtime                 2606 non-null float64\n",
            "spoken_languages        2606 non-null object\n",
            "status                  2606 non-null object\n",
            "title                   2606 non-null object\n",
            "Keywords                2606 non-null object\n",
            "cast                    2606 non-null object\n",
            "crew                    2606 non-null object\n",
            "revenue                 2606 non-null int64\n",
            "dtypes: float64(2), int64(3), object(15)\n",
            "memory usage: 507.5+ KB\n"
          ],
          "name": "stdout"
        }
      ]
    },
    {
      "metadata": {
        "id": "kRMsI2RrlUhR",
        "colab_type": "code",
        "outputId": "cf29019b-2215-4b45-885d-1ebe126e0e24",
        "colab": {
          "base_uri": "https://localhost:8080/",
          "height": 509
        }
      },
      "cell_type": "code",
      "source": [
        "sns.jointplot(x='revenue',y='popularity',data=df)"
      ],
      "execution_count": 32,
      "outputs": [
        {
          "output_type": "stream",
          "text": [
            "/usr/local/lib/python3.6/dist-packages/matplotlib/axes/_axes.py:6521: MatplotlibDeprecationWarning: \n",
            "The 'normed' kwarg was deprecated in Matplotlib 2.1 and will be removed in 3.1. Use 'density' instead.\n",
            "  alternative=\"'density'\", removal=\"3.1\")\n"
          ],
          "name": "stderr"
        },
        {
          "output_type": "execute_result",
          "data": {
            "text/plain": [
              "<seaborn.axisgrid.JointGrid at 0x7f5f84ba2630>"
            ]
          },
          "metadata": {
            "tags": []
          },
          "execution_count": 32
        },
        {
          "output_type": "display_data",
          "data": {
            "image/png": "[encoded data removed]",
            "text/plain": [
              "<Figure size 432x432 with 3 Axes>"
            ]
          },
          "metadata": {
            "tags": []
          }
        }
      ]
    },
    {
      "metadata": {
        "id": "29wKDKObl0aB",
        "colab_type": "code",
        "outputId": "c76ccd80-ea9b-44cc-98bf-bd6ae199667d",
        "colab": {
          "base_uri": "https://localhost:8080/",
          "height": 509
        }
      },
      "cell_type": "code",
      "source": [
        "sns.jointplot(x='revenue',y='budget',data=df)"
      ],
      "execution_count": 33,
      "outputs": [
        {
          "output_type": "stream",
          "text": [
            "/usr/local/lib/python3.6/dist-packages/matplotlib/axes/_axes.py:6521: MatplotlibDeprecationWarning: \n",
            "The 'normed' kwarg was deprecated in Matplotlib 2.1 and will be removed in 3.1. Use 'density' instead.\n",
            "  alternative=\"'density'\", removal=\"3.1\")\n"
          ],
          "name": "stderr"
        },
        {
          "output_type": "execute_result",
          "data": {
            "text/plain": [
              "<seaborn.axisgrid.JointGrid at 0x7f5f849da5f8>"
            ]
          },
          "metadata": {
            "tags": []
          },
          "execution_count": 33
        },
        {
          "output_type": "display_data",
          "data": {
            "image/png": "[encoded data removed]",
            "text/plain": [
              "<Figure size 432x432 with 3 Axes>"
            ]
          },
          "metadata": {
            "tags": []
          }
        }
      ]
    },
    {
      "metadata": {
        "id": "Zxx1vYHAmMws",
        "colab_type": "code",
        "outputId": "818290e7-5f78-47f6-f0f0-9d211778f5b8",
        "colab": {
          "base_uri": "https://localhost:8080/",
          "height": 509
        }
      },
      "cell_type": "code",
      "source": [
        "sns.jointplot(x='revenue',y='runtime',data=df)"
      ],
      "execution_count": 34,
      "outputs": [
        {
          "output_type": "stream",
          "text": [
            "/usr/local/lib/python3.6/dist-packages/matplotlib/axes/_axes.py:6521: MatplotlibDeprecationWarning: \n",
            "The 'normed' kwarg was deprecated in Matplotlib 2.1 and will be removed in 3.1. Use 'density' instead.\n",
            "  alternative=\"'density'\", removal=\"3.1\")\n"
          ],
          "name": "stderr"
        },
        {
          "output_type": "execute_result",
          "data": {
            "text/plain": [
              "<seaborn.axisgrid.JointGrid at 0x7f5f847a85f8>"
            ]
          },
          "metadata": {
            "tags": []
          },
          "execution_count": 34
        },
        {
          "output_type": "display_data",
          "data": {
            "image/png": "[encoded data removed]",
            "text/plain": [
              "<Figure size 432x432 with 3 Axes>"
            ]
          },
          "metadata": {
            "tags": []
          }
        }
      ]
    },
    {
      "metadata": {
        "id": "Yn4v9Lc4memP",
        "colab_type": "code",
        "outputId": "d9524adc-b910-4088-c157-d879dc9810d1",
        "colab": {
          "base_uri": "https://localhost:8080/",
          "height": 793
        }
      },
      "cell_type": "code",
      "source": [
        "plt.figure(figsize=(12,12))\n",
        "sns.distplot(df['revenue'],rug=True)"
      ],
      "execution_count": 35,
      "outputs": [
        {
          "output_type": "stream",
          "text": [
            "/usr/local/lib/python3.6/dist-packages/matplotlib/axes/_axes.py:6521: MatplotlibDeprecationWarning: \n",
            "The 'normed' kwarg was deprecated in Matplotlib 2.1 and will be removed in 3.1. Use 'density' instead.\n",
            "  alternative=\"'density'\", removal=\"3.1\")\n"
          ],
          "name": "stderr"
        },
        {
          "output_type": "execute_result",
          "data": {
            "text/plain": [
              "<matplotlib.axes._subplots.AxesSubplot at 0x7f5f8458cb00>"
            ]
          },
          "metadata": {
            "tags": []
          },
          "execution_count": 35
        },
        {
          "output_type": "display_data",
          "data": {
            "image/png": "[encoded data removed]",
            "text/plain": [
              "<Figure size 864x864 with 1 Axes>"
            ]
          },
          "metadata": {
            "tags": []
          }
        }
      ]
    },
    {
      "metadata": {
        "id": "wJw3MlEynTDp",
        "colab_type": "code",
        "outputId": "44f5e074-b91f-4545-f4d1-7e4442178efc",
        "colab": {
          "base_uri": "https://localhost:8080/",
          "height": 1200
        }
      },
      "cell_type": "code",
      "source": [
        "plt.figure(figsize=(13,20))\n",
        "sns.countplot(y='original_language',data=df)"
      ],
      "execution_count": 36,
      "outputs": [
        {
          "output_type": "stream",
          "text": [
            "/usr/local/lib/python3.6/dist-packages/seaborn/categorical.py:1428: FutureWarning: remove_na is deprecated and is a private function. Do not use.\n",
            "  stat_data = remove_na(group_data)\n"
          ],
          "name": "stderr"
        },
        {
          "output_type": "execute_result",
          "data": {
            "text/plain": [
              "<matplotlib.axes._subplots.AxesSubplot at 0x7f5f82876d30>"
            ]
          },
          "metadata": {
            "tags": []
          },
          "execution_count": 36
        },
        {
          "output_type": "display_data",
          "data": {
            "image/png": "[encoded data removed]",
            "text/plain": [
              "<Figure size 936x1440 with 1 Axes>"
            ]
          },
          "metadata": {
            "tags": []
          }
        }
      ]
    },
    {
      "metadata": {
        "id": "LnFShQaNvwAQ",
        "colab_type": "text"
      },
      "cell_type": "markdown",
      "source": [
        "Main language of movies are English."
      ]
    },
    {
      "metadata": {
        "id": "QgAip6LDohEy",
        "colab_type": "code",
        "outputId": "83efb48e-848b-4beb-8f35-5871866eaeb8",
        "colab": {
          "base_uri": "https://localhost:8080/",
          "height": 68
        }
      },
      "cell_type": "code",
      "source": [
        "df['status'].value_counts()"
      ],
      "execution_count": 37,
      "outputs": [
        {
          "output_type": "execute_result",
          "data": {
            "text/plain": [
              "Released    2605\n",
              "Rumored        1\n",
              "Name: status, dtype: int64"
            ]
          },
          "metadata": {
            "tags": []
          },
          "execution_count": 37
        }
      ]
    },
    {
      "metadata": {
        "id": "QLqxcdXdpXBX",
        "colab_type": "code",
        "outputId": "08a24023-893a-4643-c4f0-d45b7d7d66f3",
        "colab": {
          "base_uri": "https://localhost:8080/",
          "height": 51
        }
      },
      "cell_type": "code",
      "source": [
        "print(df['revenue'][df['status']=='Rumored'])"
      ],
      "execution_count": 38,
      "outputs": [
        {
          "output_type": "stream",
          "text": [
            "1216    13418091\n",
            "Name: revenue, dtype: int64\n"
          ],
          "name": "stdout"
        }
      ]
    },
    {
      "metadata": {
        "id": "0OQd_TKVpmZ-",
        "colab_type": "code",
        "colab": {}
      },
      "cell_type": "code",
      "source": [
        "## applying log to revenue to normally distribute.\n",
        "df['logrevenue'] = np.log1p(df['revenue'])"
      ],
      "execution_count": 0,
      "outputs": []
    },
    {
      "metadata": {
        "id": "-4p9Y3n2qlBq",
        "colab_type": "code",
        "outputId": "93fe01c2-5b5f-4692-9c2e-045b4d24060b",
        "colab": {
          "base_uri": "https://localhost:8080/",
          "height": 347
        }
      },
      "cell_type": "code",
      "source": [
        "sns.distplot(df['logrevenue'])"
      ],
      "execution_count": 40,
      "outputs": [
        {
          "output_type": "stream",
          "text": [
            "/usr/local/lib/python3.6/dist-packages/matplotlib/axes/_axes.py:6521: MatplotlibDeprecationWarning: \n",
            "The 'normed' kwarg was deprecated in Matplotlib 2.1 and will be removed in 3.1. Use 'density' instead.\n",
            "  alternative=\"'density'\", removal=\"3.1\")\n"
          ],
          "name": "stderr"
        },
        {
          "output_type": "execute_result",
          "data": {
            "text/plain": [
              "<matplotlib.axes._subplots.AxesSubplot at 0x7f5f875cb128>"
            ]
          },
          "metadata": {
            "tags": []
          },
          "execution_count": 40
        },
        {
          "output_type": "display_data",
          "data": {
            "image/png": "[encoded data removed]",
            "text/plain": [
              "<Figure size 432x288 with 1 Axes>"
            ]
          },
          "metadata": {
            "tags": []
          }
        }
      ]
    },
    {
      "metadata": {
        "id": "FJK2AxpGqp_m",
        "colab_type": "code",
        "colab": {}
      },
      "cell_type": "code",
      "source": [
        "df['release_date'] = pd.to_datetime(df['release_date'], infer_datetime_format=True)\n",
        "df['release_day'] = df['release_date'].apply(lambda t: t.day)\n",
        "df['release_weekday'] = df['release_date'].apply(lambda t: t.weekday())\n",
        "df['release_month'] = df['release_date'].apply(lambda t: t.month)\n",
        "\n",
        "# Year was being interpreted as future dates in some cases so I had to adjust some values\n",
        "df['release_year'] = df['release_date'].apply(lambda t: t.year if t.year < 2018 else t.year -100)"
      ],
      "execution_count": 0,
      "outputs": []
    },
    {
      "metadata": {
        "id": "d8CgfK18YxPL",
        "colab_type": "code",
        "outputId": "914e36b1-f580-47d7-a8fd-3384ba7326a5",
        "colab": {
          "base_uri": "https://localhost:8080/",
          "height": 204
        }
      },
      "cell_type": "code",
      "source": [
        "df[['release_date','release_day','release_weekday','release_month','release_year']].head()"
      ],
      "execution_count": 42,
      "outputs": [
        {
          "output_type": "execute_result",
          "data": {
            "text/html": [
              "<div>\n",
              "<style scoped>\n",
              "    .dataframe tbody tr th:only-of-type {\n",
              "        vertical-align: middle;\n",
              "    }\n",
              "\n",
              "    .dataframe tbody tr th {\n",
              "        vertical-align: top;\n",
              "    }\n",
              "\n",
              "    .dataframe thead th {\n",
              "        text-align: right;\n",
              "    }\n",
              "</style>\n",
              "<table border=\"1\" class=\"dataframe\">\n",
              "  <thead>\n",
              "    <tr style=\"text-align: right;\">\n",
              "      <th></th>\n",
              "      <th>release_date</th>\n",
              "      <th>release_day</th>\n",
              "      <th>release_weekday</th>\n",
              "      <th>release_month</th>\n",
              "      <th>release_year</th>\n",
              "    </tr>\n",
              "  </thead>\n",
              "  <tbody>\n",
              "    <tr>\n",
              "      <th>0</th>\n",
              "      <td>2015-02-20</td>\n",
              "      <td>20</td>\n",
              "      <td>4</td>\n",
              "      <td>2</td>\n",
              "      <td>2015</td>\n",
              "    </tr>\n",
              "    <tr>\n",
              "      <th>1</th>\n",
              "      <td>2004-08-06</td>\n",
              "      <td>6</td>\n",
              "      <td>4</td>\n",
              "      <td>8</td>\n",
              "      <td>2004</td>\n",
              "    </tr>\n",
              "    <tr>\n",
              "      <th>2</th>\n",
              "      <td>2014-10-10</td>\n",
              "      <td>10</td>\n",
              "      <td>4</td>\n",
              "      <td>10</td>\n",
              "      <td>2014</td>\n",
              "    </tr>\n",
              "    <tr>\n",
              "      <th>8</th>\n",
              "      <td>1996-02-16</td>\n",
              "      <td>16</td>\n",
              "      <td>4</td>\n",
              "      <td>2</td>\n",
              "      <td>1996</td>\n",
              "    </tr>\n",
              "    <tr>\n",
              "      <th>9</th>\n",
              "      <td>2003-04-16</td>\n",
              "      <td>16</td>\n",
              "      <td>2</td>\n",
              "      <td>4</td>\n",
              "      <td>2003</td>\n",
              "    </tr>\n",
              "  </tbody>\n",
              "</table>\n",
              "</div>"
            ],
            "text/plain": [
              "  release_date  release_day  release_weekday  release_month  release_year\n",
              "0   2015-02-20           20                4              2          2015\n",
              "1   2004-08-06            6                4              8          2004\n",
              "2   2014-10-10           10                4             10          2014\n",
              "8   1996-02-16           16                4              2          1996\n",
              "9   2003-04-16           16                2              4          2003"
            ]
          },
          "metadata": {
            "tags": []
          },
          "execution_count": 42
        }
      ]
    },
    {
      "metadata": {
        "id": "lxYhDVyE9KuP",
        "colab_type": "code",
        "colab": {}
      },
      "cell_type": "code",
      "source": [
        "test['release_date'] = pd.to_datetime(test['release_date'], infer_datetime_format=True)\n",
        "test['release_day'] = test['release_date'].apply(lambda t: t.day)\n",
        "test['release_weekday'] = test['release_date'].apply(lambda t: t.weekday())\n",
        "test['release_month'] = test['release_date'].apply(lambda t: t.month)\n",
        "\n",
        "# Year was being interpreted as future dates in some cases so I had to adjust some values\n",
        "test['release_year'] = test['release_date'].apply(lambda t: t.year if t.year < 2018 else t.year -100)"
      ],
      "execution_count": 0,
      "outputs": []
    },
    {
      "metadata": {
        "id": "HHj5NOqH9Krz",
        "colab_type": "code",
        "colab": {
          "base_uri": "https://localhost:8080/",
          "height": 204
        },
        "outputId": "5f8a7464-84c5-446f-9946-656fb9c678e8"
      },
      "cell_type": "code",
      "source": [
        "test[['release_date','release_day','release_weekday','release_month','release_year']].head()"
      ],
      "execution_count": 44,
      "outputs": [
        {
          "output_type": "execute_result",
          "data": {
            "text/html": [
              "<div>\n",
              "<style scoped>\n",
              "    .dataframe tbody tr th:only-of-type {\n",
              "        vertical-align: middle;\n",
              "    }\n",
              "\n",
              "    .dataframe tbody tr th {\n",
              "        vertical-align: top;\n",
              "    }\n",
              "\n",
              "    .dataframe thead th {\n",
              "        text-align: right;\n",
              "    }\n",
              "</style>\n",
              "<table border=\"1\" class=\"dataframe\">\n",
              "  <thead>\n",
              "    <tr style=\"text-align: right;\">\n",
              "      <th></th>\n",
              "      <th>release_date</th>\n",
              "      <th>release_day</th>\n",
              "      <th>release_weekday</th>\n",
              "      <th>release_month</th>\n",
              "      <th>release_year</th>\n",
              "    </tr>\n",
              "  </thead>\n",
              "  <tbody>\n",
              "    <tr>\n",
              "      <th>1</th>\n",
              "      <td>2058-05-19</td>\n",
              "      <td>19</td>\n",
              "      <td>6</td>\n",
              "      <td>5</td>\n",
              "      <td>1958</td>\n",
              "    </tr>\n",
              "    <tr>\n",
              "      <th>2</th>\n",
              "      <td>1997-05-23</td>\n",
              "      <td>23</td>\n",
              "      <td>4</td>\n",
              "      <td>5</td>\n",
              "      <td>1997</td>\n",
              "    </tr>\n",
              "    <tr>\n",
              "      <th>3</th>\n",
              "      <td>2010-09-04</td>\n",
              "      <td>4</td>\n",
              "      <td>5</td>\n",
              "      <td>9</td>\n",
              "      <td>2010</td>\n",
              "    </tr>\n",
              "    <tr>\n",
              "      <th>5</th>\n",
              "      <td>1996-02-07</td>\n",
              "      <td>7</td>\n",
              "      <td>2</td>\n",
              "      <td>2</td>\n",
              "      <td>1996</td>\n",
              "    </tr>\n",
              "    <tr>\n",
              "      <th>6</th>\n",
              "      <td>2010-12-23</td>\n",
              "      <td>23</td>\n",
              "      <td>3</td>\n",
              "      <td>12</td>\n",
              "      <td>2010</td>\n",
              "    </tr>\n",
              "  </tbody>\n",
              "</table>\n",
              "</div>"
            ],
            "text/plain": [
              "  release_date  release_day  release_weekday  release_month  release_year\n",
              "1   2058-05-19           19                6              5          1958\n",
              "2   1997-05-23           23                4              5          1997\n",
              "3   2010-09-04            4                5              9          2010\n",
              "5   1996-02-07            7                2              2          1996\n",
              "6   2010-12-23           23                3             12          2010"
            ]
          },
          "metadata": {
            "tags": []
          },
          "execution_count": 44
        }
      ]
    },
    {
      "metadata": {
        "id": "uP5bOLrN9Ko7",
        "colab_type": "code",
        "colab": {
          "base_uri": "https://localhost:8080/",
          "height": 51
        },
        "outputId": "4dd2d849-e475-4610-c764-713fba94c6af"
      },
      "cell_type": "code",
      "source": [
        "print(len(df[df['runtime']==0]))\n",
        "print(len(test[test['runtime']==0]))"
      ],
      "execution_count": 45,
      "outputs": [
        {
          "output_type": "stream",
          "text": [
            "2\n",
            "0\n"
          ],
          "name": "stdout"
        }
      ]
    },
    {
      "metadata": {
        "id": "NKur43yb9KOJ",
        "colab_type": "code",
        "colab": {}
      },
      "cell_type": "code",
      "source": [
        "from collections import defaultdict\n",
        "def map_runtime(df):\n",
        "    df['runtime'].fillna(0)\n",
        "    \n",
        "    run = df[(df['runtime'].notnull()) & (df['runtime'] != 0)]\n",
        "    year_mean = run.groupby(['release_year'])['runtime'].agg('mean')\n",
        "    d = dict(year_mean)\n",
        "    \n",
        "    for i in df[df['runtime'] == 0]:\n",
        "        df['runtime'] = df.loc[:, 'release_year'].map(d)\n",
        "    \n",
        "    return df\n",
        "  \n",
        "test = map_runtime(test)"
      ],
      "execution_count": 0,
      "outputs": []
    },
    {
      "metadata": {
        "id": "0i5LYhKwY-SX",
        "colab_type": "code",
        "outputId": "3c53bd3c-1063-40cd-c548-9613cef98169",
        "colab": {
          "base_uri": "https://localhost:8080/",
          "height": 330
        }
      },
      "cell_type": "code",
      "source": [
        "sns.countplot(x='release_month',data=df)"
      ],
      "execution_count": 49,
      "outputs": [
        {
          "output_type": "stream",
          "text": [
            "/usr/local/lib/python3.6/dist-packages/seaborn/categorical.py:1428: FutureWarning: remove_na is deprecated and is a private function. Do not use.\n",
            "  stat_data = remove_na(group_data)\n"
          ],
          "name": "stderr"
        },
        {
          "output_type": "execute_result",
          "data": {
            "text/plain": [
              "<matplotlib.axes._subplots.AxesSubplot at 0x7f5f8224ec18>"
            ]
          },
          "metadata": {
            "tags": []
          },
          "execution_count": 49
        },
        {
          "output_type": "display_data",
          "data": {
            "image/png": "[encoded data removed]",
            "text/plain": [
              "<Figure size 432x288 with 1 Axes>"
            ]
          },
          "metadata": {
            "tags": []
          }
        }
      ]
    },
    {
      "metadata": {
        "id": "8CtZd4z6vmm4",
        "colab_type": "text"
      },
      "cell_type": "markdown",
      "source": [
        "Many movies come in the month of september and october"
      ]
    },
    {
      "metadata": {
        "id": "IScICFhsY-P_",
        "colab_type": "code",
        "outputId": "2c6aa30e-fbae-4959-a70d-5edf0c480905",
        "colab": {
          "base_uri": "https://localhost:8080/",
          "height": 657
        }
      },
      "cell_type": "code",
      "source": [
        "plt.figure(figsize=(12,10))\n",
        "sns.countplot(x='release_day',data=df)"
      ],
      "execution_count": 50,
      "outputs": [
        {
          "output_type": "stream",
          "text": [
            "/usr/local/lib/python3.6/dist-packages/seaborn/categorical.py:1428: FutureWarning: remove_na is deprecated and is a private function. Do not use.\n",
            "  stat_data = remove_na(group_data)\n"
          ],
          "name": "stderr"
        },
        {
          "output_type": "execute_result",
          "data": {
            "text/plain": [
              "<matplotlib.axes._subplots.AxesSubplot at 0x7f5f8224e780>"
            ]
          },
          "metadata": {
            "tags": []
          },
          "execution_count": 50
        },
        {
          "output_type": "display_data",
          "data": {
            "image/png": "[encoded data removed]",
            "text/plain": [
              "<Figure size 864x720 with 1 Axes>"
            ]
          },
          "metadata": {
            "tags": []
          }
        }
      ]
    },
    {
      "metadata": {
        "id": "qVoMchAUvefP",
        "colab_type": "text"
      },
      "cell_type": "markdown",
      "source": [
        "Most of the movies are either released on 1st of every month or 15th."
      ]
    },
    {
      "metadata": {
        "id": "jtGIqSMnY-KV",
        "colab_type": "code",
        "outputId": "33f4837f-b302-4985-c75b-5d53d3ebfaf1",
        "colab": {
          "base_uri": "https://localhost:8080/",
          "height": 1046
        }
      },
      "cell_type": "code",
      "source": [
        "plt.figure(figsize=(25,15))\n",
        "sns.countplot(x='release_year',data=df)\n",
        "plt.xticks(rotation=90)"
      ],
      "execution_count": 51,
      "outputs": [
        {
          "output_type": "stream",
          "text": [
            "/usr/local/lib/python3.6/dist-packages/seaborn/categorical.py:1428: FutureWarning: remove_na is deprecated and is a private function. Do not use.\n",
            "  stat_data = remove_na(group_data)\n"
          ],
          "name": "stderr"
        },
        {
          "output_type": "execute_result",
          "data": {
            "text/plain": [
              "(array([ 0,  1,  2,  3,  4,  5,  6,  7,  8,  9, 10, 11, 12, 13, 14, 15, 16,\n",
              "        17, 18, 19, 20, 21, 22, 23, 24, 25, 26, 27, 28, 29, 30, 31, 32, 33,\n",
              "        34, 35, 36, 37, 38, 39, 40, 41, 42, 43, 44, 45, 46, 47, 48, 49, 50,\n",
              "        51, 52, 53, 54, 55, 56, 57, 58, 59, 60, 61, 62, 63, 64, 65, 66, 67,\n",
              "        68, 69, 70, 71, 72, 73, 74, 75, 76, 77, 78, 79, 80, 81, 82, 83, 84,\n",
              "        85, 86, 87, 88, 89]), <a list of 90 Text xticklabel objects>)"
            ]
          },
          "metadata": {
            "tags": []
          },
          "execution_count": 51
        },
        {
          "output_type": "display_data",
          "data": {
            "image/png": "[encoded data removed]",
            "text/plain": [
              "<Figure size 1800x1080 with 1 Axes>"
            ]
          },
          "metadata": {
            "tags": []
          }
        }
      ]
    },
    {
      "metadata": {
        "id": "Qh3F2tBIvM27",
        "colab_type": "text"
      },
      "cell_type": "markdown",
      "source": [
        "Maximum number of movies released are in year 2013 to 2017"
      ]
    },
    {
      "metadata": {
        "id": "3vnHCPkcY-HT",
        "colab_type": "code",
        "outputId": "08e6a8e6-4e0b-4fa1-c02e-69c2e39cd2e4",
        "colab": {
          "base_uri": "https://localhost:8080/",
          "height": 331
        }
      },
      "cell_type": "code",
      "source": [
        "sns.countplot(x='release_weekday',data=df)"
      ],
      "execution_count": 53,
      "outputs": [
        {
          "output_type": "stream",
          "text": [
            "/usr/local/lib/python3.6/dist-packages/seaborn/categorical.py:1428: FutureWarning: remove_na is deprecated and is a private function. Do not use.\n",
            "  stat_data = remove_na(group_data)\n"
          ],
          "name": "stderr"
        },
        {
          "output_type": "execute_result",
          "data": {
            "text/plain": [
              "<matplotlib.axes._subplots.AxesSubplot at 0x7f5f81eff518>"
            ]
          },
          "metadata": {
            "tags": []
          },
          "execution_count": 53
        },
        {
          "output_type": "display_data",
          "data": {
            "image/png": "[encoded data removed]",
            "text/plain": [
              "<Figure size 432x288 with 1 Axes>"
            ]
          },
          "metadata": {
            "tags": []
          }
        }
      ]
    },
    {
      "metadata": {
        "id": "odtBpmGUvBak",
        "colab_type": "text"
      },
      "cell_type": "markdown",
      "source": [
        "Most of the movies are released on Friday, Thrusday and Wednesday."
      ]
    },
    {
      "metadata": {
        "id": "oQL_GF_O_4zE",
        "colab_type": "code",
        "colab": {
          "base_uri": "https://localhost:8080/",
          "height": 102
        },
        "outputId": "a835aecb-701e-46c9-ba19-0763fc4c0710"
      },
      "cell_type": "code",
      "source": [
        "df['genres'].describe()"
      ],
      "execution_count": 54,
      "outputs": [
        {
          "output_type": "execute_result",
          "data": {
            "text/plain": [
              "count                              2606\n",
              "unique                              803\n",
              "top       [{'id': 18, 'name': 'Drama'}]\n",
              "freq                                229\n",
              "Name: genres, dtype: object"
            ]
          },
          "metadata": {
            "tags": []
          },
          "execution_count": 54
        }
      ]
    },
    {
      "metadata": {
        "id": "-1whmba9AFIK",
        "colab_type": "code",
        "colab": {
          "base_uri": "https://localhost:8080/",
          "height": 34
        },
        "outputId": "3b2d18ea-42f9-4c10-d4c0-0e84438a45fe"
      },
      "cell_type": "code",
      "source": [
        "len(df[df['budget']==0])"
      ],
      "execution_count": 55,
      "outputs": [
        {
          "output_type": "execute_result",
          "data": {
            "text/plain": [
              "614"
            ]
          },
          "metadata": {
            "tags": []
          },
          "execution_count": 55
        }
      ]
    },
    {
      "metadata": {
        "id": "YjP3_5AkAYUG",
        "colab_type": "code",
        "colab": {
          "base_uri": "https://localhost:8080/",
          "height": 187
        },
        "outputId": "0402d3c4-a91e-4e41-df1b-aeea90d3aaae"
      },
      "cell_type": "code",
      "source": [
        "import scipy.stats as stats\n",
        "X = df[df['budget'] != 0]\n",
        "for i in X.select_dtypes(include='number', exclude='datetime'):\n",
        "    print(i, stats.pearsonr(X.budget, X[i]))"
      ],
      "execution_count": 58,
      "outputs": [
        {
          "output_type": "stream",
          "text": [
            "id (0.021414364889835395, 0.33944024164638087)\n",
            "budget (1.0, 0.0)\n",
            "popularity (0.2969912769463591, 7.512253162747816e-42)\n",
            "runtime (0.21253907332556757, 8.823892195454841e-22)\n",
            "revenue (0.732132958093694, 0.0)\n",
            "logrevenue (0.49860572539147596, 1.100194310041583e-125)\n",
            "release_day (0.023619958760424126, 0.2920261518050205)\n",
            "release_weekday (-0.11287502976286949, 4.399513517982346e-07)\n",
            "release_month (0.020107513824845925, 0.36973895528698353)\n",
            "release_year (0.2710624938352254, 6.91189222264419e-35)\n"
          ],
          "name": "stdout"
        }
      ]
    },
    {
      "metadata": {
        "id": "ZmmHBFgEAYKo",
        "colab_type": "code",
        "colab": {}
      },
      "cell_type": "code",
      "source": [
        "# release_year and popularity correlate most strongly with budget\n",
        "def map_budget(df):\n",
        "    d = defaultdict()\n",
        "    #df['budget'] = df['budget'].fillna(0)\n",
        "    X = df[df['budget'] != 0]\n",
        "    \n",
        "    year_mean = pd.Series(X.groupby(['release_year'])['budget'].agg('mean'))\n",
        "    d = dict(year_mean)\n",
        "    \n",
        "    for i in df[df['budget'] == 0]:\n",
        "        df['budget'] = df.loc[:, 'release_year'].map(d)\n",
        "    \n",
        "    # In a few cases, there are only 1 or 2 movies provided from a given year and are filled with Na values\n",
        "    df.budget = df.sort_values(by='release_year').budget.fillna(method='ffill')\n",
        "    \n",
        "    return df"
      ],
      "execution_count": 0,
      "outputs": []
    },
    {
      "metadata": {
        "id": "1vDeI83ZAYGv",
        "colab_type": "code",
        "colab": {
          "base_uri": "https://localhost:8080/",
          "height": 170
        },
        "outputId": "53320a6a-6a23-4a82-9c18-eb548d5f940f"
      },
      "cell_type": "code",
      "source": [
        "df = map_budget(df)\n",
        "df.budget.describe()"
      ],
      "execution_count": 60,
      "outputs": [
        {
          "output_type": "execute_result",
          "data": {
            "text/plain": [
              "count    2.606000e+03\n",
              "mean     3.176739e+07\n",
              "std      1.327617e+07\n",
              "min      2.500000e+05\n",
              "25%      2.218276e+07\n",
              "50%      3.672500e+07\n",
              "75%      4.038036e+07\n",
              "max      6.428481e+07\n",
              "Name: budget, dtype: float64"
            ]
          },
          "metadata": {
            "tags": []
          },
          "execution_count": 60
        }
      ]
    },
    {
      "metadata": {
        "id": "jYbGCiZ9AwZj",
        "colab_type": "code",
        "colab": {
          "base_uri": "https://localhost:8080/",
          "height": 34
        },
        "outputId": "88e3b176-9037-4808-ab07-e63d5123f46d"
      },
      "cell_type": "code",
      "source": [
        "print(len(df[df['budget']==0]))"
      ],
      "execution_count": 61,
      "outputs": [
        {
          "output_type": "stream",
          "text": [
            "0\n"
          ],
          "name": "stdout"
        }
      ]
    },
    {
      "metadata": {
        "id": "SRbs0-amBFYd",
        "colab_type": "code",
        "colab": {
          "base_uri": "https://localhost:8080/",
          "height": 34
        },
        "outputId": "7b560ad1-9475-4fa3-d9b8-0ef65e44af75"
      },
      "cell_type": "code",
      "source": [
        "len(test[test['budget']==0])"
      ],
      "execution_count": 62,
      "outputs": [
        {
          "output_type": "execute_result",
          "data": {
            "text/plain": [
              "923"
            ]
          },
          "metadata": {
            "tags": []
          },
          "execution_count": 62
        }
      ]
    },
    {
      "metadata": {
        "id": "6_tZITMOBLXf",
        "colab_type": "code",
        "colab": {
          "base_uri": "https://localhost:8080/",
          "height": 34
        },
        "outputId": "4275bdd7-2d5f-42a5-a05e-e51d69b8412a"
      },
      "cell_type": "code",
      "source": [
        "test = map_budget(test)\n",
        "len(test[test['budget']==0])"
      ],
      "execution_count": 64,
      "outputs": [
        {
          "output_type": "execute_result",
          "data": {
            "text/plain": [
              "0"
            ]
          },
          "metadata": {
            "tags": []
          },
          "execution_count": 64
        }
      ]
    },
    {
      "metadata": {
        "id": "S1tM_EoABpeE",
        "colab_type": "code",
        "colab": {
          "base_uri": "https://localhost:8080/",
          "height": 593
        },
        "outputId": "ff35a5c4-27b1-4686-d460-b1fe39e289b7"
      },
      "cell_type": "code",
      "source": [
        "df.head()"
      ],
      "execution_count": 65,
      "outputs": [
        {
          "output_type": "execute_result",
          "data": {
            "text/html": [
              "<div>\n",
              "<style scoped>\n",
              "    .dataframe tbody tr th:only-of-type {\n",
              "        vertical-align: middle;\n",
              "    }\n",
              "\n",
              "    .dataframe tbody tr th {\n",
              "        vertical-align: top;\n",
              "    }\n",
              "\n",
              "    .dataframe thead th {\n",
              "        text-align: right;\n",
              "    }\n",
              "</style>\n",
              "<table border=\"1\" class=\"dataframe\">\n",
              "  <thead>\n",
              "    <tr style=\"text-align: right;\">\n",
              "      <th></th>\n",
              "      <th>id</th>\n",
              "      <th>budget</th>\n",
              "      <th>genres</th>\n",
              "      <th>imdb_id</th>\n",
              "      <th>original_language</th>\n",
              "      <th>original_title</th>\n",
              "      <th>overview</th>\n",
              "      <th>popularity</th>\n",
              "      <th>poster_path</th>\n",
              "      <th>production_companies</th>\n",
              "      <th>...</th>\n",
              "      <th>title</th>\n",
              "      <th>Keywords</th>\n",
              "      <th>cast</th>\n",
              "      <th>crew</th>\n",
              "      <th>revenue</th>\n",
              "      <th>logrevenue</th>\n",
              "      <th>release_day</th>\n",
              "      <th>release_weekday</th>\n",
              "      <th>release_month</th>\n",
              "      <th>release_year</th>\n",
              "    </tr>\n",
              "  </thead>\n",
              "  <tbody>\n",
              "    <tr>\n",
              "      <th>0</th>\n",
              "      <td>1</td>\n",
              "      <td>4.818330e+07</td>\n",
              "      <td>[{'id': 35, 'name': 'Comedy'}]</td>\n",
              "      <td>tt2637294</td>\n",
              "      <td>en</td>\n",
              "      <td>Hot Tub Time Machine 2</td>\n",
              "      <td>When Lou, who has become the \"father of the In...</td>\n",
              "      <td>6.575393</td>\n",
              "      <td>/tQtWuwvMf0hCc2QR2tkolwl7c3c.jpg</td>\n",
              "      <td>[{'name': 'Paramount Pictures', 'id': 4}, {'na...</td>\n",
              "      <td>...</td>\n",
              "      <td>Hot Tub Time Machine 2</td>\n",
              "      <td>[{'id': 4379, 'name': 'time travel'}, {'id': 9...</td>\n",
              "      <td>[{'cast_id': 4, 'character': 'Lou', 'credit_id...</td>\n",
              "      <td>[{'credit_id': '59ac067c92514107af02c8c8', 'de...</td>\n",
              "      <td>12314651</td>\n",
              "      <td>16.326300</td>\n",
              "      <td>20</td>\n",
              "      <td>4</td>\n",
              "      <td>2</td>\n",
              "      <td>2015</td>\n",
              "    </tr>\n",
              "    <tr>\n",
              "      <th>1</th>\n",
              "      <td>2</td>\n",
              "      <td>4.120444e+07</td>\n",
              "      <td>[{'id': 35, 'name': 'Comedy'}, {'id': 18, 'nam...</td>\n",
              "      <td>tt0368933</td>\n",
              "      <td>en</td>\n",
              "      <td>The Princess Diaries 2: Royal Engagement</td>\n",
              "      <td>Mia Thermopolis is now a college graduate and ...</td>\n",
              "      <td>8.248895</td>\n",
              "      <td>/w9Z7A0GHEhIp7etpj0vyKOeU1Wx.jpg</td>\n",
              "      <td>[{'name': 'Walt Disney Pictures', 'id': 2}]</td>\n",
              "      <td>...</td>\n",
              "      <td>The Princess Diaries 2: Royal Engagement</td>\n",
              "      <td>[{'id': 2505, 'name': 'coronation'}, {'id': 42...</td>\n",
              "      <td>[{'cast_id': 1, 'character': 'Mia Thermopolis'...</td>\n",
              "      <td>[{'credit_id': '52fe43fe9251416c7502563d', 'de...</td>\n",
              "      <td>95149435</td>\n",
              "      <td>18.370959</td>\n",
              "      <td>6</td>\n",
              "      <td>4</td>\n",
              "      <td>8</td>\n",
              "      <td>2004</td>\n",
              "    </tr>\n",
              "    <tr>\n",
              "      <th>2</th>\n",
              "      <td>3</td>\n",
              "      <td>3.936394e+07</td>\n",
              "      <td>[{'id': 18, 'name': 'Drama'}]</td>\n",
              "      <td>tt2582802</td>\n",
              "      <td>en</td>\n",
              "      <td>Whiplash</td>\n",
              "      <td>Under the direction of a ruthless instructor, ...</td>\n",
              "      <td>64.299990</td>\n",
              "      <td>/lIv1QinFqz4dlp5U4lQ6HaiskOZ.jpg</td>\n",
              "      <td>[{'name': 'Bold Films', 'id': 2266}, {'name': ...</td>\n",
              "      <td>...</td>\n",
              "      <td>Whiplash</td>\n",
              "      <td>[{'id': 1416, 'name': 'jazz'}, {'id': 1523, 'n...</td>\n",
              "      <td>[{'cast_id': 5, 'character': 'Andrew Neimann',...</td>\n",
              "      <td>[{'credit_id': '54d5356ec3a3683ba0000039', 'de...</td>\n",
              "      <td>13092000</td>\n",
              "      <td>16.387512</td>\n",
              "      <td>10</td>\n",
              "      <td>4</td>\n",
              "      <td>10</td>\n",
              "      <td>2014</td>\n",
              "    </tr>\n",
              "    <tr>\n",
              "      <th>8</th>\n",
              "      <td>9</td>\n",
              "      <td>3.498643e+07</td>\n",
              "      <td>[{'id': 28, 'name': 'Action'}, {'id': 35, 'nam...</td>\n",
              "      <td>tt0117110</td>\n",
              "      <td>en</td>\n",
              "      <td>Muppet Treasure Island</td>\n",
              "      <td>After telling the story of Flint's last journe...</td>\n",
              "      <td>6.902423</td>\n",
              "      <td>/5A8gKzOrF9Z7tSUX6xd5dEx4NXf.jpg</td>\n",
              "      <td>[{'name': 'Walt Disney Pictures', 'id': 2}, {'...</td>\n",
              "      <td>...</td>\n",
              "      <td>Muppet Treasure Island</td>\n",
              "      <td>[{'id': 2041, 'name': 'island'}, {'id': 4418, ...</td>\n",
              "      <td>[{'cast_id': 1, 'character': 'Long John Silver...</td>\n",
              "      <td>[{'credit_id': '52fe43c89251416c7501deb3', 'de...</td>\n",
              "      <td>34327391</td>\n",
              "      <td>17.351454</td>\n",
              "      <td>16</td>\n",
              "      <td>4</td>\n",
              "      <td>2</td>\n",
              "      <td>1996</td>\n",
              "    </tr>\n",
              "    <tr>\n",
              "      <th>9</th>\n",
              "      <td>10</td>\n",
              "      <td>4.015557e+07</td>\n",
              "      <td>[{'id': 35, 'name': 'Comedy'}, {'id': 10402, '...</td>\n",
              "      <td>tt0310281</td>\n",
              "      <td>en</td>\n",
              "      <td>A Mighty Wind</td>\n",
              "      <td>In \"A Mighty Wind\", director Christopher Guest...</td>\n",
              "      <td>4.672036</td>\n",
              "      <td>/xwD4EsPOGLuKP50Q1gwqAsyhAFB.jpg</td>\n",
              "      <td>[{'name': 'Castle Rock Entertainment', 'id': 97}]</td>\n",
              "      <td>...</td>\n",
              "      <td>A Mighty Wind</td>\n",
              "      <td>[{'id': 11800, 'name': 'mockumentary'}, {'id':...</td>\n",
              "      <td>[{'cast_id': 24, 'character': 'Jonathan Steinb...</td>\n",
              "      <td>[{'credit_id': '52fe45609251416c750545b3', 'de...</td>\n",
              "      <td>18750246</td>\n",
              "      <td>16.746717</td>\n",
              "      <td>16</td>\n",
              "      <td>2</td>\n",
              "      <td>4</td>\n",
              "      <td>2003</td>\n",
              "    </tr>\n",
              "  </tbody>\n",
              "</table>\n",
              "<p>5 rows × 25 columns</p>\n",
              "</div>"
            ],
            "text/plain": [
              "   id        budget                                             genres  \\\n",
              "0   1  4.818330e+07                     [{'id': 35, 'name': 'Comedy'}]   \n",
              "1   2  4.120444e+07  [{'id': 35, 'name': 'Comedy'}, {'id': 18, 'nam...   \n",
              "2   3  3.936394e+07                      [{'id': 18, 'name': 'Drama'}]   \n",
              "8   9  3.498643e+07  [{'id': 28, 'name': 'Action'}, {'id': 35, 'nam...   \n",
              "9  10  4.015557e+07  [{'id': 35, 'name': 'Comedy'}, {'id': 10402, '...   \n",
              "\n",
              "     imdb_id original_language                            original_title  \\\n",
              "0  tt2637294                en                    Hot Tub Time Machine 2   \n",
              "1  tt0368933                en  The Princess Diaries 2: Royal Engagement   \n",
              "2  tt2582802                en                                  Whiplash   \n",
              "8  tt0117110                en                    Muppet Treasure Island   \n",
              "9  tt0310281                en                             A Mighty Wind   \n",
              "\n",
              "                                            overview  popularity  \\\n",
              "0  When Lou, who has become the \"father of the In...    6.575393   \n",
              "1  Mia Thermopolis is now a college graduate and ...    8.248895   \n",
              "2  Under the direction of a ruthless instructor, ...   64.299990   \n",
              "8  After telling the story of Flint's last journe...    6.902423   \n",
              "9  In \"A Mighty Wind\", director Christopher Guest...    4.672036   \n",
              "\n",
              "                        poster_path  \\\n",
              "0  /tQtWuwvMf0hCc2QR2tkolwl7c3c.jpg   \n",
              "1  /w9Z7A0GHEhIp7etpj0vyKOeU1Wx.jpg   \n",
              "2  /lIv1QinFqz4dlp5U4lQ6HaiskOZ.jpg   \n",
              "8  /5A8gKzOrF9Z7tSUX6xd5dEx4NXf.jpg   \n",
              "9  /xwD4EsPOGLuKP50Q1gwqAsyhAFB.jpg   \n",
              "\n",
              "                                production_companies      ...       \\\n",
              "0  [{'name': 'Paramount Pictures', 'id': 4}, {'na...      ...        \n",
              "1        [{'name': 'Walt Disney Pictures', 'id': 2}]      ...        \n",
              "2  [{'name': 'Bold Films', 'id': 2266}, {'name': ...      ...        \n",
              "8  [{'name': 'Walt Disney Pictures', 'id': 2}, {'...      ...        \n",
              "9  [{'name': 'Castle Rock Entertainment', 'id': 97}]      ...        \n",
              "\n",
              "                                      title  \\\n",
              "0                    Hot Tub Time Machine 2   \n",
              "1  The Princess Diaries 2: Royal Engagement   \n",
              "2                                  Whiplash   \n",
              "8                    Muppet Treasure Island   \n",
              "9                             A Mighty Wind   \n",
              "\n",
              "                                            Keywords  \\\n",
              "0  [{'id': 4379, 'name': 'time travel'}, {'id': 9...   \n",
              "1  [{'id': 2505, 'name': 'coronation'}, {'id': 42...   \n",
              "2  [{'id': 1416, 'name': 'jazz'}, {'id': 1523, 'n...   \n",
              "8  [{'id': 2041, 'name': 'island'}, {'id': 4418, ...   \n",
              "9  [{'id': 11800, 'name': 'mockumentary'}, {'id':...   \n",
              "\n",
              "                                                cast  \\\n",
              "0  [{'cast_id': 4, 'character': 'Lou', 'credit_id...   \n",
              "1  [{'cast_id': 1, 'character': 'Mia Thermopolis'...   \n",
              "2  [{'cast_id': 5, 'character': 'Andrew Neimann',...   \n",
              "8  [{'cast_id': 1, 'character': 'Long John Silver...   \n",
              "9  [{'cast_id': 24, 'character': 'Jonathan Steinb...   \n",
              "\n",
              "                                                crew   revenue logrevenue  \\\n",
              "0  [{'credit_id': '59ac067c92514107af02c8c8', 'de...  12314651  16.326300   \n",
              "1  [{'credit_id': '52fe43fe9251416c7502563d', 'de...  95149435  18.370959   \n",
              "2  [{'credit_id': '54d5356ec3a3683ba0000039', 'de...  13092000  16.387512   \n",
              "8  [{'credit_id': '52fe43c89251416c7501deb3', 'de...  34327391  17.351454   \n",
              "9  [{'credit_id': '52fe45609251416c750545b3', 'de...  18750246  16.746717   \n",
              "\n",
              "  release_day release_weekday release_month  release_year  \n",
              "0          20               4             2          2015  \n",
              "1           6               4             8          2004  \n",
              "2          10               4            10          2014  \n",
              "8          16               4             2          1996  \n",
              "9          16               2             4          2003  \n",
              "\n",
              "[5 rows x 25 columns]"
            ]
          },
          "metadata": {
            "tags": []
          },
          "execution_count": 65
        }
      ]
    },
    {
      "metadata": {
        "id": "u_mnyXsQBpYo",
        "colab_type": "code",
        "colab": {
          "base_uri": "https://localhost:8080/",
          "height": 644
        },
        "outputId": "3d5294fe-62f8-46a0-da7f-3f01bab48c93"
      },
      "cell_type": "code",
      "source": [
        "test.head()"
      ],
      "execution_count": 66,
      "outputs": [
        {
          "output_type": "execute_result",
          "data": {
            "text/html": [
              "<div>\n",
              "<style scoped>\n",
              "    .dataframe tbody tr th:only-of-type {\n",
              "        vertical-align: middle;\n",
              "    }\n",
              "\n",
              "    .dataframe tbody tr th {\n",
              "        vertical-align: top;\n",
              "    }\n",
              "\n",
              "    .dataframe thead th {\n",
              "        text-align: right;\n",
              "    }\n",
              "</style>\n",
              "<table border=\"1\" class=\"dataframe\">\n",
              "  <thead>\n",
              "    <tr style=\"text-align: right;\">\n",
              "      <th></th>\n",
              "      <th>id</th>\n",
              "      <th>budget</th>\n",
              "      <th>genres</th>\n",
              "      <th>imdb_id</th>\n",
              "      <th>original_language</th>\n",
              "      <th>original_title</th>\n",
              "      <th>overview</th>\n",
              "      <th>popularity</th>\n",
              "      <th>poster_path</th>\n",
              "      <th>production_companies</th>\n",
              "      <th>...</th>\n",
              "      <th>spoken_languages</th>\n",
              "      <th>status</th>\n",
              "      <th>title</th>\n",
              "      <th>Keywords</th>\n",
              "      <th>cast</th>\n",
              "      <th>crew</th>\n",
              "      <th>release_day</th>\n",
              "      <th>release_weekday</th>\n",
              "      <th>release_month</th>\n",
              "      <th>release_year</th>\n",
              "    </tr>\n",
              "  </thead>\n",
              "  <tbody>\n",
              "    <tr>\n",
              "      <th>1</th>\n",
              "      <td>3002</td>\n",
              "      <td>2.479200e+06</td>\n",
              "      <td>[{'id': 27, 'name': 'Horror'}, {'id': 878, 'na...</td>\n",
              "      <td>tt0051380</td>\n",
              "      <td>en</td>\n",
              "      <td>Attack of the 50 Foot Woman</td>\n",
              "      <td>When an abused wife grows to giant size becaus...</td>\n",
              "      <td>3.559789</td>\n",
              "      <td>/9MgBNBqlH1sG4yG2u4XkwI5CoJa.jpg</td>\n",
              "      <td>[{'name': 'Woolner Brothers Pictures Inc.', 'i...</td>\n",
              "      <td>...</td>\n",
              "      <td>[{'iso_639_1': 'en', 'name': 'English'}]</td>\n",
              "      <td>Released</td>\n",
              "      <td>Attack of the 50 Foot Woman</td>\n",
              "      <td>[{'id': 9748, 'name': 'revenge'}, {'id': 9951,...</td>\n",
              "      <td>[{'cast_id': 2, 'character': 'Nancy Fowler Arc...</td>\n",
              "      <td>[{'credit_id': '55807805c3a3685b1300060b', 'de...</td>\n",
              "      <td>19</td>\n",
              "      <td>6</td>\n",
              "      <td>5</td>\n",
              "      <td>1958</td>\n",
              "    </tr>\n",
              "    <tr>\n",
              "      <th>2</th>\n",
              "      <td>3003</td>\n",
              "      <td>3.454290e+07</td>\n",
              "      <td>[{'id': 35, 'name': 'Comedy'}, {'id': 10749, '...</td>\n",
              "      <td>tt0118556</td>\n",
              "      <td>en</td>\n",
              "      <td>Addicted to Love</td>\n",
              "      <td>Good-natured astronomer Sam is devastated when...</td>\n",
              "      <td>8.085194</td>\n",
              "      <td>/ed6nD7h9sbojSWY2qrnDcSvDFko.jpg</td>\n",
              "      <td>[{'name': 'Warner Bros.', 'id': 6194}, {'name'...</td>\n",
              "      <td>...</td>\n",
              "      <td>[{'iso_639_1': 'en', 'name': 'English'}]</td>\n",
              "      <td>Released</td>\n",
              "      <td>Addicted to Love</td>\n",
              "      <td>[{'id': 931, 'name': 'jealousy'}, {'id': 9673,...</td>\n",
              "      <td>[{'cast_id': 11, 'character': 'Maggie', 'credi...</td>\n",
              "      <td>[{'credit_id': '52fe4330c3a36847f8041367', 'de...</td>\n",
              "      <td>23</td>\n",
              "      <td>4</td>\n",
              "      <td>5</td>\n",
              "      <td>1997</td>\n",
              "    </tr>\n",
              "    <tr>\n",
              "      <th>3</th>\n",
              "      <td>3004</td>\n",
              "      <td>4.378603e+07</td>\n",
              "      <td>[{'id': 18, 'name': 'Drama'}, {'id': 10752, 'n...</td>\n",
              "      <td>tt1255953</td>\n",
              "      <td>fr</td>\n",
              "      <td>Incendies</td>\n",
              "      <td>A mother's last wishes send twins Jeanne and S...</td>\n",
              "      <td>8.596012</td>\n",
              "      <td>/sEUG3qjxwHjxkzuO7plrRHhOZUH.jpg</td>\n",
              "      <td>[{'name': 'TS Productions', 'id': 313}, {'name...</td>\n",
              "      <td>...</td>\n",
              "      <td>[{'iso_639_1': 'fr', 'name': 'Français'}, {'is...</td>\n",
              "      <td>Released</td>\n",
              "      <td>Incendies</td>\n",
              "      <td>[{'id': 378, 'name': 'prison'}, {'id': 539, 'n...</td>\n",
              "      <td>[{'cast_id': 6, 'character': 'Nawal', 'credit_...</td>\n",
              "      <td>[{'credit_id': '56478092c3a36826140043af', 'de...</td>\n",
              "      <td>4</td>\n",
              "      <td>5</td>\n",
              "      <td>9</td>\n",
              "      <td>2010</td>\n",
              "    </tr>\n",
              "    <tr>\n",
              "      <th>5</th>\n",
              "      <td>3006</td>\n",
              "      <td>3.040300e+07</td>\n",
              "      <td>[{'id': 35, 'name': 'Comedy'}, {'id': 18, 'nam...</td>\n",
              "      <td>tt0120238</td>\n",
              "      <td>en</td>\n",
              "      <td>SubUrbia</td>\n",
              "      <td>A group of suburban teenagers try to support e...</td>\n",
              "      <td>8.679350</td>\n",
              "      <td>/7PdRbG09K9JHYyOwwCSn3OdJb0N.jpg</td>\n",
              "      <td>[{'name': 'Castle Rock Entertainment', 'id': 9...</td>\n",
              "      <td>...</td>\n",
              "      <td>[{'iso_639_1': 'en', 'name': 'English'}]</td>\n",
              "      <td>Released</td>\n",
              "      <td>SubUrbia</td>\n",
              "      <td>[{'id': 10183, 'name': 'independent film'}]</td>\n",
              "      <td>[{'cast_id': 4, 'character': 'Pony', 'credit_i...</td>\n",
              "      <td>[{'credit_id': '52fe4576c3a368484e05c901', 'de...</td>\n",
              "      <td>7</td>\n",
              "      <td>2</td>\n",
              "      <td>2</td>\n",
              "      <td>1996</td>\n",
              "    </tr>\n",
              "    <tr>\n",
              "      <th>6</th>\n",
              "      <td>3007</td>\n",
              "      <td>4.378603e+07</td>\n",
              "      <td>[{'id': 10749, 'name': 'Romance'}, {'id': 18, ...</td>\n",
              "      <td>tt1517177</td>\n",
              "      <td>de</td>\n",
              "      <td>Drei</td>\n",
              "      <td>Hanna and Simon are in a 20 year marriage with...</td>\n",
              "      <td>4.898882</td>\n",
              "      <td>/cIIQJvsZePyYYjlQJMU3J0fcinu.jpg</td>\n",
              "      <td>[{'name': 'X-Filme Creative Pool', 'id': 1972}...</td>\n",
              "      <td>...</td>\n",
              "      <td>[{'iso_639_1': 'en', 'name': 'English'}, {'iso...</td>\n",
              "      <td>Released</td>\n",
              "      <td>Three</td>\n",
              "      <td>[{'id': 572, 'name': 'sex'}, {'id': 154937, 'n...</td>\n",
              "      <td>[{'cast_id': 2, 'character': 'Hanna', 'credit_...</td>\n",
              "      <td>[{'credit_id': '52fe485bc3a36847f816358d', 'de...</td>\n",
              "      <td>23</td>\n",
              "      <td>3</td>\n",
              "      <td>12</td>\n",
              "      <td>2010</td>\n",
              "    </tr>\n",
              "  </tbody>\n",
              "</table>\n",
              "<p>5 rows × 23 columns</p>\n",
              "</div>"
            ],
            "text/plain": [
              "     id        budget                                             genres  \\\n",
              "1  3002  2.479200e+06  [{'id': 27, 'name': 'Horror'}, {'id': 878, 'na...   \n",
              "2  3003  3.454290e+07  [{'id': 35, 'name': 'Comedy'}, {'id': 10749, '...   \n",
              "3  3004  4.378603e+07  [{'id': 18, 'name': 'Drama'}, {'id': 10752, 'n...   \n",
              "5  3006  3.040300e+07  [{'id': 35, 'name': 'Comedy'}, {'id': 18, 'nam...   \n",
              "6  3007  4.378603e+07  [{'id': 10749, 'name': 'Romance'}, {'id': 18, ...   \n",
              "\n",
              "     imdb_id original_language               original_title  \\\n",
              "1  tt0051380                en  Attack of the 50 Foot Woman   \n",
              "2  tt0118556                en             Addicted to Love   \n",
              "3  tt1255953                fr                    Incendies   \n",
              "5  tt0120238                en                     SubUrbia   \n",
              "6  tt1517177                de                         Drei   \n",
              "\n",
              "                                            overview  popularity  \\\n",
              "1  When an abused wife grows to giant size becaus...    3.559789   \n",
              "2  Good-natured astronomer Sam is devastated when...    8.085194   \n",
              "3  A mother's last wishes send twins Jeanne and S...    8.596012   \n",
              "5  A group of suburban teenagers try to support e...    8.679350   \n",
              "6  Hanna and Simon are in a 20 year marriage with...    4.898882   \n",
              "\n",
              "                        poster_path  \\\n",
              "1  /9MgBNBqlH1sG4yG2u4XkwI5CoJa.jpg   \n",
              "2  /ed6nD7h9sbojSWY2qrnDcSvDFko.jpg   \n",
              "3  /sEUG3qjxwHjxkzuO7plrRHhOZUH.jpg   \n",
              "5  /7PdRbG09K9JHYyOwwCSn3OdJb0N.jpg   \n",
              "6  /cIIQJvsZePyYYjlQJMU3J0fcinu.jpg   \n",
              "\n",
              "                                production_companies      ...       \\\n",
              "1  [{'name': 'Woolner Brothers Pictures Inc.', 'i...      ...        \n",
              "2  [{'name': 'Warner Bros.', 'id': 6194}, {'name'...      ...        \n",
              "3  [{'name': 'TS Productions', 'id': 313}, {'name...      ...        \n",
              "5  [{'name': 'Castle Rock Entertainment', 'id': 9...      ...        \n",
              "6  [{'name': 'X-Filme Creative Pool', 'id': 1972}...      ...        \n",
              "\n",
              "                                    spoken_languages    status  \\\n",
              "1           [{'iso_639_1': 'en', 'name': 'English'}]  Released   \n",
              "2           [{'iso_639_1': 'en', 'name': 'English'}]  Released   \n",
              "3  [{'iso_639_1': 'fr', 'name': 'Français'}, {'is...  Released   \n",
              "5           [{'iso_639_1': 'en', 'name': 'English'}]  Released   \n",
              "6  [{'iso_639_1': 'en', 'name': 'English'}, {'iso...  Released   \n",
              "\n",
              "                         title  \\\n",
              "1  Attack of the 50 Foot Woman   \n",
              "2             Addicted to Love   \n",
              "3                    Incendies   \n",
              "5                     SubUrbia   \n",
              "6                        Three   \n",
              "\n",
              "                                            Keywords  \\\n",
              "1  [{'id': 9748, 'name': 'revenge'}, {'id': 9951,...   \n",
              "2  [{'id': 931, 'name': 'jealousy'}, {'id': 9673,...   \n",
              "3  [{'id': 378, 'name': 'prison'}, {'id': 539, 'n...   \n",
              "5        [{'id': 10183, 'name': 'independent film'}]   \n",
              "6  [{'id': 572, 'name': 'sex'}, {'id': 154937, 'n...   \n",
              "\n",
              "                                                cast  \\\n",
              "1  [{'cast_id': 2, 'character': 'Nancy Fowler Arc...   \n",
              "2  [{'cast_id': 11, 'character': 'Maggie', 'credi...   \n",
              "3  [{'cast_id': 6, 'character': 'Nawal', 'credit_...   \n",
              "5  [{'cast_id': 4, 'character': 'Pony', 'credit_i...   \n",
              "6  [{'cast_id': 2, 'character': 'Hanna', 'credit_...   \n",
              "\n",
              "                                                crew release_day  \\\n",
              "1  [{'credit_id': '55807805c3a3685b1300060b', 'de...          19   \n",
              "2  [{'credit_id': '52fe4330c3a36847f8041367', 'de...          23   \n",
              "3  [{'credit_id': '56478092c3a36826140043af', 'de...           4   \n",
              "5  [{'credit_id': '52fe4576c3a368484e05c901', 'de...           7   \n",
              "6  [{'credit_id': '52fe485bc3a36847f816358d', 'de...          23   \n",
              "\n",
              "  release_weekday release_month  release_year  \n",
              "1               6             5          1958  \n",
              "2               4             5          1997  \n",
              "3               5             9          2010  \n",
              "5               2             2          1996  \n",
              "6               3            12          2010  \n",
              "\n",
              "[5 rows x 23 columns]"
            ]
          },
          "metadata": {
            "tags": []
          },
          "execution_count": 66
        }
      ]
    },
    {
      "metadata": {
        "id": "WVQvrkf7CBAQ",
        "colab_type": "code",
        "colab": {}
      },
      "cell_type": "code",
      "source": [
        "df['poster_path'].fillna(0, inplace=True)\n",
        "df.loc[df['poster_path'] != 0, 'poster_path'] = 1\n",
        "\n",
        "test['poster_path'].fillna(0, inplace=True)\n",
        "test.loc[test['poster_path'] != 0, 'poster_path'] = 1"
      ],
      "execution_count": 0,
      "outputs": []
    },
    {
      "metadata": {
        "id": "FMDBiKPXY9_P",
        "colab_type": "code",
        "colab": {}
      },
      "cell_type": "code",
      "source": [
        "genres= df.genres.str.get_dummies(sep=',')\n",
        "df =pd.concat([df,genres],axis=1)"
      ],
      "execution_count": 0,
      "outputs": []
    },
    {
      "metadata": {
        "id": "UdplLFtlHKKB",
        "colab_type": "code",
        "colab": {
          "base_uri": "https://localhost:8080/",
          "height": 593
        },
        "outputId": "2614c3a3-f151-43f2-8b7e-2432a849abd2"
      },
      "cell_type": "code",
      "source": [
        "df.drop(['genres'],axis=1,inplace=True)\n",
        "df.head()"
      ],
      "execution_count": 70,
      "outputs": [
        {
          "output_type": "execute_result",
          "data": {
            "text/html": [
              "<div>\n",
              "<style scoped>\n",
              "    .dataframe tbody tr th:only-of-type {\n",
              "        vertical-align: middle;\n",
              "    }\n",
              "\n",
              "    .dataframe tbody tr th {\n",
              "        vertical-align: top;\n",
              "    }\n",
              "\n",
              "    .dataframe thead th {\n",
              "        text-align: right;\n",
              "    }\n",
              "</style>\n",
              "<table border=\"1\" class=\"dataframe\">\n",
              "  <thead>\n",
              "    <tr style=\"text-align: right;\">\n",
              "      <th></th>\n",
              "      <th>id</th>\n",
              "      <th>budget</th>\n",
              "      <th>imdb_id</th>\n",
              "      <th>original_language</th>\n",
              "      <th>original_title</th>\n",
              "      <th>overview</th>\n",
              "      <th>popularity</th>\n",
              "      <th>poster_path</th>\n",
              "      <th>production_companies</th>\n",
              "      <th>production_countries</th>\n",
              "      <th>...</th>\n",
              "      <th>[{'id': 27</th>\n",
              "      <th>[{'id': 28</th>\n",
              "      <th>[{'id': 35</th>\n",
              "      <th>[{'id': 36</th>\n",
              "      <th>[{'id': 37</th>\n",
              "      <th>[{'id': 53</th>\n",
              "      <th>[{'id': 80</th>\n",
              "      <th>[{'id': 878</th>\n",
              "      <th>[{'id': 9648</th>\n",
              "      <th>[{'id': 99</th>\n",
              "    </tr>\n",
              "  </thead>\n",
              "  <tbody>\n",
              "    <tr>\n",
              "      <th>0</th>\n",
              "      <td>1</td>\n",
              "      <td>4.818330e+07</td>\n",
              "      <td>tt2637294</td>\n",
              "      <td>en</td>\n",
              "      <td>Hot Tub Time Machine 2</td>\n",
              "      <td>When Lou, who has become the \"father of the In...</td>\n",
              "      <td>6.575393</td>\n",
              "      <td>1</td>\n",
              "      <td>[{'name': 'Paramount Pictures', 'id': 4}, {'na...</td>\n",
              "      <td>[{'iso_3166_1': 'US', 'name': 'United States o...</td>\n",
              "      <td>...</td>\n",
              "      <td>0</td>\n",
              "      <td>0</td>\n",
              "      <td>1</td>\n",
              "      <td>0</td>\n",
              "      <td>0</td>\n",
              "      <td>0</td>\n",
              "      <td>0</td>\n",
              "      <td>0</td>\n",
              "      <td>0</td>\n",
              "      <td>0</td>\n",
              "    </tr>\n",
              "    <tr>\n",
              "      <th>1</th>\n",
              "      <td>2</td>\n",
              "      <td>4.120444e+07</td>\n",
              "      <td>tt0368933</td>\n",
              "      <td>en</td>\n",
              "      <td>The Princess Diaries 2: Royal Engagement</td>\n",
              "      <td>Mia Thermopolis is now a college graduate and ...</td>\n",
              "      <td>8.248895</td>\n",
              "      <td>1</td>\n",
              "      <td>[{'name': 'Walt Disney Pictures', 'id': 2}]</td>\n",
              "      <td>[{'iso_3166_1': 'US', 'name': 'United States o...</td>\n",
              "      <td>...</td>\n",
              "      <td>0</td>\n",
              "      <td>0</td>\n",
              "      <td>1</td>\n",
              "      <td>0</td>\n",
              "      <td>0</td>\n",
              "      <td>0</td>\n",
              "      <td>0</td>\n",
              "      <td>0</td>\n",
              "      <td>0</td>\n",
              "      <td>0</td>\n",
              "    </tr>\n",
              "    <tr>\n",
              "      <th>2</th>\n",
              "      <td>3</td>\n",
              "      <td>3.936394e+07</td>\n",
              "      <td>tt2582802</td>\n",
              "      <td>en</td>\n",
              "      <td>Whiplash</td>\n",
              "      <td>Under the direction of a ruthless instructor, ...</td>\n",
              "      <td>64.299990</td>\n",
              "      <td>1</td>\n",
              "      <td>[{'name': 'Bold Films', 'id': 2266}, {'name': ...</td>\n",
              "      <td>[{'iso_3166_1': 'US', 'name': 'United States o...</td>\n",
              "      <td>...</td>\n",
              "      <td>0</td>\n",
              "      <td>0</td>\n",
              "      <td>0</td>\n",
              "      <td>0</td>\n",
              "      <td>0</td>\n",
              "      <td>0</td>\n",
              "      <td>0</td>\n",
              "      <td>0</td>\n",
              "      <td>0</td>\n",
              "      <td>0</td>\n",
              "    </tr>\n",
              "    <tr>\n",
              "      <th>8</th>\n",
              "      <td>9</td>\n",
              "      <td>3.498643e+07</td>\n",
              "      <td>tt0117110</td>\n",
              "      <td>en</td>\n",
              "      <td>Muppet Treasure Island</td>\n",
              "      <td>After telling the story of Flint's last journe...</td>\n",
              "      <td>6.902423</td>\n",
              "      <td>1</td>\n",
              "      <td>[{'name': 'Walt Disney Pictures', 'id': 2}, {'...</td>\n",
              "      <td>[{'iso_3166_1': 'US', 'name': 'United States o...</td>\n",
              "      <td>...</td>\n",
              "      <td>0</td>\n",
              "      <td>1</td>\n",
              "      <td>0</td>\n",
              "      <td>0</td>\n",
              "      <td>0</td>\n",
              "      <td>0</td>\n",
              "      <td>0</td>\n",
              "      <td>0</td>\n",
              "      <td>0</td>\n",
              "      <td>0</td>\n",
              "    </tr>\n",
              "    <tr>\n",
              "      <th>9</th>\n",
              "      <td>10</td>\n",
              "      <td>4.015557e+07</td>\n",
              "      <td>tt0310281</td>\n",
              "      <td>en</td>\n",
              "      <td>A Mighty Wind</td>\n",
              "      <td>In \"A Mighty Wind\", director Christopher Guest...</td>\n",
              "      <td>4.672036</td>\n",
              "      <td>1</td>\n",
              "      <td>[{'name': 'Castle Rock Entertainment', 'id': 97}]</td>\n",
              "      <td>[{'iso_3166_1': 'US', 'name': 'United States o...</td>\n",
              "      <td>...</td>\n",
              "      <td>0</td>\n",
              "      <td>0</td>\n",
              "      <td>1</td>\n",
              "      <td>0</td>\n",
              "      <td>0</td>\n",
              "      <td>0</td>\n",
              "      <td>0</td>\n",
              "      <td>0</td>\n",
              "      <td>0</td>\n",
              "      <td>0</td>\n",
              "    </tr>\n",
              "  </tbody>\n",
              "</table>\n",
              "<p>5 rows × 102 columns</p>\n",
              "</div>"
            ],
            "text/plain": [
              "   id        budget    imdb_id original_language  \\\n",
              "0   1  4.818330e+07  tt2637294                en   \n",
              "1   2  4.120444e+07  tt0368933                en   \n",
              "2   3  3.936394e+07  tt2582802                en   \n",
              "8   9  3.498643e+07  tt0117110                en   \n",
              "9  10  4.015557e+07  tt0310281                en   \n",
              "\n",
              "                             original_title  \\\n",
              "0                    Hot Tub Time Machine 2   \n",
              "1  The Princess Diaries 2: Royal Engagement   \n",
              "2                                  Whiplash   \n",
              "8                    Muppet Treasure Island   \n",
              "9                             A Mighty Wind   \n",
              "\n",
              "                                            overview  popularity  poster_path  \\\n",
              "0  When Lou, who has become the \"father of the In...    6.575393            1   \n",
              "1  Mia Thermopolis is now a college graduate and ...    8.248895            1   \n",
              "2  Under the direction of a ruthless instructor, ...   64.299990            1   \n",
              "8  After telling the story of Flint's last journe...    6.902423            1   \n",
              "9  In \"A Mighty Wind\", director Christopher Guest...    4.672036            1   \n",
              "\n",
              "                                production_companies  \\\n",
              "0  [{'name': 'Paramount Pictures', 'id': 4}, {'na...   \n",
              "1        [{'name': 'Walt Disney Pictures', 'id': 2}]   \n",
              "2  [{'name': 'Bold Films', 'id': 2266}, {'name': ...   \n",
              "8  [{'name': 'Walt Disney Pictures', 'id': 2}, {'...   \n",
              "9  [{'name': 'Castle Rock Entertainment', 'id': 97}]   \n",
              "\n",
              "                                production_countries     ...     [{'id': 27  \\\n",
              "0  [{'iso_3166_1': 'US', 'name': 'United States o...     ...              0   \n",
              "1  [{'iso_3166_1': 'US', 'name': 'United States o...     ...              0   \n",
              "2  [{'iso_3166_1': 'US', 'name': 'United States o...     ...              0   \n",
              "8  [{'iso_3166_1': 'US', 'name': 'United States o...     ...              0   \n",
              "9  [{'iso_3166_1': 'US', 'name': 'United States o...     ...              0   \n",
              "\n",
              "   [{'id': 28 [{'id': 35 [{'id': 36 [{'id': 37 [{'id': 53 [{'id': 80  \\\n",
              "0           0          1          0          0          0          0   \n",
              "1           0          1          0          0          0          0   \n",
              "2           0          0          0          0          0          0   \n",
              "8           1          0          0          0          0          0   \n",
              "9           0          1          0          0          0          0   \n",
              "\n",
              "  [{'id': 878  [{'id': 9648  [{'id': 99  \n",
              "0           0             0           0  \n",
              "1           0             0           0  \n",
              "2           0             0           0  \n",
              "8           0             0           0  \n",
              "9           0             0           0  \n",
              "\n",
              "[5 rows x 102 columns]"
            ]
          },
          "metadata": {
            "tags": []
          },
          "execution_count": 70
        }
      ]
    },
    {
      "metadata": {
        "id": "jM7XlsakHdq9",
        "colab_type": "code",
        "colab": {
          "base_uri": "https://localhost:8080/",
          "height": 34
        },
        "outputId": "4af105ca-7546-45e0-befa-b84c35775e6d"
      },
      "cell_type": "code",
      "source": [
        "df.shape"
      ],
      "execution_count": 73,
      "outputs": [
        {
          "output_type": "execute_result",
          "data": {
            "text/plain": [
              "(2606, 102)"
            ]
          },
          "metadata": {
            "tags": []
          },
          "execution_count": 73
        }
      ]
    },
    {
      "metadata": {
        "id": "O4jG_kCwHE8H",
        "colab_type": "code",
        "colab": {}
      },
      "cell_type": "code",
      "source": [
        "genres= test.genres.str.get_dummies(sep=',')\n",
        "test =pd.concat([test,genres],axis=1)"
      ],
      "execution_count": 0,
      "outputs": []
    },
    {
      "metadata": {
        "id": "nVLYxLtIHQ9v",
        "colab_type": "code",
        "colab": {
          "base_uri": "https://localhost:8080/",
          "height": 34
        },
        "outputId": "20aea5f5-6bc0-4c34-9d1f-311cbb61cda7"
      },
      "cell_type": "code",
      "source": [
        "test.drop(['genres'],axis=1,inplace=True)\n",
        "test.shape"
      ],
      "execution_count": 72,
      "outputs": [
        {
          "output_type": "execute_result",
          "data": {
            "text/plain": [
              "(3814, 98)"
            ]
          },
          "metadata": {
            "tags": []
          },
          "execution_count": 72
        }
      ]
    },
    {
      "metadata": {
        "id": "OZHc4CmpY90j",
        "colab_type": "code",
        "outputId": "880630bc-646e-43ad-a36d-4e358ed66411",
        "colab": {
          "base_uri": "https://localhost:8080/",
          "height": 287
        }
      },
      "cell_type": "code",
      "source": [
        "dropping_cols = ['id','imdb_id','original_title','overview','production_companies','status','title','Keywords','cast','crew','production_countries','release_date','spoken_languages']\n",
        "df.drop(dropping_cols,axis=1,inplace=True)\n",
        "print(df.shape)\n",
        "df.head()"
      ],
      "execution_count": 74,
      "outputs": [
        {
          "output_type": "stream",
          "text": [
            "(2606, 89)\n"
          ],
          "name": "stdout"
        },
        {
          "output_type": "execute_result",
          "data": {
            "text/html": [
              "<div>\n",
              "<style scoped>\n",
              "    .dataframe tbody tr th:only-of-type {\n",
              "        vertical-align: middle;\n",
              "    }\n",
              "\n",
              "    .dataframe tbody tr th {\n",
              "        vertical-align: top;\n",
              "    }\n",
              "\n",
              "    .dataframe thead th {\n",
              "        text-align: right;\n",
              "    }\n",
              "</style>\n",
              "<table border=\"1\" class=\"dataframe\">\n",
              "  <thead>\n",
              "    <tr style=\"text-align: right;\">\n",
              "      <th></th>\n",
              "      <th>budget</th>\n",
              "      <th>original_language</th>\n",
              "      <th>popularity</th>\n",
              "      <th>poster_path</th>\n",
              "      <th>runtime</th>\n",
              "      <th>revenue</th>\n",
              "      <th>logrevenue</th>\n",
              "      <th>release_day</th>\n",
              "      <th>release_weekday</th>\n",
              "      <th>release_month</th>\n",
              "      <th>...</th>\n",
              "      <th>[{'id': 27</th>\n",
              "      <th>[{'id': 28</th>\n",
              "      <th>[{'id': 35</th>\n",
              "      <th>[{'id': 36</th>\n",
              "      <th>[{'id': 37</th>\n",
              "      <th>[{'id': 53</th>\n",
              "      <th>[{'id': 80</th>\n",
              "      <th>[{'id': 878</th>\n",
              "      <th>[{'id': 9648</th>\n",
              "      <th>[{'id': 99</th>\n",
              "    </tr>\n",
              "  </thead>\n",
              "  <tbody>\n",
              "    <tr>\n",
              "      <th>0</th>\n",
              "      <td>4.818330e+07</td>\n",
              "      <td>en</td>\n",
              "      <td>6.575393</td>\n",
              "      <td>1</td>\n",
              "      <td>93.0</td>\n",
              "      <td>12314651</td>\n",
              "      <td>16.326300</td>\n",
              "      <td>20</td>\n",
              "      <td>4</td>\n",
              "      <td>2</td>\n",
              "      <td>...</td>\n",
              "      <td>0</td>\n",
              "      <td>0</td>\n",
              "      <td>1</td>\n",
              "      <td>0</td>\n",
              "      <td>0</td>\n",
              "      <td>0</td>\n",
              "      <td>0</td>\n",
              "      <td>0</td>\n",
              "      <td>0</td>\n",
              "      <td>0</td>\n",
              "    </tr>\n",
              "    <tr>\n",
              "      <th>1</th>\n",
              "      <td>4.120444e+07</td>\n",
              "      <td>en</td>\n",
              "      <td>8.248895</td>\n",
              "      <td>1</td>\n",
              "      <td>113.0</td>\n",
              "      <td>95149435</td>\n",
              "      <td>18.370959</td>\n",
              "      <td>6</td>\n",
              "      <td>4</td>\n",
              "      <td>8</td>\n",
              "      <td>...</td>\n",
              "      <td>0</td>\n",
              "      <td>0</td>\n",
              "      <td>1</td>\n",
              "      <td>0</td>\n",
              "      <td>0</td>\n",
              "      <td>0</td>\n",
              "      <td>0</td>\n",
              "      <td>0</td>\n",
              "      <td>0</td>\n",
              "      <td>0</td>\n",
              "    </tr>\n",
              "    <tr>\n",
              "      <th>2</th>\n",
              "      <td>3.936394e+07</td>\n",
              "      <td>en</td>\n",
              "      <td>64.299990</td>\n",
              "      <td>1</td>\n",
              "      <td>105.0</td>\n",
              "      <td>13092000</td>\n",
              "      <td>16.387512</td>\n",
              "      <td>10</td>\n",
              "      <td>4</td>\n",
              "      <td>10</td>\n",
              "      <td>...</td>\n",
              "      <td>0</td>\n",
              "      <td>0</td>\n",
              "      <td>0</td>\n",
              "      <td>0</td>\n",
              "      <td>0</td>\n",
              "      <td>0</td>\n",
              "      <td>0</td>\n",
              "      <td>0</td>\n",
              "      <td>0</td>\n",
              "      <td>0</td>\n",
              "    </tr>\n",
              "    <tr>\n",
              "      <th>8</th>\n",
              "      <td>3.498643e+07</td>\n",
              "      <td>en</td>\n",
              "      <td>6.902423</td>\n",
              "      <td>1</td>\n",
              "      <td>100.0</td>\n",
              "      <td>34327391</td>\n",
              "      <td>17.351454</td>\n",
              "      <td>16</td>\n",
              "      <td>4</td>\n",
              "      <td>2</td>\n",
              "      <td>...</td>\n",
              "      <td>0</td>\n",
              "      <td>1</td>\n",
              "      <td>0</td>\n",
              "      <td>0</td>\n",
              "      <td>0</td>\n",
              "      <td>0</td>\n",
              "      <td>0</td>\n",
              "      <td>0</td>\n",
              "      <td>0</td>\n",
              "      <td>0</td>\n",
              "    </tr>\n",
              "    <tr>\n",
              "      <th>9</th>\n",
              "      <td>4.015557e+07</td>\n",
              "      <td>en</td>\n",
              "      <td>4.672036</td>\n",
              "      <td>1</td>\n",
              "      <td>91.0</td>\n",
              "      <td>18750246</td>\n",
              "      <td>16.746717</td>\n",
              "      <td>16</td>\n",
              "      <td>2</td>\n",
              "      <td>4</td>\n",
              "      <td>...</td>\n",
              "      <td>0</td>\n",
              "      <td>0</td>\n",
              "      <td>1</td>\n",
              "      <td>0</td>\n",
              "      <td>0</td>\n",
              "      <td>0</td>\n",
              "      <td>0</td>\n",
              "      <td>0</td>\n",
              "      <td>0</td>\n",
              "      <td>0</td>\n",
              "    </tr>\n",
              "  </tbody>\n",
              "</table>\n",
              "<p>5 rows × 89 columns</p>\n",
              "</div>"
            ],
            "text/plain": [
              "         budget original_language  popularity  poster_path  runtime   revenue  \\\n",
              "0  4.818330e+07                en    6.575393            1     93.0  12314651   \n",
              "1  4.120444e+07                en    8.248895            1    113.0  95149435   \n",
              "2  3.936394e+07                en   64.299990            1    105.0  13092000   \n",
              "8  3.498643e+07                en    6.902423            1    100.0  34327391   \n",
              "9  4.015557e+07                en    4.672036            1     91.0  18750246   \n",
              "\n",
              "   logrevenue  release_day  release_weekday  release_month     ...      \\\n",
              "0   16.326300           20                4              2     ...       \n",
              "1   18.370959            6                4              8     ...       \n",
              "2   16.387512           10                4             10     ...       \n",
              "8   17.351454           16                4              2     ...       \n",
              "9   16.746717           16                2              4     ...       \n",
              "\n",
              "   [{'id': 27  [{'id': 28  [{'id': 35  [{'id': 36  [{'id': 37  [{'id': 53  \\\n",
              "0           0           0           1           0           0           0   \n",
              "1           0           0           1           0           0           0   \n",
              "2           0           0           0           0           0           0   \n",
              "8           0           1           0           0           0           0   \n",
              "9           0           0           1           0           0           0   \n",
              "\n",
              "   [{'id': 80  [{'id': 878  [{'id': 9648  [{'id': 99  \n",
              "0           0            0             0           0  \n",
              "1           0            0             0           0  \n",
              "2           0            0             0           0  \n",
              "8           0            0             0           0  \n",
              "9           0            0             0           0  \n",
              "\n",
              "[5 rows x 89 columns]"
            ]
          },
          "metadata": {
            "tags": []
          },
          "execution_count": 74
        }
      ]
    },
    {
      "metadata": {
        "id": "4hn1dFwcHu-I",
        "colab_type": "code",
        "colab": {
          "base_uri": "https://localhost:8080/",
          "height": 287
        },
        "outputId": "6273792a-0417-4761-f8ac-f9811e3bf466"
      },
      "cell_type": "code",
      "source": [
        "dropping_cols = ['id','imdb_id','original_title','overview','production_companies','status','title','Keywords','cast','crew','production_countries','release_date','spoken_languages']\n",
        "test.drop(dropping_cols,axis=1,inplace=True)\n",
        "print(test.shape)\n",
        "test.head()"
      ],
      "execution_count": 75,
      "outputs": [
        {
          "output_type": "stream",
          "text": [
            "(3814, 85)\n"
          ],
          "name": "stdout"
        },
        {
          "output_type": "execute_result",
          "data": {
            "text/html": [
              "<div>\n",
              "<style scoped>\n",
              "    .dataframe tbody tr th:only-of-type {\n",
              "        vertical-align: middle;\n",
              "    }\n",
              "\n",
              "    .dataframe tbody tr th {\n",
              "        vertical-align: top;\n",
              "    }\n",
              "\n",
              "    .dataframe thead th {\n",
              "        text-align: right;\n",
              "    }\n",
              "</style>\n",
              "<table border=\"1\" class=\"dataframe\">\n",
              "  <thead>\n",
              "    <tr style=\"text-align: right;\">\n",
              "      <th></th>\n",
              "      <th>budget</th>\n",
              "      <th>original_language</th>\n",
              "      <th>popularity</th>\n",
              "      <th>poster_path</th>\n",
              "      <th>runtime</th>\n",
              "      <th>release_day</th>\n",
              "      <th>release_weekday</th>\n",
              "      <th>release_month</th>\n",
              "      <th>release_year</th>\n",
              "      <th>'name': 'Action'}</th>\n",
              "      <th>...</th>\n",
              "      <th>[{'id': 27</th>\n",
              "      <th>[{'id': 28</th>\n",
              "      <th>[{'id': 35</th>\n",
              "      <th>[{'id': 36</th>\n",
              "      <th>[{'id': 37</th>\n",
              "      <th>[{'id': 53</th>\n",
              "      <th>[{'id': 80</th>\n",
              "      <th>[{'id': 878</th>\n",
              "      <th>[{'id': 9648</th>\n",
              "      <th>[{'id': 99</th>\n",
              "    </tr>\n",
              "  </thead>\n",
              "  <tbody>\n",
              "    <tr>\n",
              "      <th>1</th>\n",
              "      <td>2.479200e+06</td>\n",
              "      <td>en</td>\n",
              "      <td>3.559789</td>\n",
              "      <td>1</td>\n",
              "      <td>110.600000</td>\n",
              "      <td>19</td>\n",
              "      <td>6</td>\n",
              "      <td>5</td>\n",
              "      <td>1958</td>\n",
              "      <td>0</td>\n",
              "      <td>...</td>\n",
              "      <td>1</td>\n",
              "      <td>0</td>\n",
              "      <td>0</td>\n",
              "      <td>0</td>\n",
              "      <td>0</td>\n",
              "      <td>0</td>\n",
              "      <td>0</td>\n",
              "      <td>0</td>\n",
              "      <td>0</td>\n",
              "      <td>0</td>\n",
              "    </tr>\n",
              "    <tr>\n",
              "      <th>2</th>\n",
              "      <td>3.454290e+07</td>\n",
              "      <td>en</td>\n",
              "      <td>8.085194</td>\n",
              "      <td>1</td>\n",
              "      <td>109.988636</td>\n",
              "      <td>23</td>\n",
              "      <td>4</td>\n",
              "      <td>5</td>\n",
              "      <td>1997</td>\n",
              "      <td>0</td>\n",
              "      <td>...</td>\n",
              "      <td>0</td>\n",
              "      <td>0</td>\n",
              "      <td>1</td>\n",
              "      <td>0</td>\n",
              "      <td>0</td>\n",
              "      <td>0</td>\n",
              "      <td>0</td>\n",
              "      <td>0</td>\n",
              "      <td>0</td>\n",
              "      <td>0</td>\n",
              "    </tr>\n",
              "    <tr>\n",
              "      <th>3</th>\n",
              "      <td>4.378603e+07</td>\n",
              "      <td>fr</td>\n",
              "      <td>8.596012</td>\n",
              "      <td>1</td>\n",
              "      <td>104.636943</td>\n",
              "      <td>4</td>\n",
              "      <td>5</td>\n",
              "      <td>9</td>\n",
              "      <td>2010</td>\n",
              "      <td>0</td>\n",
              "      <td>...</td>\n",
              "      <td>0</td>\n",
              "      <td>0</td>\n",
              "      <td>0</td>\n",
              "      <td>0</td>\n",
              "      <td>0</td>\n",
              "      <td>0</td>\n",
              "      <td>0</td>\n",
              "      <td>0</td>\n",
              "      <td>0</td>\n",
              "      <td>0</td>\n",
              "    </tr>\n",
              "    <tr>\n",
              "      <th>5</th>\n",
              "      <td>3.040300e+07</td>\n",
              "      <td>en</td>\n",
              "      <td>8.679350</td>\n",
              "      <td>1</td>\n",
              "      <td>108.192308</td>\n",
              "      <td>7</td>\n",
              "      <td>2</td>\n",
              "      <td>2</td>\n",
              "      <td>1996</td>\n",
              "      <td>0</td>\n",
              "      <td>...</td>\n",
              "      <td>0</td>\n",
              "      <td>0</td>\n",
              "      <td>1</td>\n",
              "      <td>0</td>\n",
              "      <td>0</td>\n",
              "      <td>0</td>\n",
              "      <td>0</td>\n",
              "      <td>0</td>\n",
              "      <td>0</td>\n",
              "      <td>0</td>\n",
              "    </tr>\n",
              "    <tr>\n",
              "      <th>6</th>\n",
              "      <td>4.378603e+07</td>\n",
              "      <td>de</td>\n",
              "      <td>4.898882</td>\n",
              "      <td>1</td>\n",
              "      <td>104.636943</td>\n",
              "      <td>23</td>\n",
              "      <td>3</td>\n",
              "      <td>12</td>\n",
              "      <td>2010</td>\n",
              "      <td>0</td>\n",
              "      <td>...</td>\n",
              "      <td>0</td>\n",
              "      <td>0</td>\n",
              "      <td>0</td>\n",
              "      <td>0</td>\n",
              "      <td>0</td>\n",
              "      <td>0</td>\n",
              "      <td>0</td>\n",
              "      <td>0</td>\n",
              "      <td>0</td>\n",
              "      <td>0</td>\n",
              "    </tr>\n",
              "  </tbody>\n",
              "</table>\n",
              "<p>5 rows × 85 columns</p>\n",
              "</div>"
            ],
            "text/plain": [
              "         budget original_language  popularity  poster_path     runtime  \\\n",
              "1  2.479200e+06                en    3.559789            1  110.600000   \n",
              "2  3.454290e+07                en    8.085194            1  109.988636   \n",
              "3  4.378603e+07                fr    8.596012            1  104.636943   \n",
              "5  3.040300e+07                en    8.679350            1  108.192308   \n",
              "6  4.378603e+07                de    4.898882            1  104.636943   \n",
              "\n",
              "   release_day  release_weekday  release_month  release_year  \\\n",
              "1           19                6              5          1958   \n",
              "2           23                4              5          1997   \n",
              "3            4                5              9          2010   \n",
              "5            7                2              2          1996   \n",
              "6           23                3             12          2010   \n",
              "\n",
              "    'name': 'Action'}     ...      [{'id': 27  [{'id': 28  [{'id': 35  \\\n",
              "1                   0     ...               1           0           0   \n",
              "2                   0     ...               0           0           1   \n",
              "3                   0     ...               0           0           0   \n",
              "5                   0     ...               0           0           1   \n",
              "6                   0     ...               0           0           0   \n",
              "\n",
              "   [{'id': 36  [{'id': 37  [{'id': 53  [{'id': 80  [{'id': 878  [{'id': 9648  \\\n",
              "1           0           0           0           0            0             0   \n",
              "2           0           0           0           0            0             0   \n",
              "3           0           0           0           0            0             0   \n",
              "5           0           0           0           0            0             0   \n",
              "6           0           0           0           0            0             0   \n",
              "\n",
              "   [{'id': 99  \n",
              "1           0  \n",
              "2           0  \n",
              "3           0  \n",
              "5           0  \n",
              "6           0  \n",
              "\n",
              "[5 rows x 85 columns]"
            ]
          },
          "metadata": {
            "tags": []
          },
          "execution_count": 75
        }
      ]
    },
    {
      "metadata": {
        "id": "xwcr8ctUz9O7",
        "colab_type": "code",
        "outputId": "b1bb1949-01d7-48c6-bf8c-4e18fccad849",
        "colab": {
          "base_uri": "https://localhost:8080/",
          "height": 270
        }
      },
      "cell_type": "code",
      "source": [
        "just_dummies = pd.get_dummies(df['original_language'])\n",
        "\n",
        "df = pd.concat([df, just_dummies], axis=1)      \n",
        "df.drop(['original_language'], inplace=True, axis=1)\n",
        "print(df.shape)\n",
        "df.head()"
      ],
      "execution_count": 76,
      "outputs": [
        {
          "output_type": "stream",
          "text": [
            "(2606, 120)\n"
          ],
          "name": "stdout"
        },
        {
          "output_type": "execute_result",
          "data": {
            "text/html": [
              "<div>\n",
              "<style scoped>\n",
              "    .dataframe tbody tr th:only-of-type {\n",
              "        vertical-align: middle;\n",
              "    }\n",
              "\n",
              "    .dataframe tbody tr th {\n",
              "        vertical-align: top;\n",
              "    }\n",
              "\n",
              "    .dataframe thead th {\n",
              "        text-align: right;\n",
              "    }\n",
              "</style>\n",
              "<table border=\"1\" class=\"dataframe\">\n",
              "  <thead>\n",
              "    <tr style=\"text-align: right;\">\n",
              "      <th></th>\n",
              "      <th>budget</th>\n",
              "      <th>popularity</th>\n",
              "      <th>poster_path</th>\n",
              "      <th>runtime</th>\n",
              "      <th>revenue</th>\n",
              "      <th>logrevenue</th>\n",
              "      <th>release_day</th>\n",
              "      <th>release_weekday</th>\n",
              "      <th>release_month</th>\n",
              "      <th>release_year</th>\n",
              "      <th>...</th>\n",
              "      <th>pl</th>\n",
              "      <th>pt</th>\n",
              "      <th>ro</th>\n",
              "      <th>ru</th>\n",
              "      <th>sr</th>\n",
              "      <th>sv</th>\n",
              "      <th>ta</th>\n",
              "      <th>te</th>\n",
              "      <th>tr</th>\n",
              "      <th>zh</th>\n",
              "    </tr>\n",
              "  </thead>\n",
              "  <tbody>\n",
              "    <tr>\n",
              "      <th>0</th>\n",
              "      <td>4.818330e+07</td>\n",
              "      <td>6.575393</td>\n",
              "      <td>1</td>\n",
              "      <td>93.0</td>\n",
              "      <td>12314651</td>\n",
              "      <td>16.326300</td>\n",
              "      <td>20</td>\n",
              "      <td>4</td>\n",
              "      <td>2</td>\n",
              "      <td>2015</td>\n",
              "      <td>...</td>\n",
              "      <td>0</td>\n",
              "      <td>0</td>\n",
              "      <td>0</td>\n",
              "      <td>0</td>\n",
              "      <td>0</td>\n",
              "      <td>0</td>\n",
              "      <td>0</td>\n",
              "      <td>0</td>\n",
              "      <td>0</td>\n",
              "      <td>0</td>\n",
              "    </tr>\n",
              "    <tr>\n",
              "      <th>1</th>\n",
              "      <td>4.120444e+07</td>\n",
              "      <td>8.248895</td>\n",
              "      <td>1</td>\n",
              "      <td>113.0</td>\n",
              "      <td>95149435</td>\n",
              "      <td>18.370959</td>\n",
              "      <td>6</td>\n",
              "      <td>4</td>\n",
              "      <td>8</td>\n",
              "      <td>2004</td>\n",
              "      <td>...</td>\n",
              "      <td>0</td>\n",
              "      <td>0</td>\n",
              "      <td>0</td>\n",
              "      <td>0</td>\n",
              "      <td>0</td>\n",
              "      <td>0</td>\n",
              "      <td>0</td>\n",
              "      <td>0</td>\n",
              "      <td>0</td>\n",
              "      <td>0</td>\n",
              "    </tr>\n",
              "    <tr>\n",
              "      <th>2</th>\n",
              "      <td>3.936394e+07</td>\n",
              "      <td>64.299990</td>\n",
              "      <td>1</td>\n",
              "      <td>105.0</td>\n",
              "      <td>13092000</td>\n",
              "      <td>16.387512</td>\n",
              "      <td>10</td>\n",
              "      <td>4</td>\n",
              "      <td>10</td>\n",
              "      <td>2014</td>\n",
              "      <td>...</td>\n",
              "      <td>0</td>\n",
              "      <td>0</td>\n",
              "      <td>0</td>\n",
              "      <td>0</td>\n",
              "      <td>0</td>\n",
              "      <td>0</td>\n",
              "      <td>0</td>\n",
              "      <td>0</td>\n",
              "      <td>0</td>\n",
              "      <td>0</td>\n",
              "    </tr>\n",
              "    <tr>\n",
              "      <th>8</th>\n",
              "      <td>3.498643e+07</td>\n",
              "      <td>6.902423</td>\n",
              "      <td>1</td>\n",
              "      <td>100.0</td>\n",
              "      <td>34327391</td>\n",
              "      <td>17.351454</td>\n",
              "      <td>16</td>\n",
              "      <td>4</td>\n",
              "      <td>2</td>\n",
              "      <td>1996</td>\n",
              "      <td>...</td>\n",
              "      <td>0</td>\n",
              "      <td>0</td>\n",
              "      <td>0</td>\n",
              "      <td>0</td>\n",
              "      <td>0</td>\n",
              "      <td>0</td>\n",
              "      <td>0</td>\n",
              "      <td>0</td>\n",
              "      <td>0</td>\n",
              "      <td>0</td>\n",
              "    </tr>\n",
              "    <tr>\n",
              "      <th>9</th>\n",
              "      <td>4.015557e+07</td>\n",
              "      <td>4.672036</td>\n",
              "      <td>1</td>\n",
              "      <td>91.0</td>\n",
              "      <td>18750246</td>\n",
              "      <td>16.746717</td>\n",
              "      <td>16</td>\n",
              "      <td>2</td>\n",
              "      <td>4</td>\n",
              "      <td>2003</td>\n",
              "      <td>...</td>\n",
              "      <td>0</td>\n",
              "      <td>0</td>\n",
              "      <td>0</td>\n",
              "      <td>0</td>\n",
              "      <td>0</td>\n",
              "      <td>0</td>\n",
              "      <td>0</td>\n",
              "      <td>0</td>\n",
              "      <td>0</td>\n",
              "      <td>0</td>\n",
              "    </tr>\n",
              "  </tbody>\n",
              "</table>\n",
              "<p>5 rows × 120 columns</p>\n",
              "</div>"
            ],
            "text/plain": [
              "         budget  popularity  poster_path  runtime   revenue  logrevenue  \\\n",
              "0  4.818330e+07    6.575393            1     93.0  12314651   16.326300   \n",
              "1  4.120444e+07    8.248895            1    113.0  95149435   18.370959   \n",
              "2  3.936394e+07   64.299990            1    105.0  13092000   16.387512   \n",
              "8  3.498643e+07    6.902423            1    100.0  34327391   17.351454   \n",
              "9  4.015557e+07    4.672036            1     91.0  18750246   16.746717   \n",
              "\n",
              "   release_day  release_weekday  release_month  release_year ...  pl  pt  ro  \\\n",
              "0           20                4              2          2015 ...   0   0   0   \n",
              "1            6                4              8          2004 ...   0   0   0   \n",
              "2           10                4             10          2014 ...   0   0   0   \n",
              "8           16                4              2          1996 ...   0   0   0   \n",
              "9           16                2              4          2003 ...   0   0   0   \n",
              "\n",
              "   ru  sr  sv  ta  te  tr  zh  \n",
              "0   0   0   0   0   0   0   0  \n",
              "1   0   0   0   0   0   0   0  \n",
              "2   0   0   0   0   0   0   0  \n",
              "8   0   0   0   0   0   0   0  \n",
              "9   0   0   0   0   0   0   0  \n",
              "\n",
              "[5 rows x 120 columns]"
            ]
          },
          "metadata": {
            "tags": []
          },
          "execution_count": 76
        }
      ]
    },
    {
      "metadata": {
        "id": "AabUoR0tIABQ",
        "colab_type": "code",
        "colab": {
          "base_uri": "https://localhost:8080/",
          "height": 287
        },
        "outputId": "4f275bbe-6157-4fc2-ac42-dfd611029f2f"
      },
      "cell_type": "code",
      "source": [
        "just_dummies = pd.get_dummies(test['original_language'])\n",
        "\n",
        "test = pd.concat([test, just_dummies], axis=1)      \n",
        "test.drop(['original_language'], inplace=True, axis=1)\n",
        "print(test.shape)\n",
        "test.head()"
      ],
      "execution_count": 77,
      "outputs": [
        {
          "output_type": "stream",
          "text": [
            "(3814, 121)\n"
          ],
          "name": "stdout"
        },
        {
          "output_type": "execute_result",
          "data": {
            "text/html": [
              "<div>\n",
              "<style scoped>\n",
              "    .dataframe tbody tr th:only-of-type {\n",
              "        vertical-align: middle;\n",
              "    }\n",
              "\n",
              "    .dataframe tbody tr th {\n",
              "        vertical-align: top;\n",
              "    }\n",
              "\n",
              "    .dataframe thead th {\n",
              "        text-align: right;\n",
              "    }\n",
              "</style>\n",
              "<table border=\"1\" class=\"dataframe\">\n",
              "  <thead>\n",
              "    <tr style=\"text-align: right;\">\n",
              "      <th></th>\n",
              "      <th>budget</th>\n",
              "      <th>popularity</th>\n",
              "      <th>poster_path</th>\n",
              "      <th>runtime</th>\n",
              "      <th>release_day</th>\n",
              "      <th>release_weekday</th>\n",
              "      <th>release_month</th>\n",
              "      <th>release_year</th>\n",
              "      <th>'name': 'Action'}</th>\n",
              "      <th>'name': 'Action'}]</th>\n",
              "      <th>...</th>\n",
              "      <th>ro</th>\n",
              "      <th>ru</th>\n",
              "      <th>sr</th>\n",
              "      <th>sv</th>\n",
              "      <th>ta</th>\n",
              "      <th>te</th>\n",
              "      <th>th</th>\n",
              "      <th>tr</th>\n",
              "      <th>xx</th>\n",
              "      <th>zh</th>\n",
              "    </tr>\n",
              "  </thead>\n",
              "  <tbody>\n",
              "    <tr>\n",
              "      <th>1</th>\n",
              "      <td>2.479200e+06</td>\n",
              "      <td>3.559789</td>\n",
              "      <td>1</td>\n",
              "      <td>110.600000</td>\n",
              "      <td>19</td>\n",
              "      <td>6</td>\n",
              "      <td>5</td>\n",
              "      <td>1958</td>\n",
              "      <td>0</td>\n",
              "      <td>0</td>\n",
              "      <td>...</td>\n",
              "      <td>0</td>\n",
              "      <td>0</td>\n",
              "      <td>0</td>\n",
              "      <td>0</td>\n",
              "      <td>0</td>\n",
              "      <td>0</td>\n",
              "      <td>0</td>\n",
              "      <td>0</td>\n",
              "      <td>0</td>\n",
              "      <td>0</td>\n",
              "    </tr>\n",
              "    <tr>\n",
              "      <th>2</th>\n",
              "      <td>3.454290e+07</td>\n",
              "      <td>8.085194</td>\n",
              "      <td>1</td>\n",
              "      <td>109.988636</td>\n",
              "      <td>23</td>\n",
              "      <td>4</td>\n",
              "      <td>5</td>\n",
              "      <td>1997</td>\n",
              "      <td>0</td>\n",
              "      <td>0</td>\n",
              "      <td>...</td>\n",
              "      <td>0</td>\n",
              "      <td>0</td>\n",
              "      <td>0</td>\n",
              "      <td>0</td>\n",
              "      <td>0</td>\n",
              "      <td>0</td>\n",
              "      <td>0</td>\n",
              "      <td>0</td>\n",
              "      <td>0</td>\n",
              "      <td>0</td>\n",
              "    </tr>\n",
              "    <tr>\n",
              "      <th>3</th>\n",
              "      <td>4.378603e+07</td>\n",
              "      <td>8.596012</td>\n",
              "      <td>1</td>\n",
              "      <td>104.636943</td>\n",
              "      <td>4</td>\n",
              "      <td>5</td>\n",
              "      <td>9</td>\n",
              "      <td>2010</td>\n",
              "      <td>0</td>\n",
              "      <td>0</td>\n",
              "      <td>...</td>\n",
              "      <td>0</td>\n",
              "      <td>0</td>\n",
              "      <td>0</td>\n",
              "      <td>0</td>\n",
              "      <td>0</td>\n",
              "      <td>0</td>\n",
              "      <td>0</td>\n",
              "      <td>0</td>\n",
              "      <td>0</td>\n",
              "      <td>0</td>\n",
              "    </tr>\n",
              "    <tr>\n",
              "      <th>5</th>\n",
              "      <td>3.040300e+07</td>\n",
              "      <td>8.679350</td>\n",
              "      <td>1</td>\n",
              "      <td>108.192308</td>\n",
              "      <td>7</td>\n",
              "      <td>2</td>\n",
              "      <td>2</td>\n",
              "      <td>1996</td>\n",
              "      <td>0</td>\n",
              "      <td>0</td>\n",
              "      <td>...</td>\n",
              "      <td>0</td>\n",
              "      <td>0</td>\n",
              "      <td>0</td>\n",
              "      <td>0</td>\n",
              "      <td>0</td>\n",
              "      <td>0</td>\n",
              "      <td>0</td>\n",
              "      <td>0</td>\n",
              "      <td>0</td>\n",
              "      <td>0</td>\n",
              "    </tr>\n",
              "    <tr>\n",
              "      <th>6</th>\n",
              "      <td>4.378603e+07</td>\n",
              "      <td>4.898882</td>\n",
              "      <td>1</td>\n",
              "      <td>104.636943</td>\n",
              "      <td>23</td>\n",
              "      <td>3</td>\n",
              "      <td>12</td>\n",
              "      <td>2010</td>\n",
              "      <td>0</td>\n",
              "      <td>0</td>\n",
              "      <td>...</td>\n",
              "      <td>0</td>\n",
              "      <td>0</td>\n",
              "      <td>0</td>\n",
              "      <td>0</td>\n",
              "      <td>0</td>\n",
              "      <td>0</td>\n",
              "      <td>0</td>\n",
              "      <td>0</td>\n",
              "      <td>0</td>\n",
              "      <td>0</td>\n",
              "    </tr>\n",
              "  </tbody>\n",
              "</table>\n",
              "<p>5 rows × 121 columns</p>\n",
              "</div>"
            ],
            "text/plain": [
              "         budget  popularity  poster_path     runtime  release_day  \\\n",
              "1  2.479200e+06    3.559789            1  110.600000           19   \n",
              "2  3.454290e+07    8.085194            1  109.988636           23   \n",
              "3  4.378603e+07    8.596012            1  104.636943            4   \n",
              "5  3.040300e+07    8.679350            1  108.192308            7   \n",
              "6  4.378603e+07    4.898882            1  104.636943           23   \n",
              "\n",
              "   release_weekday  release_month  release_year   'name': 'Action'}  \\\n",
              "1                6              5          1958                   0   \n",
              "2                4              5          1997                   0   \n",
              "3                5              9          2010                   0   \n",
              "5                2              2          1996                   0   \n",
              "6                3             12          2010                   0   \n",
              "\n",
              "    'name': 'Action'}] ...  ro  ru  sr  sv  ta  te  th  tr  xx  zh  \n",
              "1                    0 ...   0   0   0   0   0   0   0   0   0   0  \n",
              "2                    0 ...   0   0   0   0   0   0   0   0   0   0  \n",
              "3                    0 ...   0   0   0   0   0   0   0   0   0   0  \n",
              "5                    0 ...   0   0   0   0   0   0   0   0   0   0  \n",
              "6                    0 ...   0   0   0   0   0   0   0   0   0   0  \n",
              "\n",
              "[5 rows x 121 columns]"
            ]
          },
          "metadata": {
            "tags": []
          },
          "execution_count": 77
        }
      ]
    },
    {
      "metadata": {
        "id": "SdINamQryqdh",
        "colab_type": "code",
        "colab": {}
      },
      "cell_type": "code",
      "source": [
        "df.reset_index(inplace=True)\n",
        "test.reset_index(inplace=True)"
      ],
      "execution_count": 0,
      "outputs": []
    },
    {
      "metadata": {
        "id": "wv5r6sqIy3kf",
        "colab_type": "code",
        "outputId": "2c0725ba-34ea-46df-c8ad-4f6bd5eeba15",
        "colab": {
          "base_uri": "https://localhost:8080/",
          "height": 270
        }
      },
      "cell_type": "code",
      "source": [
        "print(df.shape)\n",
        "df.head(5)"
      ],
      "execution_count": 78,
      "outputs": [
        {
          "output_type": "stream",
          "text": [
            "(2606, 120)\n"
          ],
          "name": "stdout"
        },
        {
          "output_type": "execute_result",
          "data": {
            "text/html": [
              "<div>\n",
              "<style scoped>\n",
              "    .dataframe tbody tr th:only-of-type {\n",
              "        vertical-align: middle;\n",
              "    }\n",
              "\n",
              "    .dataframe tbody tr th {\n",
              "        vertical-align: top;\n",
              "    }\n",
              "\n",
              "    .dataframe thead th {\n",
              "        text-align: right;\n",
              "    }\n",
              "</style>\n",
              "<table border=\"1\" class=\"dataframe\">\n",
              "  <thead>\n",
              "    <tr style=\"text-align: right;\">\n",
              "      <th></th>\n",
              "      <th>budget</th>\n",
              "      <th>popularity</th>\n",
              "      <th>poster_path</th>\n",
              "      <th>runtime</th>\n",
              "      <th>revenue</th>\n",
              "      <th>logrevenue</th>\n",
              "      <th>release_day</th>\n",
              "      <th>release_weekday</th>\n",
              "      <th>release_month</th>\n",
              "      <th>release_year</th>\n",
              "      <th>...</th>\n",
              "      <th>pl</th>\n",
              "      <th>pt</th>\n",
              "      <th>ro</th>\n",
              "      <th>ru</th>\n",
              "      <th>sr</th>\n",
              "      <th>sv</th>\n",
              "      <th>ta</th>\n",
              "      <th>te</th>\n",
              "      <th>tr</th>\n",
              "      <th>zh</th>\n",
              "    </tr>\n",
              "  </thead>\n",
              "  <tbody>\n",
              "    <tr>\n",
              "      <th>0</th>\n",
              "      <td>4.818330e+07</td>\n",
              "      <td>6.575393</td>\n",
              "      <td>1</td>\n",
              "      <td>93.0</td>\n",
              "      <td>12314651</td>\n",
              "      <td>16.326300</td>\n",
              "      <td>20</td>\n",
              "      <td>4</td>\n",
              "      <td>2</td>\n",
              "      <td>2015</td>\n",
              "      <td>...</td>\n",
              "      <td>0</td>\n",
              "      <td>0</td>\n",
              "      <td>0</td>\n",
              "      <td>0</td>\n",
              "      <td>0</td>\n",
              "      <td>0</td>\n",
              "      <td>0</td>\n",
              "      <td>0</td>\n",
              "      <td>0</td>\n",
              "      <td>0</td>\n",
              "    </tr>\n",
              "    <tr>\n",
              "      <th>1</th>\n",
              "      <td>4.120444e+07</td>\n",
              "      <td>8.248895</td>\n",
              "      <td>1</td>\n",
              "      <td>113.0</td>\n",
              "      <td>95149435</td>\n",
              "      <td>18.370959</td>\n",
              "      <td>6</td>\n",
              "      <td>4</td>\n",
              "      <td>8</td>\n",
              "      <td>2004</td>\n",
              "      <td>...</td>\n",
              "      <td>0</td>\n",
              "      <td>0</td>\n",
              "      <td>0</td>\n",
              "      <td>0</td>\n",
              "      <td>0</td>\n",
              "      <td>0</td>\n",
              "      <td>0</td>\n",
              "      <td>0</td>\n",
              "      <td>0</td>\n",
              "      <td>0</td>\n",
              "    </tr>\n",
              "    <tr>\n",
              "      <th>2</th>\n",
              "      <td>3.936394e+07</td>\n",
              "      <td>64.299990</td>\n",
              "      <td>1</td>\n",
              "      <td>105.0</td>\n",
              "      <td>13092000</td>\n",
              "      <td>16.387512</td>\n",
              "      <td>10</td>\n",
              "      <td>4</td>\n",
              "      <td>10</td>\n",
              "      <td>2014</td>\n",
              "      <td>...</td>\n",
              "      <td>0</td>\n",
              "      <td>0</td>\n",
              "      <td>0</td>\n",
              "      <td>0</td>\n",
              "      <td>0</td>\n",
              "      <td>0</td>\n",
              "      <td>0</td>\n",
              "      <td>0</td>\n",
              "      <td>0</td>\n",
              "      <td>0</td>\n",
              "    </tr>\n",
              "    <tr>\n",
              "      <th>8</th>\n",
              "      <td>3.498643e+07</td>\n",
              "      <td>6.902423</td>\n",
              "      <td>1</td>\n",
              "      <td>100.0</td>\n",
              "      <td>34327391</td>\n",
              "      <td>17.351454</td>\n",
              "      <td>16</td>\n",
              "      <td>4</td>\n",
              "      <td>2</td>\n",
              "      <td>1996</td>\n",
              "      <td>...</td>\n",
              "      <td>0</td>\n",
              "      <td>0</td>\n",
              "      <td>0</td>\n",
              "      <td>0</td>\n",
              "      <td>0</td>\n",
              "      <td>0</td>\n",
              "      <td>0</td>\n",
              "      <td>0</td>\n",
              "      <td>0</td>\n",
              "      <td>0</td>\n",
              "    </tr>\n",
              "    <tr>\n",
              "      <th>9</th>\n",
              "      <td>4.015557e+07</td>\n",
              "      <td>4.672036</td>\n",
              "      <td>1</td>\n",
              "      <td>91.0</td>\n",
              "      <td>18750246</td>\n",
              "      <td>16.746717</td>\n",
              "      <td>16</td>\n",
              "      <td>2</td>\n",
              "      <td>4</td>\n",
              "      <td>2003</td>\n",
              "      <td>...</td>\n",
              "      <td>0</td>\n",
              "      <td>0</td>\n",
              "      <td>0</td>\n",
              "      <td>0</td>\n",
              "      <td>0</td>\n",
              "      <td>0</td>\n",
              "      <td>0</td>\n",
              "      <td>0</td>\n",
              "      <td>0</td>\n",
              "      <td>0</td>\n",
              "    </tr>\n",
              "  </tbody>\n",
              "</table>\n",
              "<p>5 rows × 120 columns</p>\n",
              "</div>"
            ],
            "text/plain": [
              "         budget  popularity  poster_path  runtime   revenue  logrevenue  \\\n",
              "0  4.818330e+07    6.575393            1     93.0  12314651   16.326300   \n",
              "1  4.120444e+07    8.248895            1    113.0  95149435   18.370959   \n",
              "2  3.936394e+07   64.299990            1    105.0  13092000   16.387512   \n",
              "8  3.498643e+07    6.902423            1    100.0  34327391   17.351454   \n",
              "9  4.015557e+07    4.672036            1     91.0  18750246   16.746717   \n",
              "\n",
              "   release_day  release_weekday  release_month  release_year ...  pl  pt  ro  \\\n",
              "0           20                4              2          2015 ...   0   0   0   \n",
              "1            6                4              8          2004 ...   0   0   0   \n",
              "2           10                4             10          2014 ...   0   0   0   \n",
              "8           16                4              2          1996 ...   0   0   0   \n",
              "9           16                2              4          2003 ...   0   0   0   \n",
              "\n",
              "   ru  sr  sv  ta  te  tr  zh  \n",
              "0   0   0   0   0   0   0   0  \n",
              "1   0   0   0   0   0   0   0  \n",
              "2   0   0   0   0   0   0   0  \n",
              "8   0   0   0   0   0   0   0  \n",
              "9   0   0   0   0   0   0   0  \n",
              "\n",
              "[5 rows x 120 columns]"
            ]
          },
          "metadata": {
            "tags": []
          },
          "execution_count": 78
        }
      ]
    },
    {
      "metadata": {
        "id": "CyUAgx6DIVcl",
        "colab_type": "code",
        "colab": {
          "base_uri": "https://localhost:8080/",
          "height": 287
        },
        "outputId": "cfe76b99-e5d3-4ed9-b99f-214908c8b3cb"
      },
      "cell_type": "code",
      "source": [
        "print(test.shape)\n",
        "test.head(5)"
      ],
      "execution_count": 79,
      "outputs": [
        {
          "output_type": "stream",
          "text": [
            "(3814, 121)\n"
          ],
          "name": "stdout"
        },
        {
          "output_type": "execute_result",
          "data": {
            "text/html": [
              "<div>\n",
              "<style scoped>\n",
              "    .dataframe tbody tr th:only-of-type {\n",
              "        vertical-align: middle;\n",
              "    }\n",
              "\n",
              "    .dataframe tbody tr th {\n",
              "        vertical-align: top;\n",
              "    }\n",
              "\n",
              "    .dataframe thead th {\n",
              "        text-align: right;\n",
              "    }\n",
              "</style>\n",
              "<table border=\"1\" class=\"dataframe\">\n",
              "  <thead>\n",
              "    <tr style=\"text-align: right;\">\n",
              "      <th></th>\n",
              "      <th>budget</th>\n",
              "      <th>popularity</th>\n",
              "      <th>poster_path</th>\n",
              "      <th>runtime</th>\n",
              "      <th>release_day</th>\n",
              "      <th>release_weekday</th>\n",
              "      <th>release_month</th>\n",
              "      <th>release_year</th>\n",
              "      <th>'name': 'Action'}</th>\n",
              "      <th>'name': 'Action'}]</th>\n",
              "      <th>...</th>\n",
              "      <th>ro</th>\n",
              "      <th>ru</th>\n",
              "      <th>sr</th>\n",
              "      <th>sv</th>\n",
              "      <th>ta</th>\n",
              "      <th>te</th>\n",
              "      <th>th</th>\n",
              "      <th>tr</th>\n",
              "      <th>xx</th>\n",
              "      <th>zh</th>\n",
              "    </tr>\n",
              "  </thead>\n",
              "  <tbody>\n",
              "    <tr>\n",
              "      <th>1</th>\n",
              "      <td>2.479200e+06</td>\n",
              "      <td>3.559789</td>\n",
              "      <td>1</td>\n",
              "      <td>110.600000</td>\n",
              "      <td>19</td>\n",
              "      <td>6</td>\n",
              "      <td>5</td>\n",
              "      <td>1958</td>\n",
              "      <td>0</td>\n",
              "      <td>0</td>\n",
              "      <td>...</td>\n",
              "      <td>0</td>\n",
              "      <td>0</td>\n",
              "      <td>0</td>\n",
              "      <td>0</td>\n",
              "      <td>0</td>\n",
              "      <td>0</td>\n",
              "      <td>0</td>\n",
              "      <td>0</td>\n",
              "      <td>0</td>\n",
              "      <td>0</td>\n",
              "    </tr>\n",
              "    <tr>\n",
              "      <th>2</th>\n",
              "      <td>3.454290e+07</td>\n",
              "      <td>8.085194</td>\n",
              "      <td>1</td>\n",
              "      <td>109.988636</td>\n",
              "      <td>23</td>\n",
              "      <td>4</td>\n",
              "      <td>5</td>\n",
              "      <td>1997</td>\n",
              "      <td>0</td>\n",
              "      <td>0</td>\n",
              "      <td>...</td>\n",
              "      <td>0</td>\n",
              "      <td>0</td>\n",
              "      <td>0</td>\n",
              "      <td>0</td>\n",
              "      <td>0</td>\n",
              "      <td>0</td>\n",
              "      <td>0</td>\n",
              "      <td>0</td>\n",
              "      <td>0</td>\n",
              "      <td>0</td>\n",
              "    </tr>\n",
              "    <tr>\n",
              "      <th>3</th>\n",
              "      <td>4.378603e+07</td>\n",
              "      <td>8.596012</td>\n",
              "      <td>1</td>\n",
              "      <td>104.636943</td>\n",
              "      <td>4</td>\n",
              "      <td>5</td>\n",
              "      <td>9</td>\n",
              "      <td>2010</td>\n",
              "      <td>0</td>\n",
              "      <td>0</td>\n",
              "      <td>...</td>\n",
              "      <td>0</td>\n",
              "      <td>0</td>\n",
              "      <td>0</td>\n",
              "      <td>0</td>\n",
              "      <td>0</td>\n",
              "      <td>0</td>\n",
              "      <td>0</td>\n",
              "      <td>0</td>\n",
              "      <td>0</td>\n",
              "      <td>0</td>\n",
              "    </tr>\n",
              "    <tr>\n",
              "      <th>5</th>\n",
              "      <td>3.040300e+07</td>\n",
              "      <td>8.679350</td>\n",
              "      <td>1</td>\n",
              "      <td>108.192308</td>\n",
              "      <td>7</td>\n",
              "      <td>2</td>\n",
              "      <td>2</td>\n",
              "      <td>1996</td>\n",
              "      <td>0</td>\n",
              "      <td>0</td>\n",
              "      <td>...</td>\n",
              "      <td>0</td>\n",
              "      <td>0</td>\n",
              "      <td>0</td>\n",
              "      <td>0</td>\n",
              "      <td>0</td>\n",
              "      <td>0</td>\n",
              "      <td>0</td>\n",
              "      <td>0</td>\n",
              "      <td>0</td>\n",
              "      <td>0</td>\n",
              "    </tr>\n",
              "    <tr>\n",
              "      <th>6</th>\n",
              "      <td>4.378603e+07</td>\n",
              "      <td>4.898882</td>\n",
              "      <td>1</td>\n",
              "      <td>104.636943</td>\n",
              "      <td>23</td>\n",
              "      <td>3</td>\n",
              "      <td>12</td>\n",
              "      <td>2010</td>\n",
              "      <td>0</td>\n",
              "      <td>0</td>\n",
              "      <td>...</td>\n",
              "      <td>0</td>\n",
              "      <td>0</td>\n",
              "      <td>0</td>\n",
              "      <td>0</td>\n",
              "      <td>0</td>\n",
              "      <td>0</td>\n",
              "      <td>0</td>\n",
              "      <td>0</td>\n",
              "      <td>0</td>\n",
              "      <td>0</td>\n",
              "    </tr>\n",
              "  </tbody>\n",
              "</table>\n",
              "<p>5 rows × 121 columns</p>\n",
              "</div>"
            ],
            "text/plain": [
              "         budget  popularity  poster_path     runtime  release_day  \\\n",
              "1  2.479200e+06    3.559789            1  110.600000           19   \n",
              "2  3.454290e+07    8.085194            1  109.988636           23   \n",
              "3  4.378603e+07    8.596012            1  104.636943            4   \n",
              "5  3.040300e+07    8.679350            1  108.192308            7   \n",
              "6  4.378603e+07    4.898882            1  104.636943           23   \n",
              "\n",
              "   release_weekday  release_month  release_year   'name': 'Action'}  \\\n",
              "1                6              5          1958                   0   \n",
              "2                4              5          1997                   0   \n",
              "3                5              9          2010                   0   \n",
              "5                2              2          1996                   0   \n",
              "6                3             12          2010                   0   \n",
              "\n",
              "    'name': 'Action'}] ...  ro  ru  sr  sv  ta  te  th  tr  xx  zh  \n",
              "1                    0 ...   0   0   0   0   0   0   0   0   0   0  \n",
              "2                    0 ...   0   0   0   0   0   0   0   0   0   0  \n",
              "3                    0 ...   0   0   0   0   0   0   0   0   0   0  \n",
              "5                    0 ...   0   0   0   0   0   0   0   0   0   0  \n",
              "6                    0 ...   0   0   0   0   0   0   0   0   0   0  \n",
              "\n",
              "[5 rows x 121 columns]"
            ]
          },
          "metadata": {
            "tags": []
          },
          "execution_count": 79
        }
      ]
    },
    {
      "metadata": {
        "id": "3DEoFTjO1dIF",
        "colab_type": "text"
      },
      "cell_type": "markdown",
      "source": [
        "## Building model for training and predictions "
      ]
    },
    {
      "metadata": {
        "id": "y5P0XFtQA6QA",
        "colab_type": "code",
        "colab": {}
      },
      "cell_type": "code",
      "source": [
        "from sklearn.model_selection import train_test_split\n",
        "from sklearn.metrics import classification_report"
      ],
      "execution_count": 0,
      "outputs": []
    },
    {
      "metadata": {
        "id": "7rjGKt5c6tj_",
        "colab_type": "code",
        "colab": {
          "base_uri": "https://localhost:8080/",
          "height": 85
        },
        "outputId": "6335e575-d09f-4e48-cfb9-7ff4c65ae09b"
      },
      "cell_type": "code",
      "source": [
        "X = df.drop(['revenue'],axis=1)\n",
        "y = df['revenue']\n",
        "\n",
        "X_train,X_test, y_train, y_test = train_test_split(X,y,test_size=0.20,random_state=0)\n",
        "print(\"Shape of X_train is : \",X_train.shape[0])\n",
        "print(\"Shape of y_train is : \",y_train.shape[0])\n",
        "print(\"Shape of X_test is : \",X_test.shape[0])\n",
        "print(\"Shape of y_test is : \",y_test.shape[0])"
      ],
      "execution_count": 85,
      "outputs": [
        {
          "output_type": "stream",
          "text": [
            "Shape of X_train is :  2084\n",
            "Shape of y_train is :  2084\n",
            "Shape of X_test is :  522\n",
            "Shape of y_test is :  522\n"
          ],
          "name": "stdout"
        }
      ]
    },
    {
      "metadata": {
        "id": "nGnUGHQrCEsB",
        "colab_type": "code",
        "colab": {
          "base_uri": "https://localhost:8080/",
          "height": 270
        },
        "outputId": "d75f8a43-5c99-408c-ee7c-703a6a490820"
      },
      "cell_type": "code",
      "source": [
        "X_train.head()"
      ],
      "execution_count": 86,
      "outputs": [
        {
          "output_type": "execute_result",
          "data": {
            "text/html": [
              "<div>\n",
              "<style scoped>\n",
              "    .dataframe tbody tr th:only-of-type {\n",
              "        vertical-align: middle;\n",
              "    }\n",
              "\n",
              "    .dataframe tbody tr th {\n",
              "        vertical-align: top;\n",
              "    }\n",
              "\n",
              "    .dataframe thead th {\n",
              "        text-align: right;\n",
              "    }\n",
              "</style>\n",
              "<table border=\"1\" class=\"dataframe\">\n",
              "  <thead>\n",
              "    <tr style=\"text-align: right;\">\n",
              "      <th></th>\n",
              "      <th>budget</th>\n",
              "      <th>popularity</th>\n",
              "      <th>poster_path</th>\n",
              "      <th>runtime</th>\n",
              "      <th>logrevenue</th>\n",
              "      <th>release_day</th>\n",
              "      <th>release_weekday</th>\n",
              "      <th>release_month</th>\n",
              "      <th>release_year</th>\n",
              "      <th>'name': 'Action'}</th>\n",
              "      <th>...</th>\n",
              "      <th>pl</th>\n",
              "      <th>pt</th>\n",
              "      <th>ro</th>\n",
              "      <th>ru</th>\n",
              "      <th>sr</th>\n",
              "      <th>sv</th>\n",
              "      <th>ta</th>\n",
              "      <th>te</th>\n",
              "      <th>tr</th>\n",
              "      <th>zh</th>\n",
              "    </tr>\n",
              "  </thead>\n",
              "  <tbody>\n",
              "    <tr>\n",
              "      <th>2710</th>\n",
              "      <td>3.782991e+07</td>\n",
              "      <td>1.697118</td>\n",
              "      <td>1</td>\n",
              "      <td>77.0</td>\n",
              "      <td>14.946913</td>\n",
              "      <td>16</td>\n",
              "      <td>0</td>\n",
              "      <td>5</td>\n",
              "      <td>2011</td>\n",
              "      <td>0</td>\n",
              "      <td>...</td>\n",
              "      <td>0</td>\n",
              "      <td>0</td>\n",
              "      <td>0</td>\n",
              "      <td>0</td>\n",
              "      <td>0</td>\n",
              "      <td>0</td>\n",
              "      <td>0</td>\n",
              "      <td>0</td>\n",
              "      <td>0</td>\n",
              "      <td>0</td>\n",
              "    </tr>\n",
              "    <tr>\n",
              "      <th>2520</th>\n",
              "      <td>7.777857e+06</td>\n",
              "      <td>5.810716</td>\n",
              "      <td>1</td>\n",
              "      <td>134.0</td>\n",
              "      <td>18.322124</td>\n",
              "      <td>8</td>\n",
              "      <td>2</td>\n",
              "      <td>9</td>\n",
              "      <td>1976</td>\n",
              "      <td>0</td>\n",
              "      <td>...</td>\n",
              "      <td>0</td>\n",
              "      <td>0</td>\n",
              "      <td>0</td>\n",
              "      <td>0</td>\n",
              "      <td>0</td>\n",
              "      <td>0</td>\n",
              "      <td>0</td>\n",
              "      <td>0</td>\n",
              "      <td>0</td>\n",
              "      <td>0</td>\n",
              "    </tr>\n",
              "    <tr>\n",
              "      <th>1573</th>\n",
              "      <td>3.722982e+07</td>\n",
              "      <td>2.333661</td>\n",
              "      <td>1</td>\n",
              "      <td>84.0</td>\n",
              "      <td>13.788680</td>\n",
              "      <td>7</td>\n",
              "      <td>2</td>\n",
              "      <td>6</td>\n",
              "      <td>2006</td>\n",
              "      <td>0</td>\n",
              "      <td>...</td>\n",
              "      <td>0</td>\n",
              "      <td>0</td>\n",
              "      <td>0</td>\n",
              "      <td>0</td>\n",
              "      <td>0</td>\n",
              "      <td>0</td>\n",
              "      <td>0</td>\n",
              "      <td>0</td>\n",
              "      <td>0</td>\n",
              "      <td>0</td>\n",
              "    </tr>\n",
              "    <tr>\n",
              "      <th>2152</th>\n",
              "      <td>3.782405e+07</td>\n",
              "      <td>4.468247</td>\n",
              "      <td>1</td>\n",
              "      <td>84.0</td>\n",
              "      <td>16.828206</td>\n",
              "      <td>23</td>\n",
              "      <td>4</td>\n",
              "      <td>2</td>\n",
              "      <td>2007</td>\n",
              "      <td>1</td>\n",
              "      <td>...</td>\n",
              "      <td>0</td>\n",
              "      <td>0</td>\n",
              "      <td>0</td>\n",
              "      <td>0</td>\n",
              "      <td>0</td>\n",
              "      <td>0</td>\n",
              "      <td>0</td>\n",
              "      <td>0</td>\n",
              "      <td>0</td>\n",
              "      <td>0</td>\n",
              "    </tr>\n",
              "    <tr>\n",
              "      <th>838</th>\n",
              "      <td>3.722982e+07</td>\n",
              "      <td>7.464981</td>\n",
              "      <td>1</td>\n",
              "      <td>126.0</td>\n",
              "      <td>16.637113</td>\n",
              "      <td>31</td>\n",
              "      <td>3</td>\n",
              "      <td>8</td>\n",
              "      <td>2006</td>\n",
              "      <td>0</td>\n",
              "      <td>...</td>\n",
              "      <td>0</td>\n",
              "      <td>0</td>\n",
              "      <td>0</td>\n",
              "      <td>0</td>\n",
              "      <td>0</td>\n",
              "      <td>0</td>\n",
              "      <td>0</td>\n",
              "      <td>0</td>\n",
              "      <td>0</td>\n",
              "      <td>0</td>\n",
              "    </tr>\n",
              "  </tbody>\n",
              "</table>\n",
              "<p>5 rows × 119 columns</p>\n",
              "</div>"
            ],
            "text/plain": [
              "            budget  popularity  poster_path  runtime  logrevenue  release_day  \\\n",
              "2710  3.782991e+07    1.697118            1     77.0   14.946913           16   \n",
              "2520  7.777857e+06    5.810716            1    134.0   18.322124            8   \n",
              "1573  3.722982e+07    2.333661            1     84.0   13.788680            7   \n",
              "2152  3.782405e+07    4.468247            1     84.0   16.828206           23   \n",
              "838   3.722982e+07    7.464981            1    126.0   16.637113           31   \n",
              "\n",
              "      release_weekday  release_month  release_year   'name': 'Action'} ...  \\\n",
              "2710                0              5          2011                   0 ...   \n",
              "2520                2              9          1976                   0 ...   \n",
              "1573                2              6          2006                   0 ...   \n",
              "2152                4              2          2007                   1 ...   \n",
              "838                 3              8          2006                   0 ...   \n",
              "\n",
              "      pl  pt  ro  ru  sr  sv  ta  te  tr  zh  \n",
              "2710   0   0   0   0   0   0   0   0   0   0  \n",
              "2520   0   0   0   0   0   0   0   0   0   0  \n",
              "1573   0   0   0   0   0   0   0   0   0   0  \n",
              "2152   0   0   0   0   0   0   0   0   0   0  \n",
              "838    0   0   0   0   0   0   0   0   0   0  \n",
              "\n",
              "[5 rows x 119 columns]"
            ]
          },
          "metadata": {
            "tags": []
          },
          "execution_count": 86
        }
      ]
    },
    {
      "metadata": {
        "id": "14hfcpXDCPsi",
        "colab_type": "code",
        "colab": {
          "base_uri": "https://localhost:8080/",
          "height": 119
        },
        "outputId": "7c94340d-7a36-4948-959a-721a781d6126"
      },
      "cell_type": "code",
      "source": [
        "y_train.head()"
      ],
      "execution_count": 87,
      "outputs": [
        {
          "output_type": "execute_result",
          "data": {
            "text/plain": [
              "2710     3100000\n",
              "2520    90614445\n",
              "1573      973525\n",
              "2152    20342161\n",
              "838     16803753\n",
              "Name: revenue, dtype: int64"
            ]
          },
          "metadata": {
            "tags": []
          },
          "execution_count": 87
        }
      ]
    },
    {
      "metadata": {
        "id": "ntk2CdnjCYVD",
        "colab_type": "code",
        "colab": {
          "base_uri": "https://localhost:8080/",
          "height": 270
        },
        "outputId": "0b146559-3e96-40e6-d7ef-cc1c285b7a4e"
      },
      "cell_type": "code",
      "source": [
        "X_test.head()"
      ],
      "execution_count": 88,
      "outputs": [
        {
          "output_type": "execute_result",
          "data": {
            "text/html": [
              "<div>\n",
              "<style scoped>\n",
              "    .dataframe tbody tr th:only-of-type {\n",
              "        vertical-align: middle;\n",
              "    }\n",
              "\n",
              "    .dataframe tbody tr th {\n",
              "        vertical-align: top;\n",
              "    }\n",
              "\n",
              "    .dataframe thead th {\n",
              "        text-align: right;\n",
              "    }\n",
              "</style>\n",
              "<table border=\"1\" class=\"dataframe\">\n",
              "  <thead>\n",
              "    <tr style=\"text-align: right;\">\n",
              "      <th></th>\n",
              "      <th>budget</th>\n",
              "      <th>popularity</th>\n",
              "      <th>poster_path</th>\n",
              "      <th>runtime</th>\n",
              "      <th>logrevenue</th>\n",
              "      <th>release_day</th>\n",
              "      <th>release_weekday</th>\n",
              "      <th>release_month</th>\n",
              "      <th>release_year</th>\n",
              "      <th>'name': 'Action'}</th>\n",
              "      <th>...</th>\n",
              "      <th>pl</th>\n",
              "      <th>pt</th>\n",
              "      <th>ro</th>\n",
              "      <th>ru</th>\n",
              "      <th>sr</th>\n",
              "      <th>sv</th>\n",
              "      <th>ta</th>\n",
              "      <th>te</th>\n",
              "      <th>tr</th>\n",
              "      <th>zh</th>\n",
              "    </tr>\n",
              "  </thead>\n",
              "  <tbody>\n",
              "    <tr>\n",
              "      <th>2669</th>\n",
              "      <td>3.260476e+07</td>\n",
              "      <td>13.280069</td>\n",
              "      <td>1</td>\n",
              "      <td>81.0</td>\n",
              "      <td>19.662180</td>\n",
              "      <td>14</td>\n",
              "      <td>2</td>\n",
              "      <td>6</td>\n",
              "      <td>1995</td>\n",
              "      <td>0</td>\n",
              "      <td>...</td>\n",
              "      <td>0</td>\n",
              "      <td>0</td>\n",
              "      <td>0</td>\n",
              "      <td>0</td>\n",
              "      <td>0</td>\n",
              "      <td>0</td>\n",
              "      <td>0</td>\n",
              "      <td>0</td>\n",
              "      <td>0</td>\n",
              "      <td>0</td>\n",
              "    </tr>\n",
              "    <tr>\n",
              "      <th>2782</th>\n",
              "      <td>3.609165e+07</td>\n",
              "      <td>7.349812</td>\n",
              "      <td>1</td>\n",
              "      <td>123.0</td>\n",
              "      <td>18.168952</td>\n",
              "      <td>26</td>\n",
              "      <td>4</td>\n",
              "      <td>6</td>\n",
              "      <td>1998</td>\n",
              "      <td>0</td>\n",
              "      <td>...</td>\n",
              "      <td>0</td>\n",
              "      <td>0</td>\n",
              "      <td>0</td>\n",
              "      <td>0</td>\n",
              "      <td>0</td>\n",
              "      <td>0</td>\n",
              "      <td>0</td>\n",
              "      <td>0</td>\n",
              "      <td>0</td>\n",
              "      <td>0</td>\n",
              "    </tr>\n",
              "    <tr>\n",
              "      <th>221</th>\n",
              "      <td>2.695523e+07</td>\n",
              "      <td>8.358541</td>\n",
              "      <td>1</td>\n",
              "      <td>97.0</td>\n",
              "      <td>13.534388</td>\n",
              "      <td>13</td>\n",
              "      <td>4</td>\n",
              "      <td>11</td>\n",
              "      <td>1992</td>\n",
              "      <td>0</td>\n",
              "      <td>...</td>\n",
              "      <td>0</td>\n",
              "      <td>0</td>\n",
              "      <td>0</td>\n",
              "      <td>0</td>\n",
              "      <td>0</td>\n",
              "      <td>0</td>\n",
              "      <td>0</td>\n",
              "      <td>0</td>\n",
              "      <td>0</td>\n",
              "      <td>0</td>\n",
              "    </tr>\n",
              "    <tr>\n",
              "      <th>2747</th>\n",
              "      <td>1.342800e+07</td>\n",
              "      <td>6.493744</td>\n",
              "      <td>1</td>\n",
              "      <td>178.0</td>\n",
              "      <td>14.510567</td>\n",
              "      <td>9</td>\n",
              "      <td>2</td>\n",
              "      <td>4</td>\n",
              "      <td>1986</td>\n",
              "      <td>0</td>\n",
              "      <td>...</td>\n",
              "      <td>0</td>\n",
              "      <td>0</td>\n",
              "      <td>0</td>\n",
              "      <td>0</td>\n",
              "      <td>0</td>\n",
              "      <td>0</td>\n",
              "      <td>0</td>\n",
              "      <td>0</td>\n",
              "      <td>0</td>\n",
              "      <td>0</td>\n",
              "    </tr>\n",
              "    <tr>\n",
              "      <th>1051</th>\n",
              "      <td>2.236897e+07</td>\n",
              "      <td>2.592820</td>\n",
              "      <td>1</td>\n",
              "      <td>103.0</td>\n",
              "      <td>16.676999</td>\n",
              "      <td>19</td>\n",
              "      <td>4</td>\n",
              "      <td>10</td>\n",
              "      <td>1990</td>\n",
              "      <td>0</td>\n",
              "      <td>...</td>\n",
              "      <td>0</td>\n",
              "      <td>0</td>\n",
              "      <td>0</td>\n",
              "      <td>0</td>\n",
              "      <td>0</td>\n",
              "      <td>0</td>\n",
              "      <td>0</td>\n",
              "      <td>0</td>\n",
              "      <td>0</td>\n",
              "      <td>0</td>\n",
              "    </tr>\n",
              "  </tbody>\n",
              "</table>\n",
              "<p>5 rows × 119 columns</p>\n",
              "</div>"
            ],
            "text/plain": [
              "            budget  popularity  poster_path  runtime  logrevenue  release_day  \\\n",
              "2669  3.260476e+07   13.280069            1     81.0   19.662180           14   \n",
              "2782  3.609165e+07    7.349812            1    123.0   18.168952           26   \n",
              "221   2.695523e+07    8.358541            1     97.0   13.534388           13   \n",
              "2747  1.342800e+07    6.493744            1    178.0   14.510567            9   \n",
              "1051  2.236897e+07    2.592820            1    103.0   16.676999           19   \n",
              "\n",
              "      release_weekday  release_month  release_year   'name': 'Action'} ...  \\\n",
              "2669                2              6          1995                   0 ...   \n",
              "2782                4              6          1998                   0 ...   \n",
              "221                 4             11          1992                   0 ...   \n",
              "2747                2              4          1986                   0 ...   \n",
              "1051                4             10          1990                   0 ...   \n",
              "\n",
              "      pl  pt  ro  ru  sr  sv  ta  te  tr  zh  \n",
              "2669   0   0   0   0   0   0   0   0   0   0  \n",
              "2782   0   0   0   0   0   0   0   0   0   0  \n",
              "221    0   0   0   0   0   0   0   0   0   0  \n",
              "2747   0   0   0   0   0   0   0   0   0   0  \n",
              "1051   0   0   0   0   0   0   0   0   0   0  \n",
              "\n",
              "[5 rows x 119 columns]"
            ]
          },
          "metadata": {
            "tags": []
          },
          "execution_count": 88
        }
      ]
    },
    {
      "metadata": {
        "id": "Bd-WbqSACrZb",
        "colab_type": "code",
        "colab": {
          "base_uri": "https://localhost:8080/",
          "height": 119
        },
        "outputId": "1a9bf6f7-dc25-4d62-d3db-72194b087ff0"
      },
      "cell_type": "code",
      "source": [
        "y_test.head()"
      ],
      "execution_count": 89,
      "outputs": [
        {
          "output_type": "execute_result",
          "data": {
            "text/plain": [
              "2669    346079773\n",
              "2782     77745568\n",
              "221        754935\n",
              "2747      2003822\n",
              "1051     17487531\n",
              "Name: revenue, dtype: int64"
            ]
          },
          "metadata": {
            "tags": []
          },
          "execution_count": 89
        }
      ]
    },
    {
      "metadata": {
        "id": "sD8CKD9yC2U1",
        "colab_type": "code",
        "colab": {}
      },
      "cell_type": "code",
      "source": [
        "from sklearn.linear_model import LinearRegression\n",
        "from xgboost import XGBRegressor\n",
        "from lightgbm import LGBMRegressor"
      ],
      "execution_count": 0,
      "outputs": []
    },
    {
      "metadata": {
        "id": "E6kNP4iuRnCd",
        "colab_type": "code",
        "colab": {}
      },
      "cell_type": "code",
      "source": [
        "lr_ = LinearRegression()\n",
        "lr_.fit(X_train,y_train)\n",
        "pred = lr_.predict(X_test)"
      ],
      "execution_count": 0,
      "outputs": []
    },
    {
      "metadata": {
        "id": "M7uofC66R6Vz",
        "colab_type": "code",
        "colab": {
          "base_uri": "https://localhost:8080/",
          "height": 341
        },
        "outputId": "e355243f-1eae-4d6a-eca7-6812e067e10f"
      },
      "cell_type": "code",
      "source": [
        "sns.distplot((y_test-pred),bins=50)\n",
        "plt.show()"
      ],
      "execution_count": 93,
      "outputs": [
        {
          "output_type": "stream",
          "text": [
            "/usr/local/lib/python3.6/dist-packages/matplotlib/axes/_axes.py:6521: MatplotlibDeprecationWarning: \n",
            "The 'normed' kwarg was deprecated in Matplotlib 2.1 and will be removed in 3.1. Use 'density' instead.\n",
            "  alternative=\"'density'\", removal=\"3.1\")\n"
          ],
          "name": "stderr"
        },
        {
          "output_type": "display_data",
          "data": {
            "image/png": "[encoded data removed]",
            "text/plain": [
              "<Figure size 432x288 with 1 Axes>"
            ]
          },
          "metadata": {
            "tags": []
          }
        }
      ]
    },
    {
      "metadata": {
        "id": "sAQVuahaSCZK",
        "colab_type": "code",
        "colab": {}
      },
      "cell_type": "code",
      "source": [
        "def rmsle(y_true, y_pred):\n",
        "    return 'rmsle', np.sqrt(np.mean(np.power(np.log1p(y_pred) - np.log1p(y_true), 2))), False"
      ],
      "execution_count": 0,
      "outputs": []
    },
    {
      "metadata": {
        "id": "N71o05EjT03G",
        "colab_type": "code",
        "colab": {
          "base_uri": "https://localhost:8080/",
          "height": 119
        },
        "outputId": "9dbcb0b5-84c9-4ad6-848b-a635e9978a08"
      },
      "cell_type": "code",
      "source": [
        "from sklearn import metrics\n",
        "print('MAE:', metrics.mean_absolute_error(y_test, pred))\n",
        "print('MSE:', metrics.mean_squared_error(y_test, pred))\n",
        "print('RMSE:', np.sqrt(metrics.mean_squared_error(y_test, pred)))\n",
        "print('RMSLE:', rmsle(y_test, pred))"
      ],
      "execution_count": 95,
      "outputs": [
        {
          "output_type": "stream",
          "text": [
            "MAE: 62736650.024934866\n",
            "MSE: 9730288760802592.0\n",
            "RMSE: 98642226.05356488\n",
            "RMSLE: ('rmsle', 1.436716443961077, False)\n"
          ],
          "name": "stdout"
        },
        {
          "output_type": "stream",
          "text": [
            "/usr/local/lib/python3.6/dist-packages/ipykernel_launcher.py:2: RuntimeWarning: invalid value encountered in log1p\n",
            "  \n"
          ],
          "name": "stderr"
        }
      ]
    },
    {
      "metadata": {
        "id": "AqWkSRVsT2tD",
        "colab_type": "code",
        "colab": {
          "base_uri": "https://localhost:8080/",
          "height": 51
        },
        "outputId": "fa7a8a84-53c7-4f7a-eaad-2aac6b0a1ff1"
      },
      "cell_type": "code",
      "source": [
        "lr = LGBMRegressor(boosting_type='dart',num_leaves=20,max_depth=-1,min_data_in_leaf=20, learning_rate=0.2,n_estimators=500,subsample_for_bin=200000,\n",
        "                   class_weight=None,min_split_gain=0.0,min_child_weight=0.001,subsample=0.1,subsample_freq=0,colsample_bytree=0.75,reg_alpha=0.0,reg_lambda=0.0,\n",
        "                   random_state=101,n_jobs=-1)\n",
        "lr.fit(X_train, y_train,eval_set=[(X_test, y_test)],eval_metric=rmsle,verbose=False)\n",
        "pred = lr.predict(X_test, num_iteration=lr.best_iteration_)"
      ],
      "execution_count": 96,
      "outputs": [
        {
          "output_type": "stream",
          "text": [
            "/usr/local/lib/python3.6/dist-packages/ipykernel_launcher.py:2: RuntimeWarning: invalid value encountered in log1p\n",
            "  \n"
          ],
          "name": "stderr"
        }
      ]
    },
    {
      "metadata": {
        "id": "mSQlDX9hULc7",
        "colab_type": "code",
        "colab": {
          "base_uri": "https://localhost:8080/",
          "height": 119
        },
        "outputId": "e4128282-ee8a-40d9-efa8-8ac9fc463d98"
      },
      "cell_type": "code",
      "source": [
        "print('MAE:', metrics.mean_absolute_error(y_test, pred))\n",
        "print('MSE:', metrics.mean_squared_error(y_test, pred))\n",
        "print('RMSE:', np.sqrt(metrics.mean_squared_error(y_test, pred)))\n",
        "print('RMSLE:', rmsle(y_test, pred))"
      ],
      "execution_count": 97,
      "outputs": [
        {
          "output_type": "stream",
          "text": [
            "MAE: 4939465.165401192\n",
            "MSE: 217620823124349.66\n",
            "RMSE: 14751976.922580568\n",
            "RMSLE: ('rmsle', 1.1588912715928728, False)\n"
          ],
          "name": "stdout"
        },
        {
          "output_type": "stream",
          "text": [
            "/usr/local/lib/python3.6/dist-packages/ipykernel_launcher.py:2: RuntimeWarning: invalid value encountered in log1p\n",
            "  \n"
          ],
          "name": "stderr"
        }
      ]
    },
    {
      "metadata": {
        "id": "rj8WQVlqULZg",
        "colab_type": "code",
        "colab": {
          "base_uri": "https://localhost:8080/",
          "height": 508
        },
        "outputId": "5b6d9ad4-ed01-42c4-9b1d-ed78fe272640"
      },
      "cell_type": "code",
      "source": [
        "fig, ax = plt.subplots()\n",
        "ax.scatter(y_test, pred)\n",
        "ax.plot([y_test.min(), y_test.max()], [y_test.min(), y_test.max()], lw=1)\n",
        "ax.set_xlabel('Measured')\n",
        "ax.set_ylabel('Predicted')\n",
        "plt.show()"
      ],
      "execution_count": 102,
      "outputs": [
        {
          "output_type": "display_data",
          "data": {
            "image/png": "[encoded data removed]",
            "text/plain": [
              "<Figure size 576x576 with 1 Axes>"
            ]
          },
          "metadata": {
            "tags": []
          }
        }
      ]
    },
    {
      "metadata": {
        "id": "cBbUJe3sXknc",
        "colab_type": "code",
        "colab": {
          "base_uri": "https://localhost:8080/",
          "height": 68
        },
        "outputId": "dc9fe47b-43a3-44e3-f14e-dc819b4ad9f1"
      },
      "cell_type": "code",
      "source": [
        "lr.best_score_"
      ],
      "execution_count": 103,
      "outputs": [
        {
          "output_type": "execute_result",
          "data": {
            "text/plain": [
              "defaultdict(dict,\n",
              "            {'valid_0': {'l2': 217620803246481.47,\n",
              "              'rmsle': 1.1588912715928696}})"
            ]
          },
          "metadata": {
            "tags": []
          },
          "execution_count": 103
        }
      ]
    },
    {
      "metadata": {
        "id": "ALJ3KXmwXmgo",
        "colab_type": "code",
        "colab": {}
      },
      "cell_type": "code",
      "source": [
        "# features = list(X.columns)\n",
        "\n",
        "importance = lr.feature_importances_\n",
        "\n",
        "# feature_indexes_by_importance = importance.argsort()\n",
        "# for index in feature_indexes_by_importance:\n",
        "#     print('{}-{:.2f}%'.format(features[index], (importance[index] *100.0)))"
      ],
      "execution_count": 0,
      "outputs": []
    },
    {
      "metadata": {
        "id": "rjoXn2oGXp83",
        "colab_type": "code",
        "colab": {
          "base_uri": "https://localhost:8080/",
          "height": 204
        },
        "outputId": "9c884216-4853-4d2f-b397-22caaa1633be"
      },
      "cell_type": "code",
      "source": [
        "importance"
      ],
      "execution_count": 110,
      "outputs": [
        {
          "output_type": "execute_result",
          "data": {
            "text/plain": [
              "array([ 496, 1561,    0,  789, 4115,  244,  179,  353,  494,   73,   14,\n",
              "        126,   60,   23,    0,   30,    3,    1,    2,    0,    0,   47,\n",
              "         21,   30,   20,    3,    0,    0,    0,    2,    0,    4,    0,\n",
              "          0,    0,    0,    0,    1,    0,   70,   11,    0,   16,    7,\n",
              "          0,    2,    0,    0,    1,    2,  131,    0,    0,   75,   22,\n",
              "          6,   33,    5,   86,   18,    0,    0,   22,    7,   62,    1,\n",
              "          0,    0,    1,    6,    0,    0,    0,   47,    1,   18,   32,\n",
              "          1,   34,    2,    0,    0,    0,    2,   29,    0,    0,    0,\n",
              "          0,    0,    0,    0,    0,   58,    1,    0,    0,    0,    0,\n",
              "          0,    0,    0,    0,    0,    0,    0,    0,    0,    0,    0,\n",
              "          0,    0,    0,    0,    0,    0,    0,    0,    0])"
            ]
          },
          "metadata": {
            "tags": []
          },
          "execution_count": 110
        }
      ]
    },
    {
      "metadata": {
        "id": "HGdvBrRvYg7r",
        "colab_type": "code",
        "colab": {
          "base_uri": "https://localhost:8080/",
          "height": 34
        },
        "outputId": "fa9ae78e-b2e5-4c35-94e5-548bbd716baa"
      },
      "cell_type": "code",
      "source": [
        "lr.n_estimators"
      ],
      "execution_count": 111,
      "outputs": [
        {
          "output_type": "execute_result",
          "data": {
            "text/plain": [
              "500"
            ]
          },
          "metadata": {
            "tags": []
          },
          "execution_count": 111
        }
      ]
    }
  ]
}